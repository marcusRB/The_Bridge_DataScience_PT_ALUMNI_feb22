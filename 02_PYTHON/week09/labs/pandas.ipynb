{
 "cells": [
  {
   "cell_type": "markdown",
   "metadata": {},
   "source": [
    "# Librería Pandas - Análisis de datos"
   ]
  },
  {
   "cell_type": "markdown",
   "metadata": {},
   "source": [
    "Pandas es una librería de Python que nos ofrece una interfaz de alto nivel para manipular y analizar datos. La librería ofrece estructuras de datos flexibles sobre las que cargar los datos e implementa operaciones sobre estas estructuras que resultan muy intuitivas de usar y, a la vez, son eficientes. Por este motivo, es una de las herramientas más utilizadas en el análisis de datos en Python. Pandas también forma parte del SciPy stack."
   ]
  },
  {
   "cell_type": "code",
   "execution_count": 1,
   "metadata": {},
   "outputs": [],
   "source": [
    "# En la siguiente línea, importamos pandas y le damos un nombre más corto \n",
    "# para que nos sea más cómodo hacer las llamadas.\n",
    "import pandas as pd\n",
    "# Importamos también NumPy, ya que la usaremos en alguno de los ejemplos.\n",
    "import numpy as np"
   ]
  },
  {
   "cell_type": "markdown",
   "metadata": {},
   "source": [
    "### Estructuras de datos básicas\n",
    "Pandas provee de tres estructuras de datos: la **serie**, el **dataframe** y antiguamente el panel (actualmente, los dataframes y las series con índices multinivel). Veamos las características de cada una de ellas.Una serie es un **vector unidimensional** con etiquetas en los ejes y datos homogéneos. Repasemos qué implican cada una de estas características con unos ejemplos.La serie nos permite representar un conjunto de datos unidimensionales, por ejemplo, una lista de enteros, decimales o de cadenas de caracteres: "
   ]
  },
  {
   "cell_type": "code",
   "execution_count": 2,
   "metadata": {},
   "outputs": [
    {
     "name": "stdout",
     "output_type": "stream",
     "text": [
      "0    1\n",
      "1    1\n",
      "2    2\n",
      "3    3\n",
      "4    5\n",
      "dtype: int64\n"
     ]
    }
   ],
   "source": [
    "print(pd.Series([1, 1, 2, 3, 5]))"
   ]
  },
  {
   "cell_type": "code",
   "execution_count": 3,
   "metadata": {},
   "outputs": [
    {
     "name": "stdout",
     "output_type": "stream",
     "text": [
      "0    1.50\n",
      "1    3.50\n",
      "2    4.75\n",
      "dtype: float64\n"
     ]
    }
   ],
   "source": [
    "print(pd.Series([1.5, 3.5, 4.75]))"
   ]
  },
  {
   "cell_type": "markdown",
   "metadata": {},
   "source": [
    "Los datos de una serie tienen que ser homogéneos, es decir, tienen que ser del mismo tipo. En los ejemplos anteriores, la primera serie está formada por enteros (int64) mientras que la segunda contiene números en punto flotante (float)."
   ]
  },
  {
   "cell_type": "code",
   "execution_count": 4,
   "metadata": {},
   "outputs": [
    {
     "name": "stdout",
     "output_type": "stream",
     "text": [
      "0    1.0\n",
      "1    2.0\n",
      "2    3.5\n",
      "dtype: float64\n"
     ]
    }
   ],
   "source": [
    "# Mezclamos enteros y floats, la serie es de tipo float.\n",
    "print(pd.Series([1, 2, 3.5]))"
   ]
  },
  {
   "cell_type": "code",
   "execution_count": 6,
   "metadata": {},
   "outputs": [
    {
     "name": "stdout",
     "output_type": "stream",
     "text": [
      "0       1\n",
      "1    None\n",
      "2     3.5\n",
      "3    Hola\n",
      "4    True\n",
      "dtype: object\n"
     ]
    }
   ],
   "source": [
    "# Mezclamos enteros y floats, la serie es de tipo float.\n",
    "print(pd.Series([1, None, 3.5, \"Hola\", True]))"
   ]
  },
  {
   "cell_type": "markdown",
   "metadata": {},
   "source": [
    " Por último, la serie puede tener etiquetas, de manera que podemos acceder a los elementos de una serie tanto a partir de su índice como de su etiqueta."
   ]
  },
  {
   "cell_type": "code",
   "execution_count": 7,
   "metadata": {},
   "outputs": [
    {
     "name": "stdout",
     "output_type": "stream",
     "text": [
      "alice    2\n",
      "bob      3\n",
      "eve      5\n",
      "dtype: int64\n"
     ]
    }
   ],
   "source": [
    "# Creamos una serie etiquetada a partir de un diccionario.\n",
    "s = pd.Series({\"alice\" : 2, \"bob\": 3, \"eve\": 5})\n",
    "print(s)"
   ]
  },
  {
   "cell_type": "code",
   "execution_count": 8,
   "metadata": {},
   "outputs": [
    {
     "data": {
      "text/plain": [
       "2"
      ]
     },
     "execution_count": 8,
     "metadata": {},
     "output_type": "execute_result"
    }
   ],
   "source": [
    "s['alice']"
   ]
  },
  {
   "cell_type": "code",
   "execution_count": 9,
   "metadata": {},
   "outputs": [
    {
     "name": "stdout",
     "output_type": "stream",
     "text": [
      "2\n"
     ]
    }
   ],
   "source": [
    "# Accedemos a los elementos de la serie a partir de su etiqueta.\n",
    "print(s[\"alice\"])"
   ]
  },
  {
   "cell_type": "code",
   "execution_count": 10,
   "metadata": {},
   "outputs": [
    {
     "name": "stdout",
     "output_type": "stream",
     "text": [
      "2\n"
     ]
    }
   ],
   "source": [
    "# Accedemos a los elementos de la serie a partir de su índice.\n",
    "print(s[0])"
   ]
  },
  {
   "cell_type": "code",
   "execution_count": 11,
   "metadata": {},
   "outputs": [
    {
     "name": "stdout",
     "output_type": "stream",
     "text": [
      "alice    2\n",
      "bob      3\n",
      "eve      5\n",
      "dtype: int64\n"
     ]
    }
   ],
   "source": [
    "# Creamos una serie etiquetada a partir de dos vectores, uno con los datos y otro con las etiquetas.\n",
    "print(pd.Series([2, 3, 5], index = [\"alice\", \"bob\", \"eve\"]))"
   ]
  },
  {
   "cell_type": "markdown",
   "metadata": {},
   "source": [
    "La segunda estructura de datos de pandas que presentaremos es el **dataframe**.Un dataframe es una tabla bidimensional con etiquetas en los ejes y datos potencialmente heterogéneos. El dataframe es la estructura principal de trabajo con la librería pandas.Veamos las características principales de un dataframe con algunos ejemplos.A diferencia de una serie, un dataframe es **bidimensional**:"
   ]
  },
  {
   "cell_type": "code",
   "execution_count": 12,
   "metadata": {},
   "outputs": [
    {
     "name": "stdout",
     "output_type": "stream",
     "text": [
      "   0  1  2\n",
      "0  1  2  3\n",
      "1  4  5  6\n"
     ]
    }
   ],
   "source": [
    "print(pd.DataFrame([[1, 2, 3], [4, 5, 6]]))"
   ]
  },
  {
   "cell_type": "markdown",
   "metadata": {},
   "source": [
    "Al igual que la serie, el dataframe puede tener etiquetas en los ejes y podemos utilizar diferentes sintaxis para incluir las etiquetas en el dataframe."
   ]
  },
  {
   "cell_type": "code",
   "execution_count": 13,
   "metadata": {},
   "outputs": [
    {
     "name": "stdout",
     "output_type": "stream",
     "text": [
      "       alice   bob   eve\n",
      "year    1953  1955  2011\n",
      "month     12    11    10\n",
      "day        3    24    10\n"
     ]
    }
   ],
   "source": [
    "# Utilizamos un diccionario para definir cada columna y una lista para indicar las etiquetas de las filas.\n",
    "d = {\"alice\" : [1953, 12, 3], \"bob\" : [1955, 11, 24], \"eve\" : [2011, 10, 10]}\n",
    "print(pd.DataFrame(d, index=[\"year\", \"month\", \"day\"]))"
   ]
  },
  {
   "cell_type": "code",
   "execution_count": 14,
   "metadata": {},
   "outputs": [
    {
     "name": "stdout",
     "output_type": "stream",
     "text": [
      "       year  month  day\n",
      "alice  1953     12    3\n",
      "bob    1955     11   24\n",
      "eve    2011     10   10\n"
     ]
    }
   ],
   "source": [
    "# Utilizamos una lista de listas para introducir los datos y dos listas adicionales \n",
    "# para indicar las etiquetas de filas y las columnas.\n",
    "a = [[1953, 12, 3], [1955, 11, 24], [2011, 10, 10]]\n",
    "print(pd.DataFrame(a, columns=[\"year\", \"month\", \"day\"], index = [\"alice\", \"bob\", \"eve\"]))"
   ]
  },
  {
   "cell_type": "markdown",
   "metadata": {},
   "source": [
    " Cada una de las columnas de un dataframe puede tener tipos de datos distintos, dando lugar a dataframes heterogéneos:"
   ]
  },
  {
   "cell_type": "code",
   "execution_count": 15,
   "metadata": {},
   "outputs": [
    {
     "name": "stdout",
     "output_type": "stream",
     "text": [
      "       year             major  average grade\n",
      "alice  1953  computer science            3.5\n",
      "bob    1955        archeology            3.8\n",
      "eve    2011           biology            2.8\n"
     ]
    }
   ],
   "source": [
    "a = [[1953, \"computer science\", 3.5], [1955, \"archeology\", 3.8], [2011, \"biology\", 2.8]]\n",
    "print(pd.DataFrame(a, columns=[\"year\", \"major\", \"average grade\"], index = [\"alice\", \"bob\", \"eve\"]))"
   ]
  },
  {
   "cell_type": "markdown",
   "metadata": {},
   "source": [
    "En versiones anteriores de pandas, disponíamos del **panel** como tercera estructura de datos. Un panel es una estructura de datos tridimensional que puede contener etiquetas en los ejes y puede ser heterogénea."
   ]
  },
  {
   "cell_type": "code",
   "execution_count": 16,
   "metadata": {},
   "outputs": [],
   "source": [
    "img = [[[0, 0, 0], [0, 15, 0], [0, 0, 15], [15, 0, 0], [180, 180, 180]],\n",
    "       [[200, 200, 200], [125, 1, 125], [100, 100, 2], [1, 152, 125], [15, 25, 20]]]\n",
    "       \n",
    "# Utilizamos números para indexar filas y columnas, y las letras\n",
    "# \"R\", \"G\", \"B\" para indicar el contenido de este color en cada píxel\n",
    "index = pd.MultiIndex.from_product(\n",
    "    [range(len(img)), range(len(img[0])), [\"R\", \"G\", \"B\"]], \n",
    "    names=['row', 'column', 'color'])"
   ]
  },
  {
   "cell_type": "code",
   "execution_count": 17,
   "metadata": {},
   "outputs": [
    {
     "data": {
      "text/plain": [
       "row  column  color\n",
       "0    0       R          0\n",
       "             G          0\n",
       "             B          0\n",
       "     1       R          0\n",
       "             G         15\n",
       "             B          0\n",
       "     2       R          0\n",
       "             G          0\n",
       "             B         15\n",
       "     3       R         15\n",
       "             G          0\n",
       "             B          0\n",
       "     4       R        180\n",
       "             G        180\n",
       "             B        180\n",
       "1    0       R        200\n",
       "             G        200\n",
       "             B        200\n",
       "     1       R        125\n",
       "             G          1\n",
       "             B        125\n",
       "     2       R        100\n",
       "             G        100\n",
       "             B          2\n",
       "     3       R          1\n",
       "             G        152\n",
       "             B        125\n",
       "     4       R         15\n",
       "             G         25\n",
       "             B         20\n",
       "dtype: int64"
      ]
     },
     "execution_count": 17,
     "metadata": {},
     "output_type": "execute_result"
    }
   ],
   "source": [
    "# Creamos la serie con el índice multidimensional especificando los datos\n",
    "# y los índices\n",
    "s = pd.Series([x for row in img for col in row for x in col], \n",
    "               index=index)\n",
    "s"
   ]
  },
  {
   "cell_type": "markdown",
   "metadata": {},
   "source": [
    "Visualicemos gráficamente la imagen para entender mejor la representación escogida. La imagen tiene 2 filas y 5 columnas y para cada píxel utilizamos 3 valores numéricos para representar su color."
   ]
  },
  {
   "cell_type": "code",
   "execution_count": 18,
   "metadata": {},
   "outputs": [
    {
     "name": "stdout",
     "output_type": "stream",
     "text": [
      "%pylab is deprecated, use %matplotlib inline and import the required libraries.\n",
      "Populating the interactive namespace from numpy and matplotlib\n"
     ]
    },
    {
     "data": {
      "text/plain": [
       "<matplotlib.image.AxesImage at 0x1e937875970>"
      ]
     },
     "execution_count": 18,
     "metadata": {},
     "output_type": "execute_result"
    },
    {
     "data": {
      "image/png": "[encoded data removed]",
      "text/plain": [
       "<Figure size 432x288 with 1 Axes>"
      ]
     },
     "metadata": {
      "needs_background": "light"
     },
     "output_type": "display_data"
    }
   ],
   "source": [
    "%pylab inline\n",
    "from pylab import imshow\n",
    "imshow(array(img, dtype=uint16), interpolation='nearest')"
   ]
  },
  {
   "cell_type": "markdown",
   "metadata": {},
   "source": [
    "## Exploración del dataframe"
   ]
  },
  {
   "cell_type": "code",
   "execution_count": 19,
   "metadata": {},
   "outputs": [
    {
     "name": "stdout",
     "output_type": "stream",
     "text": [
      "<class 'pandas.core.frame.DataFrame'>\n"
     ]
    }
   ],
   "source": [
    "# Cargamos los datos\n",
    "data = pd.read_csv(\"carpeta_ficheros/data_marvel-wikia-data.csv\")\n",
    "print(type(data))"
   ]
  },
  {
   "cell_type": "code",
   "execution_count": 20,
   "metadata": {},
   "outputs": [
    {
     "data": {
      "text/html": [
       "<div>\n",
       "<style scoped>\n",
       "    .dataframe tbody tr th:only-of-type {\n",
       "        vertical-align: middle;\n",
       "    }\n",
       "\n",
       "    .dataframe tbody tr th {\n",
       "        vertical-align: top;\n",
       "    }\n",
       "\n",
       "    .dataframe thead th {\n",
       "        text-align: right;\n",
       "    }\n",
       "</style>\n",
       "<table border=\"1\" class=\"dataframe\">\n",
       "  <thead>\n",
       "    <tr style=\"text-align: right;\">\n",
       "      <th></th>\n",
       "      <th>page_id</th>\n",
       "      <th>name</th>\n",
       "      <th>urlslug</th>\n",
       "      <th>ID</th>\n",
       "      <th>ALIGN</th>\n",
       "      <th>EYE</th>\n",
       "      <th>HAIR</th>\n",
       "      <th>SEX</th>\n",
       "      <th>GSM</th>\n",
       "      <th>ALIVE</th>\n",
       "      <th>APPEARANCES</th>\n",
       "      <th>FIRST APPEARANCE</th>\n",
       "      <th>Year</th>\n",
       "    </tr>\n",
       "  </thead>\n",
       "  <tbody>\n",
       "    <tr>\n",
       "      <th>0</th>\n",
       "      <td>1678</td>\n",
       "      <td>Spider-Man (Peter Parker)</td>\n",
       "      <td>\\/Spider-Man_(Peter_Parker)</td>\n",
       "      <td>Secret Identity</td>\n",
       "      <td>Good Characters</td>\n",
       "      <td>Hazel Eyes</td>\n",
       "      <td>Brown Hair</td>\n",
       "      <td>Male Characters</td>\n",
       "      <td>NaN</td>\n",
       "      <td>Living Characters</td>\n",
       "      <td>4043.0</td>\n",
       "      <td>Aug-62</td>\n",
       "      <td>1962.0</td>\n",
       "    </tr>\n",
       "    <tr>\n",
       "      <th>1</th>\n",
       "      <td>7139</td>\n",
       "      <td>Captain America (Steven Rogers)</td>\n",
       "      <td>\\/Captain_America_(Steven_Rogers)</td>\n",
       "      <td>Public Identity</td>\n",
       "      <td>Good Characters</td>\n",
       "      <td>Blue Eyes</td>\n",
       "      <td>White Hair</td>\n",
       "      <td>Male Characters</td>\n",
       "      <td>NaN</td>\n",
       "      <td>Living Characters</td>\n",
       "      <td>3360.0</td>\n",
       "      <td>Mar-41</td>\n",
       "      <td>1941.0</td>\n",
       "    </tr>\n",
       "    <tr>\n",
       "      <th>2</th>\n",
       "      <td>64786</td>\n",
       "      <td>Wolverine (James \\\"Logan\\\" Howlett)</td>\n",
       "      <td>\\/Wolverine_(James_%22Logan%22_Howlett)</td>\n",
       "      <td>Public Identity</td>\n",
       "      <td>Neutral Characters</td>\n",
       "      <td>Blue Eyes</td>\n",
       "      <td>Black Hair</td>\n",
       "      <td>Male Characters</td>\n",
       "      <td>NaN</td>\n",
       "      <td>Living Characters</td>\n",
       "      <td>3061.0</td>\n",
       "      <td>Oct-74</td>\n",
       "      <td>1974.0</td>\n",
       "    </tr>\n",
       "    <tr>\n",
       "      <th>3</th>\n",
       "      <td>1868</td>\n",
       "      <td>Iron Man (Anthony \\\"Tony\\\" Stark)</td>\n",
       "      <td>\\/Iron_Man_(Anthony_%22Tony%22_Stark)</td>\n",
       "      <td>Public Identity</td>\n",
       "      <td>Good Characters</td>\n",
       "      <td>Blue Eyes</td>\n",
       "      <td>Black Hair</td>\n",
       "      <td>Male Characters</td>\n",
       "      <td>NaN</td>\n",
       "      <td>Living Characters</td>\n",
       "      <td>2961.0</td>\n",
       "      <td>Mar-63</td>\n",
       "      <td>1963.0</td>\n",
       "    </tr>\n",
       "    <tr>\n",
       "      <th>4</th>\n",
       "      <td>2460</td>\n",
       "      <td>Thor (Thor Odinson)</td>\n",
       "      <td>\\/Thor_(Thor_Odinson)</td>\n",
       "      <td>No Dual Identity</td>\n",
       "      <td>Good Characters</td>\n",
       "      <td>Blue Eyes</td>\n",
       "      <td>Blond Hair</td>\n",
       "      <td>Male Characters</td>\n",
       "      <td>NaN</td>\n",
       "      <td>Living Characters</td>\n",
       "      <td>2258.0</td>\n",
       "      <td>Nov-50</td>\n",
       "      <td>1950.0</td>\n",
       "    </tr>\n",
       "    <tr>\n",
       "      <th>...</th>\n",
       "      <td>...</td>\n",
       "      <td>...</td>\n",
       "      <td>...</td>\n",
       "      <td>...</td>\n",
       "      <td>...</td>\n",
       "      <td>...</td>\n",
       "      <td>...</td>\n",
       "      <td>...</td>\n",
       "      <td>...</td>\n",
       "      <td>...</td>\n",
       "      <td>...</td>\n",
       "      <td>...</td>\n",
       "      <td>...</td>\n",
       "    </tr>\n",
       "    <tr>\n",
       "      <th>16371</th>\n",
       "      <td>657508</td>\n",
       "      <td>Ru'ach (Earth-616)</td>\n",
       "      <td>\\/Ru%27ach_(Earth-616)</td>\n",
       "      <td>No Dual Identity</td>\n",
       "      <td>Bad Characters</td>\n",
       "      <td>Green Eyes</td>\n",
       "      <td>No Hair</td>\n",
       "      <td>Male Characters</td>\n",
       "      <td>NaN</td>\n",
       "      <td>Living Characters</td>\n",
       "      <td>NaN</td>\n",
       "      <td>NaN</td>\n",
       "      <td>NaN</td>\n",
       "    </tr>\n",
       "    <tr>\n",
       "      <th>16372</th>\n",
       "      <td>665474</td>\n",
       "      <td>Thane (Thanos' son) (Earth-616)</td>\n",
       "      <td>\\/Thane_(Thanos%27_son)_(Earth-616)</td>\n",
       "      <td>No Dual Identity</td>\n",
       "      <td>Good Characters</td>\n",
       "      <td>Blue Eyes</td>\n",
       "      <td>Bald</td>\n",
       "      <td>Male Characters</td>\n",
       "      <td>NaN</td>\n",
       "      <td>Living Characters</td>\n",
       "      <td>NaN</td>\n",
       "      <td>NaN</td>\n",
       "      <td>NaN</td>\n",
       "    </tr>\n",
       "    <tr>\n",
       "      <th>16373</th>\n",
       "      <td>695217</td>\n",
       "      <td>Tinkerer (Skrull) (Earth-616)</td>\n",
       "      <td>\\/Tinkerer_(Skrull)_(Earth-616)</td>\n",
       "      <td>Secret Identity</td>\n",
       "      <td>Bad Characters</td>\n",
       "      <td>Black Eyes</td>\n",
       "      <td>Bald</td>\n",
       "      <td>Male Characters</td>\n",
       "      <td>NaN</td>\n",
       "      <td>Living Characters</td>\n",
       "      <td>NaN</td>\n",
       "      <td>NaN</td>\n",
       "      <td>NaN</td>\n",
       "    </tr>\n",
       "    <tr>\n",
       "      <th>16374</th>\n",
       "      <td>708811</td>\n",
       "      <td>TK421 (Spiderling) (Earth-616)</td>\n",
       "      <td>\\/TK421_(Spiderling)_(Earth-616)</td>\n",
       "      <td>Secret Identity</td>\n",
       "      <td>Neutral Characters</td>\n",
       "      <td>NaN</td>\n",
       "      <td>NaN</td>\n",
       "      <td>Male Characters</td>\n",
       "      <td>NaN</td>\n",
       "      <td>Living Characters</td>\n",
       "      <td>NaN</td>\n",
       "      <td>NaN</td>\n",
       "      <td>NaN</td>\n",
       "    </tr>\n",
       "    <tr>\n",
       "      <th>16375</th>\n",
       "      <td>673702</td>\n",
       "      <td>Yologarch (Earth-616)</td>\n",
       "      <td>\\/Yologarch_(Earth-616)</td>\n",
       "      <td>NaN</td>\n",
       "      <td>Bad Characters</td>\n",
       "      <td>NaN</td>\n",
       "      <td>NaN</td>\n",
       "      <td>NaN</td>\n",
       "      <td>NaN</td>\n",
       "      <td>Living Characters</td>\n",
       "      <td>NaN</td>\n",
       "      <td>NaN</td>\n",
       "      <td>NaN</td>\n",
       "    </tr>\n",
       "  </tbody>\n",
       "</table>\n",
       "<p>16376 rows × 13 columns</p>\n",
       "</div>"
      ],
      "text/plain": [
       "       page_id                                 name  \\\n",
       "0         1678            Spider-Man (Peter Parker)   \n",
       "1         7139      Captain America (Steven Rogers)   \n",
       "2        64786  Wolverine (James \\\"Logan\\\" Howlett)   \n",
       "3         1868    Iron Man (Anthony \\\"Tony\\\" Stark)   \n",
       "4         2460                  Thor (Thor Odinson)   \n",
       "...        ...                                  ...   \n",
       "16371   657508                   Ru'ach (Earth-616)   \n",
       "16372   665474      Thane (Thanos' son) (Earth-616)   \n",
       "16373   695217        Tinkerer (Skrull) (Earth-616)   \n",
       "16374   708811       TK421 (Spiderling) (Earth-616)   \n",
       "16375   673702                Yologarch (Earth-616)   \n",
       "\n",
       "                                       urlslug                ID  \\\n",
       "0                  \\/Spider-Man_(Peter_Parker)   Secret Identity   \n",
       "1            \\/Captain_America_(Steven_Rogers)   Public Identity   \n",
       "2      \\/Wolverine_(James_%22Logan%22_Howlett)   Public Identity   \n",
       "3        \\/Iron_Man_(Anthony_%22Tony%22_Stark)   Public Identity   \n",
       "4                        \\/Thor_(Thor_Odinson)  No Dual Identity   \n",
       "...                                        ...               ...   \n",
       "16371                   \\/Ru%27ach_(Earth-616)  No Dual Identity   \n",
       "16372      \\/Thane_(Thanos%27_son)_(Earth-616)  No Dual Identity   \n",
       "16373          \\/Tinkerer_(Skrull)_(Earth-616)   Secret Identity   \n",
       "16374         \\/TK421_(Spiderling)_(Earth-616)   Secret Identity   \n",
       "16375                  \\/Yologarch_(Earth-616)               NaN   \n",
       "\n",
       "                    ALIGN         EYE        HAIR              SEX  GSM  \\\n",
       "0         Good Characters  Hazel Eyes  Brown Hair  Male Characters  NaN   \n",
       "1         Good Characters   Blue Eyes  White Hair  Male Characters  NaN   \n",
       "2      Neutral Characters   Blue Eyes  Black Hair  Male Characters  NaN   \n",
       "3         Good Characters   Blue Eyes  Black Hair  Male Characters  NaN   \n",
       "4         Good Characters   Blue Eyes  Blond Hair  Male Characters  NaN   \n",
       "...                   ...         ...         ...              ...  ...   \n",
       "16371      Bad Characters  Green Eyes     No Hair  Male Characters  NaN   \n",
       "16372     Good Characters   Blue Eyes        Bald  Male Characters  NaN   \n",
       "16373      Bad Characters  Black Eyes        Bald  Male Characters  NaN   \n",
       "16374  Neutral Characters         NaN         NaN  Male Characters  NaN   \n",
       "16375      Bad Characters         NaN         NaN              NaN  NaN   \n",
       "\n",
       "                   ALIVE  APPEARANCES FIRST APPEARANCE    Year  \n",
       "0      Living Characters       4043.0           Aug-62  1962.0  \n",
       "1      Living Characters       3360.0           Mar-41  1941.0  \n",
       "2      Living Characters       3061.0           Oct-74  1974.0  \n",
       "3      Living Characters       2961.0           Mar-63  1963.0  \n",
       "4      Living Characters       2258.0           Nov-50  1950.0  \n",
       "...                  ...          ...              ...     ...  \n",
       "16371  Living Characters          NaN              NaN     NaN  \n",
       "16372  Living Characters          NaN              NaN     NaN  \n",
       "16373  Living Characters          NaN              NaN     NaN  \n",
       "16374  Living Characters          NaN              NaN     NaN  \n",
       "16375  Living Characters          NaN              NaN     NaN  \n",
       "\n",
       "[16376 rows x 13 columns]"
      ]
     },
     "execution_count": 20,
     "metadata": {},
     "output_type": "execute_result"
    }
   ],
   "source": [
    "data"
   ]
  },
  {
   "cell_type": "code",
   "execution_count": 21,
   "metadata": {},
   "outputs": [
    {
     "data": {
      "text/plain": [
       "RangeIndex(start=0, stop=16376, step=1)"
      ]
     },
     "execution_count": 21,
     "metadata": {},
     "output_type": "execute_result"
    }
   ],
   "source": [
    "data.index"
   ]
  },
  {
   "cell_type": "markdown",
   "metadata": {},
   "source": [
    "## Indexación y selección de datos\n",
    " Podemos utilizar las expresiones habituales de Python (y NumPy) para seleccionar datos de dataframes o bien usar los operadores propios de pandas. Estos últimos están optimizados, por lo que su uso es recomendado para trabajar con conjuntos de datos grandes o en situaciones donde la eficiencia sea crítica."
   ]
  },
  {
   "cell_type": "code",
   "execution_count": 22,
   "metadata": {},
   "outputs": [
    {
     "data": {
      "text/plain": [
       "Index(['page_id', 'name', 'urlslug', 'ID', 'ALIGN', 'EYE', 'HAIR', 'SEX',\n",
       "       'GSM', 'ALIVE', 'APPEARANCES', 'FIRST APPEARANCE', 'Year'],\n",
       "      dtype='object')"
      ]
     },
     "execution_count": 22,
     "metadata": {},
     "output_type": "execute_result"
    }
   ],
   "source": [
    "data.columns"
   ]
  },
  {
   "cell_type": "code",
   "execution_count": 33,
   "metadata": {},
   "outputs": [
    {
     "data": {
      "text/plain": [
       "0              Spider-Man (Peter Parker)\n",
       "1        Captain America (Steven Rogers)\n",
       "2    Wolverine (James \\\"Logan\\\" Howlett)\n",
       "3      Iron Man (Anthony \\\"Tony\\\" Stark)\n",
       "4                    Thor (Thor Odinson)\n",
       "Name: name, dtype: object"
      ]
     },
     "execution_count": 33,
     "metadata": {},
     "output_type": "execute_result"
    }
   ],
   "source": [
    "# Seleccionamos los nombres de los diez primeros personajes, es decir, mostramos la columna \"name\" de \n",
    "# las diez primeras filas usando expresiones Python.\n",
    "data['name'].head()"
   ]
  },
  {
   "cell_type": "code",
   "execution_count": 37,
   "metadata": {},
   "outputs": [
    {
     "data": {
      "text/plain": [
       "0              Spider-Man (Peter Parker)\n",
       "1        Captain America (Steven Rogers)\n",
       "2    Wolverine (James \\\"Logan\\\" Howlett)\n",
       "3      Iron Man (Anthony \\\"Tony\\\" Stark)\n",
       "4                    Thor (Thor Odinson)\n",
       "5             Benjamin Grimm (Earth-616)\n",
       "6              Reed Richards (Earth-616)\n",
       "7             Hulk (Robert Bruce Banner)\n",
       "8              Scott Summers (Earth-616)\n",
       "9             Jonathan Storm (Earth-616)\n",
       "Name: name, dtype: object"
      ]
     },
     "execution_count": 37,
     "metadata": {},
     "output_type": "execute_result"
    }
   ],
   "source": [
    "data['name'][0:10]"
   ]
  },
  {
   "cell_type": "code",
   "execution_count": 38,
   "metadata": {},
   "outputs": [
    {
     "data": {
      "text/plain": [
       "Index(['page_id', 'name', 'urlslug', 'ID', 'ALIGN', 'EYE', 'HAIR', 'SEX',\n",
       "       'GSM', 'ALIVE', 'APPEARANCES', 'FIRST APPEARANCE', 'Year'],\n",
       "      dtype='object')"
      ]
     },
     "execution_count": 38,
     "metadata": {},
     "output_type": "execute_result"
    }
   ],
   "source": [
    "data.columns"
   ]
  },
  {
   "cell_type": "code",
   "execution_count": 40,
   "metadata": {},
   "outputs": [
    {
     "data": {
      "text/plain": [
       "RangeIndex(start=0, stop=16376, step=1)"
      ]
     },
     "execution_count": 40,
     "metadata": {},
     "output_type": "execute_result"
    }
   ],
   "source": [
    "data.index"
   ]
  },
  {
   "cell_type": "code",
   "execution_count": 39,
   "metadata": {},
   "outputs": [
    {
     "data": {
      "text/plain": [
       "0                  Spider-Man (Peter Parker)\n",
       "1            Captain America (Steven Rogers)\n",
       "2        Wolverine (James \\\"Logan\\\" Howlett)\n",
       "3          Iron Man (Anthony \\\"Tony\\\" Stark)\n",
       "4                        Thor (Thor Odinson)\n",
       "                        ...                 \n",
       "16371                     Ru'ach (Earth-616)\n",
       "16372        Thane (Thanos' son) (Earth-616)\n",
       "16373          Tinkerer (Skrull) (Earth-616)\n",
       "16374         TK421 (Spiderling) (Earth-616)\n",
       "16375                  Yologarch (Earth-616)\n",
       "Name: name, Length: 16376, dtype: object"
      ]
     },
     "execution_count": 39,
     "metadata": {},
     "output_type": "execute_result"
    }
   ],
   "source": [
    "data.name # mejor siempre utilizar data['name']"
   ]
  },
  {
   "cell_type": "code",
   "execution_count": 41,
   "metadata": {},
   "outputs": [
    {
     "data": {
      "text/html": [
       "<div>\n",
       "<style scoped>\n",
       "    .dataframe tbody tr th:only-of-type {\n",
       "        vertical-align: middle;\n",
       "    }\n",
       "\n",
       "    .dataframe tbody tr th {\n",
       "        vertical-align: top;\n",
       "    }\n",
       "\n",
       "    .dataframe thead th {\n",
       "        text-align: right;\n",
       "    }\n",
       "</style>\n",
       "<table border=\"1\" class=\"dataframe\">\n",
       "  <thead>\n",
       "    <tr style=\"text-align: right;\">\n",
       "      <th></th>\n",
       "      <th>name</th>\n",
       "      <th>ID</th>\n",
       "      <th>HAIR</th>\n",
       "    </tr>\n",
       "  </thead>\n",
       "  <tbody>\n",
       "    <tr>\n",
       "      <th>3</th>\n",
       "      <td>Iron Man (Anthony \\\"Tony\\\" Stark)</td>\n",
       "      <td>Public Identity</td>\n",
       "      <td>Black Hair</td>\n",
       "    </tr>\n",
       "    <tr>\n",
       "      <th>8</th>\n",
       "      <td>Scott Summers (Earth-616)</td>\n",
       "      <td>Public Identity</td>\n",
       "      <td>Brown Hair</td>\n",
       "    </tr>\n",
       "  </tbody>\n",
       "</table>\n",
       "</div>"
      ],
      "text/plain": [
       "                                name               ID        HAIR\n",
       "3  Iron Man (Anthony \\\"Tony\\\" Stark)  Public Identity  Black Hair\n",
       "8          Scott Summers (Earth-616)  Public Identity  Brown Hair"
      ]
     },
     "execution_count": 41,
     "metadata": {},
     "output_type": "execute_result"
    }
   ],
   "source": [
    "# Seleccionamos el nombre, el estado de identidad y el color de pelo de los superhéroes 3 y 8\n",
    "# usando el operador de acceso de pandas .loc\n",
    "data.loc[[3,8], ['name', 'ID', 'HAIR']]"
   ]
  },
  {
   "cell_type": "code",
   "execution_count": 46,
   "metadata": {},
   "outputs": [
    {
     "data": {
      "text/plain": [
       "5258       Male Characters\n",
       "10622      Male Characters\n",
       "14376      Male Characters\n",
       "10396      Male Characters\n",
       "8581     Female Characters\n",
       "1404       Male Characters\n",
       "Name: SEX, dtype: object"
      ]
     },
     "execution_count": 46,
     "metadata": {},
     "output_type": "execute_result"
    }
   ],
   "source": [
    "data['SEX'].sample(6)"
   ]
  },
  {
   "cell_type": "code",
   "execution_count": 52,
   "metadata": {},
   "outputs": [
    {
     "data": {
      "text/plain": [
       "3837"
      ]
     },
     "execution_count": 52,
     "metadata": {},
     "output_type": "execute_result"
    }
   ],
   "source": [
    "len(data[data['SEX'] == 'Male Characters'])\n",
    "len(data[data['SEX'] == 'Female Characters'])"
   ]
  },
  {
   "cell_type": "code",
   "execution_count": 53,
   "metadata": {},
   "outputs": [
    {
     "data": {
      "text/plain": [
       "4738"
      ]
     },
     "execution_count": 53,
     "metadata": {},
     "output_type": "execute_result"
    }
   ],
   "source": [
    "len(data[data['SEX'] != 'Male Characters'])"
   ]
  },
  {
   "cell_type": "code",
   "execution_count": null,
   "metadata": {},
   "outputs": [],
   "source": [
    "# Seleccionamos filas según el género del superhéroe utilizando operadores binarios y expresiones Python.\n",
    "male = data[data['SEX'] == 'Male Characters']\n",
    "female = data[data['SEX'] == 'Female Characters']"
   ]
  },
  {
   "cell_type": "code",
   "execution_count": 54,
   "metadata": {},
   "outputs": [
    {
     "data": {
      "text/plain": [
       "array(['Male Characters', 'Female Characters', 'Genderfluid Characters',\n",
       "       'Agender Characters', nan], dtype=object)"
      ]
     },
     "execution_count": 54,
     "metadata": {},
     "output_type": "execute_result"
    }
   ],
   "source": [
    "# Observar los valores únicos\n",
    "data.SEX.unique()"
   ]
  },
  {
   "cell_type": "code",
   "execution_count": 56,
   "metadata": {},
   "outputs": [
    {
     "data": {
      "text/plain": [
       "0         Secret Identity\n",
       "1         Public Identity\n",
       "2         Public Identity\n",
       "3         Public Identity\n",
       "4        No Dual Identity\n",
       "               ...       \n",
       "16371    No Dual Identity\n",
       "16372    No Dual Identity\n",
       "16373     Secret Identity\n",
       "16374     Secret Identity\n",
       "16375                 NaN\n",
       "Name: ID, Length: 16376, dtype: object"
      ]
     },
     "execution_count": 56,
     "metadata": {},
     "output_type": "execute_result"
    }
   ],
   "source": [
    "data.ID"
   ]
  },
  {
   "cell_type": "code",
   "execution_count": 55,
   "metadata": {},
   "outputs": [
    {
     "data": {
      "text/plain": [
       "Index(['page_id', 'name', 'urlslug', 'ID', 'ALIGN', 'EYE', 'HAIR', 'SEX',\n",
       "       'GSM', 'ALIVE', 'APPEARANCES', 'FIRST APPEARANCE', 'Year'],\n",
       "      dtype='object')"
      ]
     },
     "execution_count": 55,
     "metadata": {},
     "output_type": "execute_result"
    }
   ],
   "source": [
    "data.columns"
   ]
  },
  {
   "cell_type": "code",
   "execution_count": 58,
   "metadata": {},
   "outputs": [
    {
     "data": {
      "text/plain": [
       "0    Spider-Man (Peter Parker)\n",
       "Name: name, dtype: object"
      ]
     },
     "execution_count": 58,
     "metadata": {},
     "output_type": "execute_result"
    }
   ],
   "source": [
    "# Combinamos operadores binarios para seleccionar los superhéroes con identidad secreta que han aparecido más\n",
    "# de dos mil veces con expresiones Python.\n",
    "secret_and_popular = data[(data.ID == 'Secret Identity') & (data.APPEARANCES > 2000)]\n",
    "secret_and_popular['name']"
   ]
  },
  {
   "cell_type": "code",
   "execution_count": 60,
   "metadata": {},
   "outputs": [
    {
     "data": {
      "text/html": [
       "<div>\n",
       "<style scoped>\n",
       "    .dataframe tbody tr th:only-of-type {\n",
       "        vertical-align: middle;\n",
       "    }\n",
       "\n",
       "    .dataframe tbody tr th {\n",
       "        vertical-align: top;\n",
       "    }\n",
       "\n",
       "    .dataframe thead th {\n",
       "        text-align: right;\n",
       "    }\n",
       "</style>\n",
       "<table border=\"1\" class=\"dataframe\">\n",
       "  <thead>\n",
       "    <tr style=\"text-align: right;\">\n",
       "      <th></th>\n",
       "      <th>page_id</th>\n",
       "      <th>name</th>\n",
       "      <th>urlslug</th>\n",
       "      <th>ID</th>\n",
       "      <th>ALIGN</th>\n",
       "      <th>EYE</th>\n",
       "      <th>HAIR</th>\n",
       "      <th>SEX</th>\n",
       "      <th>GSM</th>\n",
       "      <th>ALIVE</th>\n",
       "      <th>APPEARANCES</th>\n",
       "      <th>FIRST APPEARANCE</th>\n",
       "      <th>Year</th>\n",
       "    </tr>\n",
       "  </thead>\n",
       "  <tbody>\n",
       "    <tr>\n",
       "      <th>0</th>\n",
       "      <td>1678.0</td>\n",
       "      <td>Spider-Man (Peter Parker)</td>\n",
       "      <td>\\/Spider-Man_(Peter_Parker)</td>\n",
       "      <td>Secret Identity</td>\n",
       "      <td>Good Characters</td>\n",
       "      <td>Hazel Eyes</td>\n",
       "      <td>Brown Hair</td>\n",
       "      <td>Male Characters</td>\n",
       "      <td>NaN</td>\n",
       "      <td>Living Characters</td>\n",
       "      <td>4043.0</td>\n",
       "      <td>Aug-62</td>\n",
       "      <td>1962.0</td>\n",
       "    </tr>\n",
       "    <tr>\n",
       "      <th>1</th>\n",
       "      <td>NaN</td>\n",
       "      <td>NaN</td>\n",
       "      <td>NaN</td>\n",
       "      <td>NaN</td>\n",
       "      <td>NaN</td>\n",
       "      <td>NaN</td>\n",
       "      <td>NaN</td>\n",
       "      <td>NaN</td>\n",
       "      <td>NaN</td>\n",
       "      <td>NaN</td>\n",
       "      <td>NaN</td>\n",
       "      <td>NaN</td>\n",
       "      <td>NaN</td>\n",
       "    </tr>\n",
       "    <tr>\n",
       "      <th>2</th>\n",
       "      <td>NaN</td>\n",
       "      <td>NaN</td>\n",
       "      <td>NaN</td>\n",
       "      <td>NaN</td>\n",
       "      <td>NaN</td>\n",
       "      <td>NaN</td>\n",
       "      <td>NaN</td>\n",
       "      <td>NaN</td>\n",
       "      <td>NaN</td>\n",
       "      <td>NaN</td>\n",
       "      <td>NaN</td>\n",
       "      <td>NaN</td>\n",
       "      <td>NaN</td>\n",
       "    </tr>\n",
       "    <tr>\n",
       "      <th>3</th>\n",
       "      <td>NaN</td>\n",
       "      <td>NaN</td>\n",
       "      <td>NaN</td>\n",
       "      <td>NaN</td>\n",
       "      <td>NaN</td>\n",
       "      <td>NaN</td>\n",
       "      <td>NaN</td>\n",
       "      <td>NaN</td>\n",
       "      <td>NaN</td>\n",
       "      <td>NaN</td>\n",
       "      <td>NaN</td>\n",
       "      <td>NaN</td>\n",
       "      <td>NaN</td>\n",
       "    </tr>\n",
       "    <tr>\n",
       "      <th>4</th>\n",
       "      <td>NaN</td>\n",
       "      <td>NaN</td>\n",
       "      <td>NaN</td>\n",
       "      <td>NaN</td>\n",
       "      <td>NaN</td>\n",
       "      <td>NaN</td>\n",
       "      <td>NaN</td>\n",
       "      <td>NaN</td>\n",
       "      <td>NaN</td>\n",
       "      <td>NaN</td>\n",
       "      <td>NaN</td>\n",
       "      <td>NaN</td>\n",
       "      <td>NaN</td>\n",
       "    </tr>\n",
       "    <tr>\n",
       "      <th>...</th>\n",
       "      <td>...</td>\n",
       "      <td>...</td>\n",
       "      <td>...</td>\n",
       "      <td>...</td>\n",
       "      <td>...</td>\n",
       "      <td>...</td>\n",
       "      <td>...</td>\n",
       "      <td>...</td>\n",
       "      <td>...</td>\n",
       "      <td>...</td>\n",
       "      <td>...</td>\n",
       "      <td>...</td>\n",
       "      <td>...</td>\n",
       "    </tr>\n",
       "    <tr>\n",
       "      <th>16371</th>\n",
       "      <td>NaN</td>\n",
       "      <td>NaN</td>\n",
       "      <td>NaN</td>\n",
       "      <td>NaN</td>\n",
       "      <td>NaN</td>\n",
       "      <td>NaN</td>\n",
       "      <td>NaN</td>\n",
       "      <td>NaN</td>\n",
       "      <td>NaN</td>\n",
       "      <td>NaN</td>\n",
       "      <td>NaN</td>\n",
       "      <td>NaN</td>\n",
       "      <td>NaN</td>\n",
       "    </tr>\n",
       "    <tr>\n",
       "      <th>16372</th>\n",
       "      <td>NaN</td>\n",
       "      <td>NaN</td>\n",
       "      <td>NaN</td>\n",
       "      <td>NaN</td>\n",
       "      <td>NaN</td>\n",
       "      <td>NaN</td>\n",
       "      <td>NaN</td>\n",
       "      <td>NaN</td>\n",
       "      <td>NaN</td>\n",
       "      <td>NaN</td>\n",
       "      <td>NaN</td>\n",
       "      <td>NaN</td>\n",
       "      <td>NaN</td>\n",
       "    </tr>\n",
       "    <tr>\n",
       "      <th>16373</th>\n",
       "      <td>NaN</td>\n",
       "      <td>NaN</td>\n",
       "      <td>NaN</td>\n",
       "      <td>NaN</td>\n",
       "      <td>NaN</td>\n",
       "      <td>NaN</td>\n",
       "      <td>NaN</td>\n",
       "      <td>NaN</td>\n",
       "      <td>NaN</td>\n",
       "      <td>NaN</td>\n",
       "      <td>NaN</td>\n",
       "      <td>NaN</td>\n",
       "      <td>NaN</td>\n",
       "    </tr>\n",
       "    <tr>\n",
       "      <th>16374</th>\n",
       "      <td>NaN</td>\n",
       "      <td>NaN</td>\n",
       "      <td>NaN</td>\n",
       "      <td>NaN</td>\n",
       "      <td>NaN</td>\n",
       "      <td>NaN</td>\n",
       "      <td>NaN</td>\n",
       "      <td>NaN</td>\n",
       "      <td>NaN</td>\n",
       "      <td>NaN</td>\n",
       "      <td>NaN</td>\n",
       "      <td>NaN</td>\n",
       "      <td>NaN</td>\n",
       "    </tr>\n",
       "    <tr>\n",
       "      <th>16375</th>\n",
       "      <td>NaN</td>\n",
       "      <td>NaN</td>\n",
       "      <td>NaN</td>\n",
       "      <td>NaN</td>\n",
       "      <td>NaN</td>\n",
       "      <td>NaN</td>\n",
       "      <td>NaN</td>\n",
       "      <td>NaN</td>\n",
       "      <td>NaN</td>\n",
       "      <td>NaN</td>\n",
       "      <td>NaN</td>\n",
       "      <td>NaN</td>\n",
       "      <td>NaN</td>\n",
       "    </tr>\n",
       "  </tbody>\n",
       "</table>\n",
       "<p>16376 rows × 13 columns</p>\n",
       "</div>"
      ],
      "text/plain": [
       "       page_id                       name                      urlslug  \\\n",
       "0       1678.0  Spider-Man (Peter Parker)  \\/Spider-Man_(Peter_Parker)   \n",
       "1          NaN                        NaN                          NaN   \n",
       "2          NaN                        NaN                          NaN   \n",
       "3          NaN                        NaN                          NaN   \n",
       "4          NaN                        NaN                          NaN   \n",
       "...        ...                        ...                          ...   \n",
       "16371      NaN                        NaN                          NaN   \n",
       "16372      NaN                        NaN                          NaN   \n",
       "16373      NaN                        NaN                          NaN   \n",
       "16374      NaN                        NaN                          NaN   \n",
       "16375      NaN                        NaN                          NaN   \n",
       "\n",
       "                    ID            ALIGN         EYE        HAIR  \\\n",
       "0      Secret Identity  Good Characters  Hazel Eyes  Brown Hair   \n",
       "1                  NaN              NaN         NaN         NaN   \n",
       "2                  NaN              NaN         NaN         NaN   \n",
       "3                  NaN              NaN         NaN         NaN   \n",
       "4                  NaN              NaN         NaN         NaN   \n",
       "...                ...              ...         ...         ...   \n",
       "16371              NaN              NaN         NaN         NaN   \n",
       "16372              NaN              NaN         NaN         NaN   \n",
       "16373              NaN              NaN         NaN         NaN   \n",
       "16374              NaN              NaN         NaN         NaN   \n",
       "16375              NaN              NaN         NaN         NaN   \n",
       "\n",
       "                   SEX  GSM              ALIVE  APPEARANCES FIRST APPEARANCE  \\\n",
       "0      Male Characters  NaN  Living Characters       4043.0           Aug-62   \n",
       "1                  NaN  NaN                NaN          NaN              NaN   \n",
       "2                  NaN  NaN                NaN          NaN              NaN   \n",
       "3                  NaN  NaN                NaN          NaN              NaN   \n",
       "4                  NaN  NaN                NaN          NaN              NaN   \n",
       "...                ...  ...                ...          ...              ...   \n",
       "16371              NaN  NaN                NaN          NaN              NaN   \n",
       "16372              NaN  NaN                NaN          NaN              NaN   \n",
       "16373              NaN  NaN                NaN          NaN              NaN   \n",
       "16374              NaN  NaN                NaN          NaN              NaN   \n",
       "16375              NaN  NaN                NaN          NaN              NaN   \n",
       "\n",
       "         Year  \n",
       "0      1962.0  \n",
       "1         NaN  \n",
       "2         NaN  \n",
       "3         NaN  \n",
       "4         NaN  \n",
       "...       ...  \n",
       "16371     NaN  \n",
       "16372     NaN  \n",
       "16373     NaN  \n",
       "16374     NaN  \n",
       "16375     NaN  \n",
       "\n",
       "[16376 rows x 13 columns]"
      ]
     },
     "execution_count": 60,
     "metadata": {},
     "output_type": "execute_result"
    }
   ],
   "source": [
    "# Alernativa con where\n",
    "data.where((data.APPEARANCES > 2000) & (data.ID == \"Secret Identity\"))"
   ]
  }
 ],
 "metadata": {
  "interpreter": {
   "hash": "3a457f06cda4579c7033761bf4e886c4764e74b759b9220f07c03aa5d4880471"
  },
  "kernelspec": {
   "display_name": "Python 3.9.5 ('data_science_py395')",
   "language": "python",
   "name": "python3"
  },
  "language_info": {
   "codemirror_mode": {
    "name": "ipython",
    "version": 3
   },
   "file_extension": ".py",
   "mimetype": "text/x-python",
   "name": "python",
   "nbconvert_exporter": "python",
   "pygments_lexer": "ipython3",
   "version": "3.9.5"
  },
  "orig_nbformat": 4
 },
 "nbformat": 4,
 "nbformat_minor": 2
}
