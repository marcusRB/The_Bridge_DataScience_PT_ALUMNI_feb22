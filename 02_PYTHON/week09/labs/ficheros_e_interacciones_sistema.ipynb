{
 "cells": [
  {
   "cell_type": "markdown",
   "metadata": {},
   "source": [
    "# Interactuamos con los ficheros y con el sistema operativo\n",
    "Trataremos los ficheros, manipularlos, y leer/guardar desde la consola"
   ]
  },
  {
   "cell_type": "code",
   "execution_count": 2,
   "metadata": {},
   "outputs": [],
   "source": [
    "# Crear una carpeta mkdir\n",
    "!mkdir carpeta"
   ]
  },
  {
   "cell_type": "code",
   "execution_count": 3,
   "metadata": {},
   "outputs": [
    {
     "name": "stderr",
     "output_type": "stream",
     "text": [
      "\"touch\" no se reconoce como un comando interno o externo,\n",
      "programa o archivo por lotes ejecutable.\n"
     ]
    }
   ],
   "source": [
    "# cambiar de directorio cd y touch sirve para crear un fichero nuevo\n",
    "!cd carpeta && touch fichero.py"
   ]
  },
  {
   "cell_type": "code",
   "execution_count": 4,
   "metadata": {},
   "outputs": [
    {
     "name": "stderr",
     "output_type": "stream",
     "text": [
      "\"ls\" no se reconoce como un comando interno o externo,\n",
      "programa o archivo por lotes ejecutable.\n"
     ]
    }
   ],
   "source": [
    "#!/bin/bash\n",
    "!ls"
   ]
  },
  {
   "cell_type": "code",
   "execution_count": 5,
   "metadata": {},
   "outputs": [],
   "source": [
    "# Para interactuar con el Sistema Operativo\n",
    "import os"
   ]
  },
  {
   "cell_type": "markdown",
   "metadata": {},
   "source": [
    "El módulo `os` que nos permite interactuar con el sistema operativo"
   ]
  },
  {
   "cell_type": "code",
   "execution_count": 12,
   "metadata": {},
   "outputs": [],
   "source": [
    "nombre_fichero = 'test_file'\n",
    "# Abrimos el fichero para escritura\n",
    "out = open(f'carpeta/{nombre_fichero}.txt', 'w')"
   ]
  },
  {
   "cell_type": "code",
   "execution_count": 13,
   "metadata": {},
   "outputs": [
    {
     "data": {
      "text/plain": [
       "9"
      ]
     },
     "execution_count": 13,
     "metadata": {},
     "output_type": "execute_result"
    }
   ],
   "source": [
    "# Escribimos la palabra TheBridge en este archivo\n",
    "out.write(\"TheBridge\")"
   ]
  },
  {
   "cell_type": "code",
   "execution_count": 14,
   "metadata": {},
   "outputs": [],
   "source": [
    "# Debemos cerrar el out con el comando close\n",
    "out.close()"
   ]
  },
  {
   "cell_type": "code",
   "execution_count": 15,
   "metadata": {},
   "outputs": [],
   "source": [
    "# Si queremos guardar el fichero en la carpeta week8\n",
    "out = open(f'../../week08/{nombre_fichero}.txt', 'w')\n",
    "out.write(\"TheBridge\")\n",
    "out.close()"
   ]
  },
  {
   "cell_type": "markdown",
   "metadata": {},
   "source": [
    "> En windows utilizamos el slash desde arriba hacía la derecha, pero\n",
    "en Python SIEMPRE utilizaremos desde abajo hacía la derecha\n",
    "\n",
    "PATH = C:\\Users\\mrusso\\THE_BRIDGE_FEB22_local\\02_PYTHON\\week09\\labs\\ficheros_e_interacciones_sistema.ipynb\n",
    "\n",
    "RELATIVE PATH = week09\\labs\\ficheros_e_interacciones_sistema.ipynb"
   ]
  },
  {
   "cell_type": "code",
   "execution_count": 16,
   "metadata": {},
   "outputs": [],
   "source": [
    "# Abrimos el path o ruta del fichero\n",
    "ruta = f'../../week08/{nombre_fichero}.txt'"
   ]
  },
  {
   "cell_type": "code",
   "execution_count": 17,
   "metadata": {},
   "outputs": [],
   "source": [
    "# otra forma de leer y escribir ficheros con with\n",
    "try:\n",
    "    with open(ruta, 'r') as entrada:\n",
    "        pass\n",
    "except FileNotFoundError as e:\n",
    "    print(e)"
   ]
  },
  {
   "cell_type": "code",
   "execution_count": 28,
   "metadata": {},
   "outputs": [],
   "source": [
    "with open(f'carpeta/{nombre_fichero}_2.txt', 'w') as out:\n",
    "    out.write(\"TheBridge Data Science\")"
   ]
  },
  {
   "cell_type": "code",
   "execution_count": 19,
   "metadata": {},
   "outputs": [
    {
     "name": "stdout",
     "output_type": "stream",
     "text": [
      "I/O operation on closed file.\n"
     ]
    }
   ],
   "source": [
    "# Probamos a escribir una nueva línea en text_file 2\n",
    "try:\n",
    "    out.write('otra línea')\n",
    "except Exception as e:\n",
    "    print(e)"
   ]
  },
  {
   "cell_type": "markdown",
   "metadata": {},
   "source": [
    "> Con el primer método `open` dejamos abierta la conexión hasta su cierre, con \n",
    "> el método `with` el proceso cierra de forma automática."
   ]
  },
  {
   "cell_type": "markdown",
   "metadata": {},
   "source": [
    "> El resto de modo para operar con los ficheros:\n",
    "> https://docs.python.org/3/library/functions.html#open"
   ]
  },
  {
   "cell_type": "code",
   "execution_count": 44,
   "metadata": {},
   "outputs": [],
   "source": [
    "# Si deseamos escribir una nueva línea con append\n",
    "try:\n",
    "    with open(f'carpeta/{nombre_fichero}_2.txt', 'a') as entrada:\n",
    "        entrada.write('\\n')\n",
    "        entrada.write('otra línea\\n')\n",
    "        entrada.write('otra línea más')\n",
    "except FileNotFoundError as e:\n",
    "    print(e)"
   ]
  },
  {
   "cell_type": "code",
   "execution_count": 46,
   "metadata": {},
   "outputs": [
    {
     "name": "stdout",
     "output_type": "stream",
     "text": [
      "TheBridge Data Science\n",
      "otra línea\n",
      "otra línea\n",
      "otra línea más\n",
      "otra línea\n",
      "otra línea más\n",
      "otra línea\n",
      "otra línea más\n",
      "otra línea\n",
      "otra línea más\n",
      "otra línea\n",
      "otra línea más\n",
      "otra línea\n",
      "otra línea más\n",
      "otra línea\n",
      "otra línea más\n",
      "otra línea\n",
      "otra línea más\n",
      "otra línea\n",
      "otra línea más\n",
      "otra línea\n",
      "otra línea más\n",
      "otra línea\n",
      "otra línea más\n",
      "otra línea\n",
      "otra línea más\n",
      "otra línea\n",
      "otra línea más\n",
      "otra línea\n",
      "otra línea más\n",
      "otra línea\n",
      "otra línea más\n"
     ]
    }
   ],
   "source": [
    "# Leer en línea el contenido del fichero\n",
    "try:\n",
    "    with open(f'carpeta/{nombre_fichero}_2.txt', 'r') as f:\n",
    "        contenido = f.read()\n",
    "except Exception as e:\n",
    "    print(e)\n",
    "finally:\n",
    "    print(contenido)"
   ]
  },
  {
   "cell_type": "markdown",
   "metadata": {},
   "source": [
    "> Lectura de ficheros grande (no exactamente igual que este fichero...)\n",
    ">"
   ]
  },
  {
   "cell_type": "code",
   "execution_count": 47,
   "metadata": {},
   "outputs": [],
   "source": [
    "from sys import getsizeof"
   ]
  },
  {
   "cell_type": "code",
   "execution_count": 48,
   "metadata": {},
   "outputs": [
    {
     "name": "stdout",
     "output_type": "stream",
     "text": [
      "256090\n"
     ]
    }
   ],
   "source": [
    "ruta_big_file = 'carpeta/somehow_big_file.txt'\n",
    "with open(ruta_big_file, 'r') as f:\n",
    "    content = f.read()\n",
    "    size_in_bytes = getsizeof(content)\n",
    "    print(size_in_bytes)"
   ]
  },
  {
   "cell_type": "code",
   "execution_count": 51,
   "metadata": {},
   "outputs": [
    {
     "name": "stdout",
     "output_type": "stream",
     "text": [
      "El fichero pesa 250.088 KB\n"
     ]
    }
   ],
   "source": [
    "# Más bonito expresado en Kilobytes\n",
    "ruta_big_file = 'carpeta_ficheros/somehow_big_file.txt'\n",
    "with open(ruta_big_file, 'r') as f:\n",
    "    content = f.read()\n",
    "    size_in_bytes = getsizeof(content)\n",
    "    print(f'El fichero pesa {round(size_in_bytes / 1024, 3)} KB')"
   ]
  },
  {
   "cell_type": "markdown",
   "metadata": {},
   "source": [
    "> Crear Carpetas"
   ]
  },
  {
   "cell_type": "code",
   "execution_count": 54,
   "metadata": {},
   "outputs": [],
   "source": [
    "# Utilizamos os.mkdir\n",
    "new_folder = 'carpeta_ficheros/new_folder'\n",
    "os.mkdir(new_folder)"
   ]
  },
  {
   "cell_type": "code",
   "execution_count": 55,
   "metadata": {},
   "outputs": [
    {
     "ename": "FileExistsError",
     "evalue": "[WinError 183] No se puede crear un archivo que ya existe: 'carpeta_ficheros/new_folder'",
     "output_type": "error",
     "traceback": [
      "\u001b[1;31m---------------------------------------------------------------------------\u001b[0m",
      "\u001b[1;31mFileExistsError\u001b[0m                           Traceback (most recent call last)",
      "\u001b[1;32mc:\\Users\\mrusso\\THE_BRIDGE_FEB22_local\\02_PYTHON\\week09\\labs\\ficheros_e_interacciones_sistema.ipynb Cell 26'\u001b[0m in \u001b[0;36m<module>\u001b[1;34m\u001b[0m\n\u001b[0;32m      <a href='vscode-notebook-cell:/c%3A/Users/mrusso/THE_BRIDGE_FEB22_local/02_PYTHON/week09/labs/ficheros_e_interacciones_sistema.ipynb#ch0000033?line=0'>1</a>\u001b[0m \u001b[39m# Si volvamos a crear una carpeta ya creada \u001b[39;00m\n\u001b[0;32m      <a href='vscode-notebook-cell:/c%3A/Users/mrusso/THE_BRIDGE_FEB22_local/02_PYTHON/week09/labs/ficheros_e_interacciones_sistema.ipynb#ch0000033?line=1'>2</a>\u001b[0m new_folder \u001b[39m=\u001b[39m \u001b[39m'\u001b[39m\u001b[39mcarpeta_ficheros/new_folder\u001b[39m\u001b[39m'\u001b[39m\n\u001b[1;32m----> <a href='vscode-notebook-cell:/c%3A/Users/mrusso/THE_BRIDGE_FEB22_local/02_PYTHON/week09/labs/ficheros_e_interacciones_sistema.ipynb#ch0000033?line=2'>3</a>\u001b[0m os\u001b[39m.\u001b[39;49mmkdir(new_folder)\n",
      "\u001b[1;31mFileExistsError\u001b[0m: [WinError 183] No se puede crear un archivo que ya existe: 'carpeta_ficheros/new_folder'"
     ]
    }
   ],
   "source": [
    "# Si volvamos a crear una carpeta ya creada \n",
    "new_folder = 'carpeta_ficheros/new_folder'\n",
    "os.mkdir(new_folder)"
   ]
  },
  {
   "cell_type": "code",
   "execution_count": 56,
   "metadata": {},
   "outputs": [
    {
     "name": "stdout",
     "output_type": "stream",
     "text": [
      "[WinError 3] El sistema no puede encontrar la ruta especificada: 'carpeta_ficheros/new_folder/1/2'\n"
     ]
    }
   ],
   "source": [
    "# Para crear subcarpetas NO utilizamores mkdir\n",
    "try:\n",
    "    new_subfolder = 'carpeta_ficheros/new_folder/1/2'\n",
    "    os.mkdir(new_subfolder)\n",
    "except Exception as e:\n",
    "    print(e)"
   ]
  },
  {
   "cell_type": "markdown",
   "metadata": {},
   "source": [
    "> Para poder realizar la creación de subcarpetas, utilizaremos \n",
    "> el método iterativo makedirs"
   ]
  },
  {
   "cell_type": "code",
   "execution_count": 58,
   "metadata": {},
   "outputs": [
    {
     "name": "stdout",
     "output_type": "stream",
     "text": [
      "[WinError 183] No se puede crear un archivo que ya existe: 'carpeta_ficheros/new_folder/1/2'\n"
     ]
    }
   ],
   "source": [
    "# Utilizaremos makedirs\n",
    "try:\n",
    "    new_subfolder = 'carpeta_ficheros/new_folder/1/2'\n",
    "    os.makedirs(new_subfolder)\n",
    "except Exception as e:\n",
    "    print(e)"
   ]
  },
  {
   "cell_type": "code",
   "execution_count": 63,
   "metadata": {},
   "outputs": [
    {
     "name": "stderr",
     "output_type": "stream",
     "text": [
      "\"ls\" no se reconoce como un comando interno o externo,\n",
      "programa o archivo por lotes ejecutable.\n"
     ]
    }
   ],
   "source": [
    "!ls -l carpeta/"
   ]
  },
  {
   "cell_type": "markdown",
   "metadata": {},
   "source": [
    "> En caso de eliminar ficheros"
   ]
  },
  {
   "cell_type": "code",
   "execution_count": 66,
   "metadata": {},
   "outputs": [],
   "source": [
    "# Utilizaremos el comando os.remove\n",
    "nombre_fichero = 'test_file.txt'\n",
    "ruta = f'carpeta_ficheros/{nombre_fichero}'\n",
    "os.remove(ruta)"
   ]
  },
  {
   "cell_type": "markdown",
   "metadata": {},
   "source": [
    "> En caso de eliminar un directorio vacío"
   ]
  },
  {
   "cell_type": "code",
   "execution_count": 67,
   "metadata": {},
   "outputs": [],
   "source": [
    "# En este ejemplo eliminaremos solamente la carpeta 2\n",
    "ruta_carpeta_vacia = f'carpeta_ficheros/new_folder/1/2'\n",
    "os.rmdir(ruta_carpeta_vacia)"
   ]
  },
  {
   "cell_type": "markdown",
   "metadata": {},
   "source": [
    "> en caso de eliminar más carpetas vacías\n",
    "> `os.removedirs`"
   ]
  },
  {
   "cell_type": "markdown",
   "metadata": {},
   "source": [
    "```\n",
    "Para eliminar y forzar la eliminación utilizamos la sentencia de linux:\n",
    "\n",
    "$ rm -r <nombre-carpeta>\n",
    "o bien en Jupyter utilizamos : ! el signo de admiración\n",
    "```\n",
    "\n",
    "#!rm -r files_folder "
   ]
  },
  {
   "cell_type": "markdown",
   "metadata": {},
   "source": [
    "> en caso de renombrar un fichero\n",
    "```\n",
    "os.rename(<fichero origen>, <fichero destino>)\n",
    "```"
   ]
  },
  {
   "cell_type": "code",
   "execution_count": 69,
   "metadata": {},
   "outputs": [],
   "source": [
    "os.rename('carpeta_ficheros/test_file_2.txt', 'carpeta_ficheros/fichero_prueba_2.txt')"
   ]
  },
  {
   "cell_type": "markdown",
   "metadata": {},
   "source": [
    "> Funciones auxiliares de `paths`"
   ]
  },
  {
   "cell_type": "code",
   "execution_count": 71,
   "metadata": {},
   "outputs": [
    {
     "name": "stdout",
     "output_type": "stream",
     "text": [
      "/thebridge/notebooks/filename.py\n"
     ]
    }
   ],
   "source": [
    "# Unimos diferentes partes de un path con join\n",
    "path = '/home'\n",
    "full_path = os.path.join(path, '/thebridge/notebooks/', 'filename.py')\n",
    "print(full_path)"
   ]
  },
  {
   "cell_type": "code",
   "execution_count": 74,
   "metadata": {},
   "outputs": [
    {
     "data": {
      "text/plain": [
       "'carpeta_ficheros'"
      ]
     },
     "execution_count": 74,
     "metadata": {},
     "output_type": "execute_result"
    }
   ],
   "source": [
    "# Obtener el directorio dado un fichero\n",
    "os.path.dirname('carpeta_ficheros/fichero.py')"
   ]
  },
  {
   "cell_type": "code",
   "execution_count": 77,
   "metadata": {},
   "outputs": [
    {
     "data": {
      "text/plain": [
       "'c:\\\\Users\\\\mrusso\\\\THE_BRIDGE_FEB22_local\\\\02_PYTHON\\\\week09\\\\labs'"
      ]
     },
     "execution_count": 77,
     "metadata": {},
     "output_type": "execute_result"
    }
   ],
   "source": [
    "# Obtener la carpeta del working directory\n",
    "os.getcwd()"
   ]
  },
  {
   "cell_type": "code",
   "execution_count": 78,
   "metadata": {},
   "outputs": [
    {
     "data": {
      "text/plain": [
       "('carpeta_ficheros/fichero', '.py')"
      ]
     },
     "execution_count": 78,
     "metadata": {},
     "output_type": "execute_result"
    }
   ],
   "source": [
    "# Si queremos separar la extensióin del fichero\n",
    "os.path.splitext('carpeta_ficheros/fichero.py')"
   ]
  },
  {
   "cell_type": "markdown",
   "metadata": {},
   "source": [
    "> Listado de directorios"
   ]
  },
  {
   "cell_type": "code",
   "execution_count": 79,
   "metadata": {},
   "outputs": [
    {
     "name": "stdout",
     "output_type": "stream",
     "text": [
      "fichero.py\n",
      "fichero_prueba_2.txt\n",
      "new_folder\n",
      "somehow_big_file.txt\n"
     ]
    }
   ],
   "source": [
    "folder_name = 'carpeta_ficheros/'\n",
    "with os.scandir(folder_name) as dir_list:\n",
    "    for entrada in dir_list:\n",
    "        print(entrada.name)"
   ]
  },
  {
   "cell_type": "code",
   "execution_count": 80,
   "metadata": {},
   "outputs": [
    {
     "name": "stdout",
     "output_type": "stream",
     "text": [
      "fichero.py\n",
      "fichero_prueba_2.txt\n",
      "somehow_big_file.txt\n"
     ]
    }
   ],
   "source": [
    "# mostramos los ficheros de la carpeta_ficheros\n",
    "with os.scandir(folder_name) as dir_list:\n",
    "    for entrada in dir_list:\n",
    "        if os.path.isfile(entrada.path):\n",
    "            print(entrada.name)"
   ]
  },
  {
   "cell_type": "markdown",
   "metadata": {},
   "source": [
    "> Patrones de Unix Shell"
   ]
  },
  {
   "cell_type": "code",
   "execution_count": 81,
   "metadata": {},
   "outputs": [
    {
     "name": "stdout",
     "output_type": "stream",
     "text": [
      "fichero_prueba_2.txt\n",
      "somehow_big_file.txt\n"
     ]
    }
   ],
   "source": [
    "# mostramos nuevamente los ficheros de la carpeta files_folder\n",
    "with os.scandir(folder_name) as dir_list:\n",
    "    for entry in dir_list:\n",
    "        if entry.is_file() and entry.name.endswith(\".txt\"):\n",
    "            print(entry.name)"
   ]
  },
  {
   "cell_type": "code",
   "execution_count": 82,
   "metadata": {},
   "outputs": [],
   "source": [
    "# Alternativa que emula el escenario cloud\n",
    "import glob"
   ]
  },
  {
   "cell_type": "code",
   "execution_count": 85,
   "metadata": {},
   "outputs": [
    {
     "data": {
      "text/plain": [
       "['carpeta_ficheros\\\\fichero.py']"
      ]
     },
     "execution_count": 85,
     "metadata": {},
     "output_type": "execute_result"
    }
   ],
   "source": [
    "# obtener una lista de ficheros .py\n",
    "glob.glob('carpeta_ficheros/*.py')"
   ]
  },
  {
   "cell_type": "code",
   "execution_count": 87,
   "metadata": {},
   "outputs": [
    {
     "data": {
      "text/plain": [
       "['./carpeta_ficheros\\\\fichero.py',\n",
       " './carpeta_ficheros\\\\fichero_prueba_2.txt',\n",
       " './carpeta_ficheros\\\\new_folder',\n",
       " './carpeta_ficheros\\\\somehow_big_file.txt']"
      ]
     },
     "execution_count": 87,
     "metadata": {},
     "output_type": "execute_result"
    }
   ],
   "source": [
    "# Listamos el contendido de una carpeta\n",
    "glob.glob('./carpeta_ficheros/*')"
   ]
  },
  {
   "cell_type": "code",
   "execution_count": 94,
   "metadata": {},
   "outputs": [
    {
     "data": {
      "text/plain": [
       "['carpeta_ficheros',\n",
       " 'ficheros_e_interacciones_sistema.ipynb',\n",
       " 'carpeta_ficheros\\\\fichero.py',\n",
       " 'carpeta_ficheros\\\\fichero_prueba_2.txt',\n",
       " 'carpeta_ficheros\\\\new_folder',\n",
       " 'carpeta_ficheros\\\\somehow_big_file.txt',\n",
       " 'carpeta_ficheros\\\\new_folder\\\\1',\n",
       " 'carpeta_ficheros\\\\new_folder\\\\fichero_prueba_2.txt',\n",
       " 'carpeta_ficheros\\\\new_folder\\\\1\\\\fichero_prueba_2.txt']"
      ]
     },
     "execution_count": 94,
     "metadata": {},
     "output_type": "execute_result"
    }
   ],
   "source": [
    "# listamos los ficheros que hay en este path actual buscando\n",
    "# recursivamente dentro de las carpetas\n",
    "glob.glob('**/*', recursive=True)"
   ]
  },
  {
   "cell_type": "markdown",
   "metadata": {},
   "source": [
    "### Lectura y ficheros con Pandas \n",
    "Input/Output \n",
    "https://pandas.pydata.org/pandas-docs/stable/user_guide/io.html"
   ]
  },
  {
   "cell_type": "code",
   "execution_count": 95,
   "metadata": {},
   "outputs": [],
   "source": [
    "import pandas as pd"
   ]
  },
  {
   "cell_type": "code",
   "execution_count": 96,
   "metadata": {},
   "outputs": [
    {
     "data": {
      "text/html": [
       "<div>\n",
       "<style scoped>\n",
       "    .dataframe tbody tr th:only-of-type {\n",
       "        vertical-align: middle;\n",
       "    }\n",
       "\n",
       "    .dataframe tbody tr th {\n",
       "        vertical-align: top;\n",
       "    }\n",
       "\n",
       "    .dataframe thead th {\n",
       "        text-align: right;\n",
       "    }\n",
       "</style>\n",
       "<table border=\"1\" class=\"dataframe\">\n",
       "  <thead>\n",
       "    <tr style=\"text-align: right;\">\n",
       "      <th></th>\n",
       "      <th>page_id</th>\n",
       "      <th>name</th>\n",
       "      <th>urlslug</th>\n",
       "      <th>ID</th>\n",
       "      <th>ALIGN</th>\n",
       "      <th>EYE</th>\n",
       "      <th>HAIR</th>\n",
       "      <th>SEX</th>\n",
       "      <th>GSM</th>\n",
       "      <th>ALIVE</th>\n",
       "      <th>APPEARANCES</th>\n",
       "      <th>FIRST APPEARANCE</th>\n",
       "      <th>Year</th>\n",
       "    </tr>\n",
       "  </thead>\n",
       "  <tbody>\n",
       "    <tr>\n",
       "      <th>0</th>\n",
       "      <td>1678</td>\n",
       "      <td>Spider-Man (Peter Parker)</td>\n",
       "      <td>\\/Spider-Man_(Peter_Parker)</td>\n",
       "      <td>Secret Identity</td>\n",
       "      <td>Good Characters</td>\n",
       "      <td>Hazel Eyes</td>\n",
       "      <td>Brown Hair</td>\n",
       "      <td>Male Characters</td>\n",
       "      <td>NaN</td>\n",
       "      <td>Living Characters</td>\n",
       "      <td>4043.0</td>\n",
       "      <td>Aug-62</td>\n",
       "      <td>1962.0</td>\n",
       "    </tr>\n",
       "    <tr>\n",
       "      <th>1</th>\n",
       "      <td>7139</td>\n",
       "      <td>Captain America (Steven Rogers)</td>\n",
       "      <td>\\/Captain_America_(Steven_Rogers)</td>\n",
       "      <td>Public Identity</td>\n",
       "      <td>Good Characters</td>\n",
       "      <td>Blue Eyes</td>\n",
       "      <td>White Hair</td>\n",
       "      <td>Male Characters</td>\n",
       "      <td>NaN</td>\n",
       "      <td>Living Characters</td>\n",
       "      <td>3360.0</td>\n",
       "      <td>Mar-41</td>\n",
       "      <td>1941.0</td>\n",
       "    </tr>\n",
       "    <tr>\n",
       "      <th>2</th>\n",
       "      <td>64786</td>\n",
       "      <td>Wolverine (James \\\"Logan\\\" Howlett)</td>\n",
       "      <td>\\/Wolverine_(James_%22Logan%22_Howlett)</td>\n",
       "      <td>Public Identity</td>\n",
       "      <td>Neutral Characters</td>\n",
       "      <td>Blue Eyes</td>\n",
       "      <td>Black Hair</td>\n",
       "      <td>Male Characters</td>\n",
       "      <td>NaN</td>\n",
       "      <td>Living Characters</td>\n",
       "      <td>3061.0</td>\n",
       "      <td>Oct-74</td>\n",
       "      <td>1974.0</td>\n",
       "    </tr>\n",
       "    <tr>\n",
       "      <th>3</th>\n",
       "      <td>1868</td>\n",
       "      <td>Iron Man (Anthony \\\"Tony\\\" Stark)</td>\n",
       "      <td>\\/Iron_Man_(Anthony_%22Tony%22_Stark)</td>\n",
       "      <td>Public Identity</td>\n",
       "      <td>Good Characters</td>\n",
       "      <td>Blue Eyes</td>\n",
       "      <td>Black Hair</td>\n",
       "      <td>Male Characters</td>\n",
       "      <td>NaN</td>\n",
       "      <td>Living Characters</td>\n",
       "      <td>2961.0</td>\n",
       "      <td>Mar-63</td>\n",
       "      <td>1963.0</td>\n",
       "    </tr>\n",
       "    <tr>\n",
       "      <th>4</th>\n",
       "      <td>2460</td>\n",
       "      <td>Thor (Thor Odinson)</td>\n",
       "      <td>\\/Thor_(Thor_Odinson)</td>\n",
       "      <td>No Dual Identity</td>\n",
       "      <td>Good Characters</td>\n",
       "      <td>Blue Eyes</td>\n",
       "      <td>Blond Hair</td>\n",
       "      <td>Male Characters</td>\n",
       "      <td>NaN</td>\n",
       "      <td>Living Characters</td>\n",
       "      <td>2258.0</td>\n",
       "      <td>Nov-50</td>\n",
       "      <td>1950.0</td>\n",
       "    </tr>\n",
       "    <tr>\n",
       "      <th>5</th>\n",
       "      <td>2458</td>\n",
       "      <td>Benjamin Grimm (Earth-616)</td>\n",
       "      <td>\\/Benjamin_Grimm_(Earth-616)</td>\n",
       "      <td>Public Identity</td>\n",
       "      <td>Good Characters</td>\n",
       "      <td>Blue Eyes</td>\n",
       "      <td>No Hair</td>\n",
       "      <td>Male Characters</td>\n",
       "      <td>NaN</td>\n",
       "      <td>Living Characters</td>\n",
       "      <td>2255.0</td>\n",
       "      <td>Nov-61</td>\n",
       "      <td>1961.0</td>\n",
       "    </tr>\n",
       "    <tr>\n",
       "      <th>6</th>\n",
       "      <td>2166</td>\n",
       "      <td>Reed Richards (Earth-616)</td>\n",
       "      <td>\\/Reed_Richards_(Earth-616)</td>\n",
       "      <td>Public Identity</td>\n",
       "      <td>Good Characters</td>\n",
       "      <td>Brown Eyes</td>\n",
       "      <td>Brown Hair</td>\n",
       "      <td>Male Characters</td>\n",
       "      <td>NaN</td>\n",
       "      <td>Living Characters</td>\n",
       "      <td>2072.0</td>\n",
       "      <td>Nov-61</td>\n",
       "      <td>1961.0</td>\n",
       "    </tr>\n",
       "    <tr>\n",
       "      <th>7</th>\n",
       "      <td>1833</td>\n",
       "      <td>Hulk (Robert Bruce Banner)</td>\n",
       "      <td>\\/Hulk_(Robert_Bruce_Banner)</td>\n",
       "      <td>Public Identity</td>\n",
       "      <td>Good Characters</td>\n",
       "      <td>Brown Eyes</td>\n",
       "      <td>Brown Hair</td>\n",
       "      <td>Male Characters</td>\n",
       "      <td>NaN</td>\n",
       "      <td>Living Characters</td>\n",
       "      <td>2017.0</td>\n",
       "      <td>May-62</td>\n",
       "      <td>1962.0</td>\n",
       "    </tr>\n",
       "    <tr>\n",
       "      <th>8</th>\n",
       "      <td>29481</td>\n",
       "      <td>Scott Summers (Earth-616)</td>\n",
       "      <td>\\/Scott_Summers_(Earth-616)</td>\n",
       "      <td>Public Identity</td>\n",
       "      <td>Neutral Characters</td>\n",
       "      <td>Brown Eyes</td>\n",
       "      <td>Brown Hair</td>\n",
       "      <td>Male Characters</td>\n",
       "      <td>NaN</td>\n",
       "      <td>Living Characters</td>\n",
       "      <td>1955.0</td>\n",
       "      <td>Sep-63</td>\n",
       "      <td>1963.0</td>\n",
       "    </tr>\n",
       "    <tr>\n",
       "      <th>9</th>\n",
       "      <td>1837</td>\n",
       "      <td>Jonathan Storm (Earth-616)</td>\n",
       "      <td>\\/Jonathan_Storm_(Earth-616)</td>\n",
       "      <td>Public Identity</td>\n",
       "      <td>Good Characters</td>\n",
       "      <td>Blue Eyes</td>\n",
       "      <td>Blond Hair</td>\n",
       "      <td>Male Characters</td>\n",
       "      <td>NaN</td>\n",
       "      <td>Living Characters</td>\n",
       "      <td>1934.0</td>\n",
       "      <td>Nov-61</td>\n",
       "      <td>1961.0</td>\n",
       "    </tr>\n",
       "  </tbody>\n",
       "</table>\n",
       "</div>"
      ],
      "text/plain": [
       "   page_id                                 name  \\\n",
       "0     1678            Spider-Man (Peter Parker)   \n",
       "1     7139      Captain America (Steven Rogers)   \n",
       "2    64786  Wolverine (James \\\"Logan\\\" Howlett)   \n",
       "3     1868    Iron Man (Anthony \\\"Tony\\\" Stark)   \n",
       "4     2460                  Thor (Thor Odinson)   \n",
       "5     2458           Benjamin Grimm (Earth-616)   \n",
       "6     2166            Reed Richards (Earth-616)   \n",
       "7     1833           Hulk (Robert Bruce Banner)   \n",
       "8    29481            Scott Summers (Earth-616)   \n",
       "9     1837           Jonathan Storm (Earth-616)   \n",
       "\n",
       "                                   urlslug                ID  \\\n",
       "0              \\/Spider-Man_(Peter_Parker)   Secret Identity   \n",
       "1        \\/Captain_America_(Steven_Rogers)   Public Identity   \n",
       "2  \\/Wolverine_(James_%22Logan%22_Howlett)   Public Identity   \n",
       "3    \\/Iron_Man_(Anthony_%22Tony%22_Stark)   Public Identity   \n",
       "4                    \\/Thor_(Thor_Odinson)  No Dual Identity   \n",
       "5             \\/Benjamin_Grimm_(Earth-616)   Public Identity   \n",
       "6              \\/Reed_Richards_(Earth-616)   Public Identity   \n",
       "7             \\/Hulk_(Robert_Bruce_Banner)   Public Identity   \n",
       "8              \\/Scott_Summers_(Earth-616)   Public Identity   \n",
       "9             \\/Jonathan_Storm_(Earth-616)   Public Identity   \n",
       "\n",
       "                ALIGN         EYE        HAIR              SEX  GSM  \\\n",
       "0     Good Characters  Hazel Eyes  Brown Hair  Male Characters  NaN   \n",
       "1     Good Characters   Blue Eyes  White Hair  Male Characters  NaN   \n",
       "2  Neutral Characters   Blue Eyes  Black Hair  Male Characters  NaN   \n",
       "3     Good Characters   Blue Eyes  Black Hair  Male Characters  NaN   \n",
       "4     Good Characters   Blue Eyes  Blond Hair  Male Characters  NaN   \n",
       "5     Good Characters   Blue Eyes     No Hair  Male Characters  NaN   \n",
       "6     Good Characters  Brown Eyes  Brown Hair  Male Characters  NaN   \n",
       "7     Good Characters  Brown Eyes  Brown Hair  Male Characters  NaN   \n",
       "8  Neutral Characters  Brown Eyes  Brown Hair  Male Characters  NaN   \n",
       "9     Good Characters   Blue Eyes  Blond Hair  Male Characters  NaN   \n",
       "\n",
       "               ALIVE  APPEARANCES FIRST APPEARANCE    Year  \n",
       "0  Living Characters       4043.0           Aug-62  1962.0  \n",
       "1  Living Characters       3360.0           Mar-41  1941.0  \n",
       "2  Living Characters       3061.0           Oct-74  1974.0  \n",
       "3  Living Characters       2961.0           Mar-63  1963.0  \n",
       "4  Living Characters       2258.0           Nov-50  1950.0  \n",
       "5  Living Characters       2255.0           Nov-61  1961.0  \n",
       "6  Living Characters       2072.0           Nov-61  1961.0  \n",
       "7  Living Characters       2017.0           May-62  1962.0  \n",
       "8  Living Characters       1955.0           Sep-63  1963.0  \n",
       "9  Living Characters       1934.0           Nov-61  1961.0  "
      ]
     },
     "execution_count": 96,
     "metadata": {},
     "output_type": "execute_result"
    }
   ],
   "source": [
    "# Cargamos los datos del fichero\n",
    "ruta = 'carpeta_ficheros/data_marvel-wikia-data.csv'\n",
    "dataset = pd.read_csv(ruta)\n",
    "dataset.head(10)"
   ]
  },
  {
   "cell_type": "code",
   "execution_count": 107,
   "metadata": {},
   "outputs": [
    {
     "data": {
      "text/html": [
       "<div>\n",
       "<style scoped>\n",
       "    .dataframe tbody tr th:only-of-type {\n",
       "        vertical-align: middle;\n",
       "    }\n",
       "\n",
       "    .dataframe tbody tr th {\n",
       "        vertical-align: top;\n",
       "    }\n",
       "\n",
       "    .dataframe thead th {\n",
       "        text-align: right;\n",
       "    }\n",
       "</style>\n",
       "<table border=\"1\" class=\"dataframe\">\n",
       "  <thead>\n",
       "    <tr style=\"text-align: right;\">\n",
       "      <th></th>\n",
       "      <th>page_id</th>\n",
       "      <th>name</th>\n",
       "      <th>urlslug</th>\n",
       "      <th>ID</th>\n",
       "      <th>ALIGN</th>\n",
       "      <th>EYE</th>\n",
       "      <th>HAIR</th>\n",
       "      <th>SEX</th>\n",
       "      <th>GSM</th>\n",
       "      <th>ALIVE</th>\n",
       "      <th>APPEARANCES</th>\n",
       "      <th>FIRST APPEARANCE</th>\n",
       "      <th>Year</th>\n",
       "    </tr>\n",
       "  </thead>\n",
       "  <tbody>\n",
       "    <tr>\n",
       "      <th>11599</th>\n",
       "      <td>548362</td>\n",
       "      <td>Prunella Hawkins (Earth-616)</td>\n",
       "      <td>\\/Prunella_Hawkins_(Earth-616)</td>\n",
       "      <td>Secret Identity</td>\n",
       "      <td>Bad Characters</td>\n",
       "      <td>NaN</td>\n",
       "      <td>Grey Hair</td>\n",
       "      <td>Female Characters</td>\n",
       "      <td>NaN</td>\n",
       "      <td>Living Characters</td>\n",
       "      <td>1.0</td>\n",
       "      <td>Jan-49</td>\n",
       "      <td>1949.0</td>\n",
       "    </tr>\n",
       "    <tr>\n",
       "      <th>13172</th>\n",
       "      <td>289020</td>\n",
       "      <td>Monte Devlin (Earth-616)</td>\n",
       "      <td>\\/Monte_Devlin_(Earth-616)</td>\n",
       "      <td>Secret Identity</td>\n",
       "      <td>Bad Characters</td>\n",
       "      <td>NaN</td>\n",
       "      <td>NaN</td>\n",
       "      <td>Male Characters</td>\n",
       "      <td>NaN</td>\n",
       "      <td>Living Characters</td>\n",
       "      <td>1.0</td>\n",
       "      <td>Aug-92</td>\n",
       "      <td>1992.0</td>\n",
       "    </tr>\n",
       "    <tr>\n",
       "      <th>5983</th>\n",
       "      <td>706138</td>\n",
       "      <td>Godfried Herter (Earth-616)</td>\n",
       "      <td>\\/Godfried_Herter_(Earth-616)</td>\n",
       "      <td>Secret Identity</td>\n",
       "      <td>Bad Characters</td>\n",
       "      <td>Brown Eyes</td>\n",
       "      <td>Grey Hair</td>\n",
       "      <td>Male Characters</td>\n",
       "      <td>NaN</td>\n",
       "      <td>Living Characters</td>\n",
       "      <td>4.0</td>\n",
       "      <td>Jan-71</td>\n",
       "      <td>1971.0</td>\n",
       "    </tr>\n",
       "    <tr>\n",
       "      <th>2762</th>\n",
       "      <td>43764</td>\n",
       "      <td>Flea (Earth-616)</td>\n",
       "      <td>\\/Flea_(Earth-616)</td>\n",
       "      <td>NaN</td>\n",
       "      <td>Neutral Characters</td>\n",
       "      <td>NaN</td>\n",
       "      <td>Black Hair</td>\n",
       "      <td>Male Characters</td>\n",
       "      <td>NaN</td>\n",
       "      <td>Deceased Characters</td>\n",
       "      <td>12.0</td>\n",
       "      <td>Jan-73</td>\n",
       "      <td>1973.0</td>\n",
       "    </tr>\n",
       "    <tr>\n",
       "      <th>8706</th>\n",
       "      <td>248767</td>\n",
       "      <td>Erik Gorbo (Earth-616)</td>\n",
       "      <td>\\/Erik_Gorbo_(Earth-616)</td>\n",
       "      <td>NaN</td>\n",
       "      <td>Bad Characters</td>\n",
       "      <td>NaN</td>\n",
       "      <td>NaN</td>\n",
       "      <td>Male Characters</td>\n",
       "      <td>NaN</td>\n",
       "      <td>Deceased Characters</td>\n",
       "      <td>2.0</td>\n",
       "      <td>Mar-71</td>\n",
       "      <td>1971.0</td>\n",
       "    </tr>\n",
       "  </tbody>\n",
       "</table>\n",
       "</div>"
      ],
      "text/plain": [
       "       page_id                          name                         urlslug  \\\n",
       "11599   548362  Prunella Hawkins (Earth-616)  \\/Prunella_Hawkins_(Earth-616)   \n",
       "13172   289020      Monte Devlin (Earth-616)      \\/Monte_Devlin_(Earth-616)   \n",
       "5983    706138   Godfried Herter (Earth-616)   \\/Godfried_Herter_(Earth-616)   \n",
       "2762     43764              Flea (Earth-616)              \\/Flea_(Earth-616)   \n",
       "8706    248767        Erik Gorbo (Earth-616)        \\/Erik_Gorbo_(Earth-616)   \n",
       "\n",
       "                    ID               ALIGN         EYE        HAIR  \\\n",
       "11599  Secret Identity      Bad Characters         NaN   Grey Hair   \n",
       "13172  Secret Identity      Bad Characters         NaN         NaN   \n",
       "5983   Secret Identity      Bad Characters  Brown Eyes   Grey Hair   \n",
       "2762               NaN  Neutral Characters         NaN  Black Hair   \n",
       "8706               NaN      Bad Characters         NaN         NaN   \n",
       "\n",
       "                     SEX  GSM                ALIVE  APPEARANCES  \\\n",
       "11599  Female Characters  NaN    Living Characters          1.0   \n",
       "13172    Male Characters  NaN    Living Characters          1.0   \n",
       "5983     Male Characters  NaN    Living Characters          4.0   \n",
       "2762     Male Characters  NaN  Deceased Characters         12.0   \n",
       "8706     Male Characters  NaN  Deceased Characters          2.0   \n",
       "\n",
       "      FIRST APPEARANCE    Year  \n",
       "11599           Jan-49  1949.0  \n",
       "13172           Aug-92  1992.0  \n",
       "5983            Jan-71  1971.0  \n",
       "2762            Jan-73  1973.0  \n",
       "8706            Mar-71  1971.0  "
      ]
     },
     "execution_count": 107,
     "metadata": {},
     "output_type": "execute_result"
    }
   ],
   "source": [
    "dataset.sample(5, random_state=17)"
   ]
  },
  {
   "cell_type": "code",
   "execution_count": 108,
   "metadata": {},
   "outputs": [
    {
     "data": {
      "text/html": [
       "<div>\n",
       "<style scoped>\n",
       "    .dataframe tbody tr th:only-of-type {\n",
       "        vertical-align: middle;\n",
       "    }\n",
       "\n",
       "    .dataframe tbody tr th {\n",
       "        vertical-align: top;\n",
       "    }\n",
       "\n",
       "    .dataframe thead th {\n",
       "        text-align: right;\n",
       "    }\n",
       "</style>\n",
       "<table border=\"1\" class=\"dataframe\">\n",
       "  <thead>\n",
       "    <tr style=\"text-align: right;\">\n",
       "      <th></th>\n",
       "      <th>page_id</th>\n",
       "      <th>name</th>\n",
       "      <th>urlslug</th>\n",
       "      <th>ID</th>\n",
       "      <th>ALIGN</th>\n",
       "      <th>EYE</th>\n",
       "      <th>HAIR</th>\n",
       "      <th>SEX</th>\n",
       "      <th>GSM</th>\n",
       "      <th>ALIVE</th>\n",
       "      <th>APPEARANCES</th>\n",
       "      <th>FIRST APPEARANCE</th>\n",
       "      <th>Year</th>\n",
       "    </tr>\n",
       "  </thead>\n",
       "  <tbody>\n",
       "    <tr>\n",
       "      <th>16371</th>\n",
       "      <td>657508</td>\n",
       "      <td>Ru'ach (Earth-616)</td>\n",
       "      <td>\\/Ru%27ach_(Earth-616)</td>\n",
       "      <td>No Dual Identity</td>\n",
       "      <td>Bad Characters</td>\n",
       "      <td>Green Eyes</td>\n",
       "      <td>No Hair</td>\n",
       "      <td>Male Characters</td>\n",
       "      <td>NaN</td>\n",
       "      <td>Living Characters</td>\n",
       "      <td>NaN</td>\n",
       "      <td>NaN</td>\n",
       "      <td>NaN</td>\n",
       "    </tr>\n",
       "    <tr>\n",
       "      <th>16372</th>\n",
       "      <td>665474</td>\n",
       "      <td>Thane (Thanos' son) (Earth-616)</td>\n",
       "      <td>\\/Thane_(Thanos%27_son)_(Earth-616)</td>\n",
       "      <td>No Dual Identity</td>\n",
       "      <td>Good Characters</td>\n",
       "      <td>Blue Eyes</td>\n",
       "      <td>Bald</td>\n",
       "      <td>Male Characters</td>\n",
       "      <td>NaN</td>\n",
       "      <td>Living Characters</td>\n",
       "      <td>NaN</td>\n",
       "      <td>NaN</td>\n",
       "      <td>NaN</td>\n",
       "    </tr>\n",
       "    <tr>\n",
       "      <th>16373</th>\n",
       "      <td>695217</td>\n",
       "      <td>Tinkerer (Skrull) (Earth-616)</td>\n",
       "      <td>\\/Tinkerer_(Skrull)_(Earth-616)</td>\n",
       "      <td>Secret Identity</td>\n",
       "      <td>Bad Characters</td>\n",
       "      <td>Black Eyes</td>\n",
       "      <td>Bald</td>\n",
       "      <td>Male Characters</td>\n",
       "      <td>NaN</td>\n",
       "      <td>Living Characters</td>\n",
       "      <td>NaN</td>\n",
       "      <td>NaN</td>\n",
       "      <td>NaN</td>\n",
       "    </tr>\n",
       "    <tr>\n",
       "      <th>16374</th>\n",
       "      <td>708811</td>\n",
       "      <td>TK421 (Spiderling) (Earth-616)</td>\n",
       "      <td>\\/TK421_(Spiderling)_(Earth-616)</td>\n",
       "      <td>Secret Identity</td>\n",
       "      <td>Neutral Characters</td>\n",
       "      <td>NaN</td>\n",
       "      <td>NaN</td>\n",
       "      <td>Male Characters</td>\n",
       "      <td>NaN</td>\n",
       "      <td>Living Characters</td>\n",
       "      <td>NaN</td>\n",
       "      <td>NaN</td>\n",
       "      <td>NaN</td>\n",
       "    </tr>\n",
       "    <tr>\n",
       "      <th>16375</th>\n",
       "      <td>673702</td>\n",
       "      <td>Yologarch (Earth-616)</td>\n",
       "      <td>\\/Yologarch_(Earth-616)</td>\n",
       "      <td>NaN</td>\n",
       "      <td>Bad Characters</td>\n",
       "      <td>NaN</td>\n",
       "      <td>NaN</td>\n",
       "      <td>NaN</td>\n",
       "      <td>NaN</td>\n",
       "      <td>Living Characters</td>\n",
       "      <td>NaN</td>\n",
       "      <td>NaN</td>\n",
       "      <td>NaN</td>\n",
       "    </tr>\n",
       "  </tbody>\n",
       "</table>\n",
       "</div>"
      ],
      "text/plain": [
       "       page_id                             name  \\\n",
       "16371   657508               Ru'ach (Earth-616)   \n",
       "16372   665474  Thane (Thanos' son) (Earth-616)   \n",
       "16373   695217    Tinkerer (Skrull) (Earth-616)   \n",
       "16374   708811   TK421 (Spiderling) (Earth-616)   \n",
       "16375   673702            Yologarch (Earth-616)   \n",
       "\n",
       "                                   urlslug                ID  \\\n",
       "16371               \\/Ru%27ach_(Earth-616)  No Dual Identity   \n",
       "16372  \\/Thane_(Thanos%27_son)_(Earth-616)  No Dual Identity   \n",
       "16373      \\/Tinkerer_(Skrull)_(Earth-616)   Secret Identity   \n",
       "16374     \\/TK421_(Spiderling)_(Earth-616)   Secret Identity   \n",
       "16375              \\/Yologarch_(Earth-616)               NaN   \n",
       "\n",
       "                    ALIGN         EYE     HAIR              SEX  GSM  \\\n",
       "16371      Bad Characters  Green Eyes  No Hair  Male Characters  NaN   \n",
       "16372     Good Characters   Blue Eyes     Bald  Male Characters  NaN   \n",
       "16373      Bad Characters  Black Eyes     Bald  Male Characters  NaN   \n",
       "16374  Neutral Characters         NaN      NaN  Male Characters  NaN   \n",
       "16375      Bad Characters         NaN      NaN              NaN  NaN   \n",
       "\n",
       "                   ALIVE  APPEARANCES FIRST APPEARANCE  Year  \n",
       "16371  Living Characters          NaN              NaN   NaN  \n",
       "16372  Living Characters          NaN              NaN   NaN  \n",
       "16373  Living Characters          NaN              NaN   NaN  \n",
       "16374  Living Characters          NaN              NaN   NaN  \n",
       "16375  Living Characters          NaN              NaN   NaN  "
      ]
     },
     "execution_count": 108,
     "metadata": {},
     "output_type": "execute_result"
    }
   ],
   "source": [
    "# Si quiero ver las últimas filas\n",
    "dataset.tail()"
   ]
  },
  {
   "cell_type": "code",
   "execution_count": 110,
   "metadata": {},
   "outputs": [
    {
     "data": {
      "text/plain": [
       "(16376, 13)"
      ]
     },
     "execution_count": 110,
     "metadata": {},
     "output_type": "execute_result"
    }
   ],
   "source": [
    "# El shape devuelve el formato del dataset (n filas, m columnas)\n",
    "dataset.shape"
   ]
  },
  {
   "cell_type": "code",
   "execution_count": 111,
   "metadata": {},
   "outputs": [
    {
     "name": "stdout",
     "output_type": "stream",
     "text": [
      "<class 'pandas.core.frame.DataFrame'>\n",
      "RangeIndex: 16376 entries, 0 to 16375\n",
      "Data columns (total 13 columns):\n",
      " #   Column            Non-Null Count  Dtype  \n",
      "---  ------            --------------  -----  \n",
      " 0   page_id           16376 non-null  int64  \n",
      " 1   name              16376 non-null  object \n",
      " 2   urlslug           16376 non-null  object \n",
      " 3   ID                12606 non-null  object \n",
      " 4   ALIGN             13564 non-null  object \n",
      " 5   EYE               6609 non-null   object \n",
      " 6   HAIR              12112 non-null  object \n",
      " 7   SEX               15522 non-null  object \n",
      " 8   GSM               90 non-null     object \n",
      " 9   ALIVE             16373 non-null  object \n",
      " 10  APPEARANCES       15280 non-null  float64\n",
      " 11  FIRST APPEARANCE  15561 non-null  object \n",
      " 12  Year              15561 non-null  float64\n",
      "dtypes: float64(2), int64(1), object(10)\n",
      "memory usage: 1.6+ MB\n"
     ]
    }
   ],
   "source": [
    "dataset.info()"
   ]
  },
  {
   "cell_type": "code",
   "execution_count": 112,
   "metadata": {},
   "outputs": [
    {
     "data": {
      "text/html": [
       "<div>\n",
       "<style scoped>\n",
       "    .dataframe tbody tr th:only-of-type {\n",
       "        vertical-align: middle;\n",
       "    }\n",
       "\n",
       "    .dataframe tbody tr th {\n",
       "        vertical-align: top;\n",
       "    }\n",
       "\n",
       "    .dataframe thead th {\n",
       "        text-align: right;\n",
       "    }\n",
       "</style>\n",
       "<table border=\"1\" class=\"dataframe\">\n",
       "  <thead>\n",
       "    <tr style=\"text-align: right;\">\n",
       "      <th></th>\n",
       "      <th>page_id</th>\n",
       "      <th>APPEARANCES</th>\n",
       "      <th>Year</th>\n",
       "    </tr>\n",
       "  </thead>\n",
       "  <tbody>\n",
       "    <tr>\n",
       "      <th>count</th>\n",
       "      <td>16376.000000</td>\n",
       "      <td>15280.000000</td>\n",
       "      <td>15561.000000</td>\n",
       "    </tr>\n",
       "    <tr>\n",
       "      <th>mean</th>\n",
       "      <td>300232.082377</td>\n",
       "      <td>17.033377</td>\n",
       "      <td>1984.951803</td>\n",
       "    </tr>\n",
       "    <tr>\n",
       "      <th>std</th>\n",
       "      <td>253460.403399</td>\n",
       "      <td>96.372959</td>\n",
       "      <td>19.663571</td>\n",
       "    </tr>\n",
       "    <tr>\n",
       "      <th>min</th>\n",
       "      <td>1025.000000</td>\n",
       "      <td>1.000000</td>\n",
       "      <td>1939.000000</td>\n",
       "    </tr>\n",
       "    <tr>\n",
       "      <th>25%</th>\n",
       "      <td>28309.500000</td>\n",
       "      <td>1.000000</td>\n",
       "      <td>1974.000000</td>\n",
       "    </tr>\n",
       "    <tr>\n",
       "      <th>50%</th>\n",
       "      <td>282578.000000</td>\n",
       "      <td>3.000000</td>\n",
       "      <td>1990.000000</td>\n",
       "    </tr>\n",
       "    <tr>\n",
       "      <th>75%</th>\n",
       "      <td>509077.000000</td>\n",
       "      <td>8.000000</td>\n",
       "      <td>2000.000000</td>\n",
       "    </tr>\n",
       "    <tr>\n",
       "      <th>max</th>\n",
       "      <td>755278.000000</td>\n",
       "      <td>4043.000000</td>\n",
       "      <td>2013.000000</td>\n",
       "    </tr>\n",
       "  </tbody>\n",
       "</table>\n",
       "</div>"
      ],
      "text/plain": [
       "             page_id   APPEARANCES          Year\n",
       "count   16376.000000  15280.000000  15561.000000\n",
       "mean   300232.082377     17.033377   1984.951803\n",
       "std    253460.403399     96.372959     19.663571\n",
       "min      1025.000000      1.000000   1939.000000\n",
       "25%     28309.500000      1.000000   1974.000000\n",
       "50%    282578.000000      3.000000   1990.000000\n",
       "75%    509077.000000      8.000000   2000.000000\n",
       "max    755278.000000   4043.000000   2013.000000"
      ]
     },
     "execution_count": 112,
     "metadata": {},
     "output_type": "execute_result"
    }
   ],
   "source": [
    "# Los estadísticos del dataset\n",
    "dataset.describe()"
   ]
  },
  {
   "cell_type": "code",
   "execution_count": 114,
   "metadata": {},
   "outputs": [
    {
     "data": {
      "text/plain": [
       "Index(['page_id', 'name', 'urlslug', 'ID', 'ALIGN', 'EYE', 'HAIR', 'SEX',\n",
       "       'GSM', 'ALIVE', 'APPEARANCES', 'FIRST APPEARANCE', 'Year'],\n",
       "      dtype='object')"
      ]
     },
     "execution_count": 114,
     "metadata": {},
     "output_type": "execute_result"
    }
   ],
   "source": [
    "# Conocer las columnas\n",
    "dataset.columns"
   ]
  }
 ],
 "metadata": {
  "interpreter": {
   "hash": "3a457f06cda4579c7033761bf4e886c4764e74b759b9220f07c03aa5d4880471"
  },
  "kernelspec": {
   "display_name": "Python 3.9.5 ('data_science_py395')",
   "language": "python",
   "name": "python3"
  },
  "language_info": {
   "codemirror_mode": {
    "name": "ipython",
    "version": 3
   },
   "file_extension": ".py",
   "mimetype": "text/x-python",
   "name": "python",
   "nbconvert_exporter": "python",
   "pygments_lexer": "ipython3",
   "version": "3.9.5"
  },
  "orig_nbformat": 4
 },
 "nbformat": 4,
 "nbformat_minor": 2
}
