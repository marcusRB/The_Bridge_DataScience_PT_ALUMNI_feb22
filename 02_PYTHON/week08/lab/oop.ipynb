{
 "cells": [
  {
   "cell_type": "markdown",
   "metadata": {},
   "source": [
    "# Programación Orientada a Objetos\n",
    "\n",
    "![](../img/oop.png)"
   ]
  },
  {
   "cell_type": "code",
   "execution_count": 1,
   "metadata": {},
   "outputs": [],
   "source": [
    "# Crear un objeto del tipo lista, conjunto de varios elementos\n",
    "variable = \"Marco\"\n",
    "alumnos = ['Pepe', 'Fernando', 'Leticia', 'Maria', 'José']"
   ]
  },
  {
   "cell_type": "code",
   "execution_count": 2,
   "metadata": {},
   "outputs": [],
   "source": [
    "# Creación de un objeto con diferentes atributos\n",
    "mobile = {type: [None, {\"k\":\"v\"}]}"
   ]
  },
  {
   "cell_type": "code",
   "execution_count": 44,
   "metadata": {},
   "outputs": [],
   "source": [
    "mobile = {\n",
    "    \"marca\" : \"Samsung\",\n",
    "    \"SO\": \"Android\",\n",
    "    \"version\" : \"5.6\",\n",
    "    \"modelo\" : \"A22\",\n",
    "    \"screen_size\" : 7,\n",
    "    \"weight\" : 200,\n",
    "    \"color\" : \"silver\",\n",
    "    \"RAM\" : 8,\n",
    "    \"memoria\" : 512,\n",
    "    \"camara\" : {\n",
    "        \"frontal\" : {\"resolution\":\"15MP\"},\n",
    "        \"back\" : [\n",
    "            {\"type\": \"zoom\",\n",
    "            \"resolution\": \"25MP\"},\n",
    "            {\"type\": \"macro\",\n",
    "            \"resolution\": \"30MP\"}\n",
    "            ]\n",
    "        },\n",
    "    \"bateria\" : {\"type\" : \"Lithium\",\n",
    "                \"MaxCharge\" : 4500,\n",
    "                \"charge\":0.56},\n",
    "    \"apps\" : [\n",
    "        {\n",
    "        \"name\" : \"Whatsapp\",\n",
    "        \"version\" : \"1.56.0\",\n",
    "        \"memoria_ocupada\" : \"15Mb\",\n",
    "        \"desarrollador\" : \"Meta\"\n",
    "        },\n",
    "        {\n",
    "        \"name\" : \"Gmail\",\n",
    "        \"version\" : \"123.56.0\",\n",
    "        \"memoria_ocupada\" : \"105Mb\",\n",
    "        \"desarrollador\" : \"Google\"\n",
    "        }\n",
    "    ]\n",
    "}"
   ]
  },
  {
   "cell_type": "code",
   "execution_count": 45,
   "metadata": {},
   "outputs": [],
   "source": [
    "# Definimos una función para cargar el móvil\n",
    "def charge_phone(phone):\n",
    "    '''\n",
    "    La función toma un objeto y carga la bateria\n",
    "    \n",
    "    Args:\n",
    "    ----\n",
    "        phone obj dict positional\n",
    "\n",
    "    Return:\n",
    "    -----\n",
    "        mismo objeto dict con valor cambiado\n",
    "    '''\n",
    "    phone['bateria']['charge'] = 1\n",
    "    return phone"
   ]
  },
  {
   "cell_type": "code",
   "execution_count": 6,
   "metadata": {},
   "outputs": [
    {
     "data": {
      "text/plain": [
       "{'marca': 'Samsung',\n",
       " 'SO': 'Android',\n",
       " 'version': '5.6',\n",
       " 'modelo': 'A22',\n",
       " 'screen_size': 7,\n",
       " 'weight': 200,\n",
       " 'color': 'silver',\n",
       " 'RAM': 8,\n",
       " 'memoria': 512,\n",
       " 'camara': {'frontal': {'resolution': '15MP'},\n",
       "  'back': [{'type': 'zoom', 'resolution': '25MP'},\n",
       "   {'type': 'macro', 'resolution': '30MP'}]},\n",
       " 'bateria': {'type': 'Lithium', 'MaxCharge': 4500, 'charge': 0.56},\n",
       " 'apps': [{'name': 'Whatsapp',\n",
       "   'version': '1.56.0',\n",
       "   'memoria_ocupada': '15Mb',\n",
       "   'desarrollador': 'Meta'},\n",
       "  {'name': 'Gmail',\n",
       "   'version': '123.56.0',\n",
       "   'memoria_ocupada': '105Mb',\n",
       "   'desarrollador': 'Google'}]}"
      ]
     },
     "execution_count": 6,
     "metadata": {},
     "output_type": "execute_result"
    }
   ],
   "source": [
    "mobile"
   ]
  },
  {
   "cell_type": "code",
   "execution_count": null,
   "metadata": {},
   "outputs": [],
   "source": [
    "charge_phone()"
   ]
  },
  {
   "cell_type": "code",
   "execution_count": 7,
   "metadata": {},
   "outputs": [
    {
     "data": {
      "text/plain": [
       "{'marca': 'Samsung',\n",
       " 'SO': 'Android',\n",
       " 'version': '5.6',\n",
       " 'modelo': 'A22',\n",
       " 'screen_size': 7,\n",
       " 'weight': 200,\n",
       " 'color': 'silver',\n",
       " 'RAM': 8,\n",
       " 'memoria': 512,\n",
       " 'camara': {'frontal': {'resolution': '15MP'},\n",
       "  'back': [{'type': 'zoom', 'resolution': '25MP'},\n",
       "   {'type': 'macro', 'resolution': '30MP'}]},\n",
       " 'bateria': {'type': 'Lithium', 'MaxCharge': 4500, 'charge': 1},\n",
       " 'apps': [{'name': 'Whatsapp',\n",
       "   'version': '1.56.0',\n",
       "   'memoria_ocupada': '15Mb',\n",
       "   'desarrollador': 'Meta'},\n",
       "  {'name': 'Gmail',\n",
       "   'version': '123.56.0',\n",
       "   'memoria_ocupada': '105Mb',\n",
       "   'desarrollador': 'Google'}]}"
      ]
     },
     "execution_count": 7,
     "metadata": {},
     "output_type": "execute_result"
    }
   ],
   "source": [
    "charge_phone(mobile)"
   ]
  },
  {
   "cell_type": "code",
   "execution_count": 46,
   "metadata": {},
   "outputs": [],
   "source": [
    "gmail_app = {'name': 'Gmail',\n",
    "   'version': '123.56.0',\n",
    "   'memoria_ocupada': '105Mb',\n",
    "   'desarrollador': 'Google'}"
   ]
  },
  {
   "cell_type": "markdown",
   "metadata": {},
   "source": [
    "```\n",
    "name : \"TheBridgeDSapp\"\n",
    "vers: 1.0.1\n",
    "desarrolador: TheBridge\n",
    "memoria_ocupada: 200Mb\n",
    "```"
   ]
  },
  {
   "cell_type": "markdown",
   "metadata": {},
   "source": [
    "```\n",
    "name : \"YouTube\"\n",
    "vers: 10.50\n",
    "desarrolador: Google\n",
    "memoria_ocupada: 300Mb\n",
    "```"
   ]
  },
  {
   "cell_type": "code",
   "execution_count": 12,
   "metadata": {},
   "outputs": [
    {
     "data": {
      "text/plain": [
       "list"
      ]
     },
     "execution_count": 12,
     "metadata": {},
     "output_type": "execute_result"
    }
   ],
   "source": [
    "type(mobile['apps'])"
   ]
  },
  {
   "cell_type": "code",
   "execution_count": 14,
   "metadata": {},
   "outputs": [
    {
     "name": "stdout",
     "output_type": "stream",
     "text": [
      "{'name': 'Whatsapp', 'version': '1.56.0', 'memoria_ocupada': '15Mb', 'desarrollador': 'Meta'}\n",
      "{'name': 'Gmail', 'version': '123.56.0', 'memoria_ocupada': '105Mb', 'desarrollador': 'Google'}\n"
     ]
    }
   ],
   "source": [
    "for i in mobile['apps']:\n",
    "    print(i)"
   ]
  },
  {
   "cell_type": "code",
   "execution_count": 15,
   "metadata": {},
   "outputs": [
    {
     "data": {
      "text/plain": [
       "[{'name': 'Whatsapp',\n",
       "  'version': '1.56.0',\n",
       "  'memoria_ocupada': '15Mb',\n",
       "  'desarrollador': 'Meta'},\n",
       " {'name': 'Gmail',\n",
       "  'version': '123.56.0',\n",
       "  'memoria_ocupada': '105Mb',\n",
       "  'desarrollador': 'Google'}]"
      ]
     },
     "execution_count": 15,
     "metadata": {},
     "output_type": "execute_result"
    }
   ],
   "source": [
    "[i for i in mobile['apps']]"
   ]
  },
  {
   "cell_type": "code",
   "execution_count": 50,
   "metadata": {},
   "outputs": [],
   "source": [
    "gmail_app = {'name': 'Gmail',\n",
    "  'version': '13.56.0',\n",
    "  'memoria_ocupada': '105Mb',\n",
    "  'desarrollador': 'Google'}"
   ]
  },
  {
   "cell_type": "markdown",
   "metadata": {},
   "source": [
    "\n",
    "```\n",
    "# Crear dos funciones, una para update y otra para desinstalar una app\n",
    "'name': 'Gmail',\n",
    "   'version': '12.56.0',\n",
    "   'memoria_ocupada': '105Mb',\n",
    "   'desarrollador': 'Google'\n",
    "```"
   ]
  },
  {
   "cell_type": "code",
   "execution_count": 48,
   "metadata": {},
   "outputs": [],
   "source": [
    "def install_app(phone, app):\n",
    "   IF  lista...apps...> name == app['name'] Gmail, gmail gmaill g-mail\n",
    "    phone['apps'].append(app)\n",
    "    return phone['apps']"
   ]
  },
  {
   "cell_type": "code",
   "execution_count": 53,
   "metadata": {},
   "outputs": [
    {
     "data": {
      "text/plain": [
       "[{'name': 'Whatsapp',\n",
       "  'version': '1.56.0',\n",
       "  'memoria_ocupada': '15Mb',\n",
       "  'desarrollador': 'Meta'},\n",
       " {'name': 'Gmail',\n",
       "  'version': '123.56.0',\n",
       "  'memoria_ocupada': '105Mb',\n",
       "  'desarrollador': 'Google'},\n",
       " {'name': 'Gmail',\n",
       "  'version': '123.56.0',\n",
       "  'memoria_ocupada': '105Mb',\n",
       "  'desarrollador': 'Google'},\n",
       " {'name': 'Gmail',\n",
       "  'version': '13.56.0',\n",
       "  'memoria_ocupada': '105Mb',\n",
       "  'desarrollador': 'Google'},\n",
       " {'name': 'Gmail',\n",
       "  'version': '13.56.0',\n",
       "  'memoria_ocupada': '105Mb',\n",
       "  'desarrollador': 'Google'},\n",
       " {'name': 'Gmail',\n",
       "  'version': '13.56.0',\n",
       "  'memoria_ocupada': '105Mb',\n",
       "  'desarrollador': 'Google'}]"
      ]
     },
     "execution_count": 53,
     "metadata": {},
     "output_type": "execute_result"
    }
   ],
   "source": [
    "install_app(mobile, gmail_app)"
   ]
  },
  {
   "cell_type": "code",
   "execution_count": 31,
   "metadata": {},
   "outputs": [],
   "source": [
    "def update_app(phone, app, version):\n",
    "    for i in phone['apps']: \n",
    "        if i['name'] == app:\n",
    "            i['version'] = version"
   ]
  },
  {
   "cell_type": "code",
   "execution_count": 33,
   "metadata": {},
   "outputs": [],
   "source": [
    "update_app(mobile, 'Gmail', '13')"
   ]
  },
  {
   "cell_type": "code",
   "execution_count": 39,
   "metadata": {},
   "outputs": [
    {
     "data": {
      "text/plain": [
       "{'marca': 'Samsung',\n",
       " 'SO': 'Android',\n",
       " 'version': '5.6',\n",
       " 'modelo': 'A22',\n",
       " 'screen_size': 7,\n",
       " 'weight': 200,\n",
       " 'color': 'silver',\n",
       " 'RAM': 8,\n",
       " 'memoria': 512,\n",
       " 'camara': {'frontal': {'resolution': '15MP'},\n",
       "  'back': [{'type': 'zoom', 'resolution': '25MP'},\n",
       "   {'type': 'macro', 'resolution': '30MP'}]},\n",
       " 'bateria': {'type': 'Lithium', 'MaxCharge': 4500, 'charge': 1},\n",
       " 'apps': {'name': 'Gmail',\n",
       "  'version': '123.56.0',\n",
       "  'memoria_ocupada': '105Mb',\n",
       "  'desarrollador': 'Google'}}"
      ]
     },
     "execution_count": 39,
     "metadata": {},
     "output_type": "execute_result"
    }
   ],
   "source": [
    "mobile"
   ]
  },
  {
   "cell_type": "markdown",
   "metadata": {},
   "source": [
    "\n",
    "```\n",
    "# Crear dos funciones, una para update y otra para desinstalar una app\n",
    "'name': 'Gmail',\n",
    "   'version': '12.56.0',\n",
    "   'memoria_ocupada': '105Mb',\n",
    "   'desarrollador': 'Google'\n",
    "```"
   ]
  },
  {
   "cell_type": "code",
   "execution_count": 26,
   "metadata": {},
   "outputs": [],
   "source": [
    "mobile['apps'][1]['version'] = \"13\""
   ]
  },
  {
   "cell_type": "code",
   "execution_count": 27,
   "metadata": {},
   "outputs": [
    {
     "data": {
      "text/plain": [
       "{'marca': 'Samsung',\n",
       " 'SO': 'Android',\n",
       " 'version': '5.6',\n",
       " 'modelo': 'A22',\n",
       " 'screen_size': 7,\n",
       " 'weight': 200,\n",
       " 'color': 'silver',\n",
       " 'RAM': 8,\n",
       " 'memoria': 512,\n",
       " 'camara': {'frontal': {'resolution': '15MP'},\n",
       "  'back': [{'type': 'zoom', 'resolution': '25MP'},\n",
       "   {'type': 'macro', 'resolution': '30MP'}]},\n",
       " 'bateria': {'type': 'Lithium', 'MaxCharge': 4500, 'charge': 1},\n",
       " 'apps': [{'name': 'Whatsapp',\n",
       "   'version': '1.56.0',\n",
       "   'memoria_ocupada': '15Mb',\n",
       "   'desarrollador': 'Meta'},\n",
       "  {'name': 'Gmail',\n",
       "   'version': '13',\n",
       "   'memoria_ocupada': '105Mb',\n",
       "   'desarrollador': 'Google'}]}"
      ]
     },
     "execution_count": 27,
     "metadata": {},
     "output_type": "execute_result"
    }
   ],
   "source": [
    "mobile"
   ]
  },
  {
   "cell_type": "code",
   "execution_count": 56,
   "metadata": {},
   "outputs": [
    {
     "data": {
      "text/plain": [
       "['__repr__',\n",
       " '__hash__',\n",
       " '__getattribute__',\n",
       " '__lt__',\n",
       " '__le__',\n",
       " '__eq__',\n",
       " '__ne__',\n",
       " '__gt__',\n",
       " '__ge__',\n",
       " '__iter__',\n",
       " '__init__',\n",
       " '__or__',\n",
       " '__ror__',\n",
       " '__ior__',\n",
       " '__len__',\n",
       " '__getitem__',\n",
       " '__setitem__',\n",
       " '__delitem__',\n",
       " '__contains__',\n",
       " '__new__',\n",
       " '__sizeof__',\n",
       " 'get',\n",
       " 'setdefault',\n",
       " 'pop',\n",
       " 'popitem',\n",
       " 'keys',\n",
       " 'items',\n",
       " 'values',\n",
       " 'update',\n",
       " 'fromkeys',\n",
       " 'clear',\n",
       " 'copy',\n",
       " '__reversed__',\n",
       " '__class_getitem__',\n",
       " '__doc__',\n",
       " '__str__',\n",
       " '__setattr__',\n",
       " '__delattr__',\n",
       " '__reduce_ex__',\n",
       " '__reduce__',\n",
       " '__subclasshook__',\n",
       " '__init_subclass__',\n",
       " '__format__',\n",
       " '__dir__',\n",
       " '__class__']"
      ]
     },
     "execution_count": 56,
     "metadata": {},
     "output_type": "execute_result"
    }
   ],
   "source": [
    "mobile.__dir__()"
   ]
  },
  {
   "cell_type": "code",
   "execution_count": 62,
   "metadata": {},
   "outputs": [
    {
     "data": {
      "text/plain": [
       "'Whatsapp'"
      ]
     },
     "execution_count": 62,
     "metadata": {},
     "output_type": "execute_result"
    }
   ],
   "source": [
    "mobile['apps'][0]['name']"
   ]
  },
  {
   "cell_type": "code",
   "execution_count": 63,
   "metadata": {},
   "outputs": [],
   "source": [
    "def remove_app(phone, appname):\n",
    "    for i in phone['apps']:\n",
    "        if ['name'] == appname:\n",
    "            print(i)"
   ]
  },
  {
   "cell_type": "code",
   "execution_count": 84,
   "metadata": {},
   "outputs": [],
   "source": [
    "def update_app\n",
    "for pos,i in enumerate(mobile['apps']):\n",
    "    if i['name'] == \"Gmail\":\n",
    "        mobile['apps'].pop(pos)\n",
    "    "
   ]
  },
  {
   "cell_type": "code",
   "execution_count": 85,
   "metadata": {},
   "outputs": [
    {
     "data": {
      "text/plain": [
       "[{'name': 'Whatsapp',\n",
       "  'version': '1.56.0',\n",
       "  'memoria_ocupada': '15Mb',\n",
       "  'desarrollador': 'Meta'}]"
      ]
     },
     "execution_count": 85,
     "metadata": {},
     "output_type": "execute_result"
    }
   ],
   "source": [
    "mobile['apps']"
   ]
  },
  {
   "cell_type": "code",
   "execution_count": 59,
   "metadata": {},
   "outputs": [
    {
     "data": {
      "text/plain": [
       "[{'name': 'Whatsapp',\n",
       "  'version': '1.56.0',\n",
       "  'memoria_ocupada': '15Mb',\n",
       "  'desarrollador': 'Meta'},\n",
       " {'name': 'Gmail',\n",
       "  'version': '123.56.0',\n",
       "  'memoria_ocupada': '105Mb',\n",
       "  'desarrollador': 'Google'},\n",
       " {'name': 'Gmail',\n",
       "  'version': '123.56.0',\n",
       "  'memoria_ocupada': '105Mb',\n",
       "  'desarrollador': 'Google'},\n",
       " {'name': 'Gmail',\n",
       "  'version': '13.56.0',\n",
       "  'memoria_ocupada': '105Mb',\n",
       "  'desarrollador': 'Google'},\n",
       " {'name': 'Gmail',\n",
       "  'version': '13.56.0',\n",
       "  'memoria_ocupada': '105Mb',\n",
       "  'desarrollador': 'Google'},\n",
       " {'name': 'Gmail',\n",
       "  'version': '13.56.0',\n",
       "  'memoria_ocupada': '105Mb',\n",
       "  'desarrollador': 'Google'}]"
      ]
     },
     "execution_count": 59,
     "metadata": {},
     "output_type": "execute_result"
    }
   ],
   "source": [
    "mobile['apps'].pop(i)"
   ]
  },
  {
   "cell_type": "code",
   "execution_count": 58,
   "metadata": {},
   "outputs": [
    {
     "ename": "AttributeError",
     "evalue": "'dict' object has no attribute 'remove'",
     "output_type": "error",
     "traceback": [
      "\u001b[1;31m---------------------------------------------------------------------------\u001b[0m",
      "\u001b[1;31mAttributeError\u001b[0m                            Traceback (most recent call last)",
      "\u001b[1;32mc:\\Users\\mrusso\\THE_BRIDGE_FEB22_local\\02_PYTHON\\week08\\lab\\oop.ipynb Cell 27'\u001b[0m in \u001b[0;36m<module>\u001b[1;34m\u001b[0m\n\u001b[1;32m----> <a href='vscode-notebook-cell:/c%3A/Users/mrusso/THE_BRIDGE_FEB22_local/02_PYTHON/week08/lab/oop.ipynb#ch0000031?line=0'>1</a>\u001b[0m remove_app(mobile, \u001b[39m'\u001b[39;49m\u001b[39mGmail\u001b[39;49m\u001b[39m'\u001b[39;49m)\n",
      "\u001b[1;32mc:\\Users\\mrusso\\THE_BRIDGE_FEB22_local\\02_PYTHON\\week08\\lab\\oop.ipynb Cell 26'\u001b[0m in \u001b[0;36mremove_app\u001b[1;34m(phone, appname)\u001b[0m\n\u001b[0;32m      <a href='vscode-notebook-cell:/c%3A/Users/mrusso/THE_BRIDGE_FEB22_local/02_PYTHON/week08/lab/oop.ipynb#ch0000030?line=1'>2</a>\u001b[0m \u001b[39mfor\u001b[39;00m i \u001b[39min\u001b[39;00m phone[\u001b[39m'\u001b[39m\u001b[39mapps\u001b[39m\u001b[39m'\u001b[39m]:\n\u001b[0;32m      <a href='vscode-notebook-cell:/c%3A/Users/mrusso/THE_BRIDGE_FEB22_local/02_PYTHON/week08/lab/oop.ipynb#ch0000030?line=2'>3</a>\u001b[0m     \u001b[39mif\u001b[39;00m i[\u001b[39m'\u001b[39m\u001b[39mname\u001b[39m\u001b[39m'\u001b[39m] \u001b[39m==\u001b[39m appname:\n\u001b[1;32m----> <a href='vscode-notebook-cell:/c%3A/Users/mrusso/THE_BRIDGE_FEB22_local/02_PYTHON/week08/lab/oop.ipynb#ch0000030?line=3'>4</a>\u001b[0m         i\u001b[39m.\u001b[39;49mremove(appname)\n\u001b[0;32m      <a href='vscode-notebook-cell:/c%3A/Users/mrusso/THE_BRIDGE_FEB22_local/02_PYTHON/week08/lab/oop.ipynb#ch0000030?line=4'>5</a>\u001b[0m \u001b[39mreturn\u001b[39;00m phone\n",
      "\u001b[1;31mAttributeError\u001b[0m: 'dict' object has no attribute 'remove'"
     ]
    }
   ],
   "source": [
    "remove_app(mobile, 'Gmail')"
   ]
  },
  {
   "cell_type": "code",
   "execution_count": null,
   "metadata": {},
   "outputs": [],
   "source": [
    "def eliminar_app(phone,app):\n",
    "    cont = 0\n",
    "    for i in phone['apps']:\n",
    "        if i['name'] == app:\n",
    "            phone['apps'].pop(cont)\n",
    "        cont += 1\n",
    "    return phone\n",
    "\n",
    "eliminar_app(mobile,'TheBridgeDSapp')"
   ]
  },
  {
   "cell_type": "markdown",
   "metadata": {},
   "source": [
    "### Class"
   ]
  },
  {
   "cell_type": "code",
   "execution_count": 104,
   "metadata": {},
   "outputs": [],
   "source": [
    "class MobilePhone():\n",
    "    '''\n",
    "    Docstring de una clase\n",
    "    '''\n",
    "    def __init__(self, phone):\n",
    "        self.phone = phone # convertimos el parámetro de entrada como variable global a nivel de clase\n",
    "        print(\"La clase MobilePhone ha inicializado\")\n",
    "\n",
    "    def install_app(self, appname):\n",
    "        self.phone['apps'].append(appname)\n",
    "        return self.phone['apps']\n",
    "    \n",
    "    def remove_app(self, appname):\n",
    "        for pos,i in enumerate(self.phone['apps']):\n",
    "            if i['name'] == appname:\n",
    "                self.phone['apps'].pop(pos)\n",
    "        return self.phone['apps']"
   ]
  },
  {
   "cell_type": "code",
   "execution_count": 105,
   "metadata": {},
   "outputs": [
    {
     "name": "stdout",
     "output_type": "stream",
     "text": [
      "La clase MobilePhone ha inicializado\n"
     ]
    }
   ],
   "source": [
    "# Instanciamos a un objeto la clase MobilePhone\n",
    "telefono = MobilePhone(mobile)"
   ]
  },
  {
   "cell_type": "code",
   "execution_count": 106,
   "metadata": {},
   "outputs": [],
   "source": [
    "youtube = {\n",
    "    \"name\" : \"YouTube\",\n",
    "    \"vers\": \"10.50\",\n",
    "    \"desarrolador\": \"Google\",\n",
    "    \"memoria_ocupada\": \"300Mb\"\n",
    "}"
   ]
  },
  {
   "cell_type": "code",
   "execution_count": 107,
   "metadata": {},
   "outputs": [
    {
     "data": {
      "text/plain": [
       "[{'name': 'Whatsapp',\n",
       "  'version': '1.56.0',\n",
       "  'memoria_ocupada': '15Mb',\n",
       "  'desarrollador': 'Meta'},\n",
       " {'name': 'YouTube',\n",
       "  'vers': '10.50',\n",
       "  'desarrolador': 'Google',\n",
       "  'memoria_ocupada': '300Mb'},\n",
       " {'name': 'YouTube',\n",
       "  'vers': '10.50',\n",
       "  'desarrolador': 'Google',\n",
       "  'memoria_ocupada': '300Mb'}]"
      ]
     },
     "execution_count": 107,
     "metadata": {},
     "output_type": "execute_result"
    }
   ],
   "source": [
    "telefono.install_app(youtube)"
   ]
  },
  {
   "cell_type": "code",
   "execution_count": 108,
   "metadata": {},
   "outputs": [],
   "source": [
    "telefono.remove_app(youtube)"
   ]
  },
  {
   "cell_type": "code",
   "execution_count": 109,
   "metadata": {},
   "outputs": [
    {
     "data": {
      "text/plain": [
       "<__main__.MobilePhone at 0x242d00cb9a0>"
      ]
     },
     "execution_count": 109,
     "metadata": {},
     "output_type": "execute_result"
    }
   ],
   "source": [
    "telefono"
   ]
  }
 ],
 "metadata": {
  "interpreter": {
   "hash": "3a457f06cda4579c7033761bf4e886c4764e74b759b9220f07c03aa5d4880471"
  },
  "kernelspec": {
   "display_name": "Python 3.9.5 ('data_science_py395')",
   "language": "python",
   "name": "python3"
  },
  "language_info": {
   "codemirror_mode": {
    "name": "ipython",
    "version": 3
   },
   "file_extension": ".py",
   "mimetype": "text/x-python",
   "name": "python",
   "nbconvert_exporter": "python",
   "pygments_lexer": "ipython3",
   "version": "3.9.5"
  },
  "orig_nbformat": 4
 },
 "nbformat": 4,
 "nbformat_minor": 2
}
