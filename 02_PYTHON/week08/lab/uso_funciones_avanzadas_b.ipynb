{
 "cells": [
  {
   "cell_type": "markdown",
   "metadata": {},
   "source": [
    "## Número indeterminado de argumentos\n",
    "Python también permite definir funciones que acepten un número arbitrario (indefinido en el momento de la definición de la función) de argumentos. En este caso, se define un parámetro especial anteponiendo `*` o `**` al nombre del parámetro, y este parámetro recibirá todos los argumentos que no coincidan con ninguno de los parámetros definidos explícitamente de la función:\n",
    "\n",
    "Si se antepone * al nombre del parámetro, este será una **tupla** con todos los valores de los argumentos no definidos explícitamente.\n",
    "\n",
    "Si se antepone ** al nombre del parámetro, este recibirá un **diccionario** con los pares de nombre y valor de los argumentos no definidos explícitamente (que se deberán especificar por nombre en el momento de hacer la llamada a la función)."
   ]
  },
  {
   "cell_type": "code",
   "execution_count": 8,
   "metadata": {},
   "outputs": [],
   "source": [
    "# Definimos una función con dos parámetros obligatorios y\n",
    "# un número indeterminado de parámetros posicionales\n",
    "def suma_dos_o_tres_valores(x, y, *extra_arg):\n",
    "    print(f\"Los argumentos son {x}, {y}\")\n",
    "    print(f\"Los argumentos añadidos son {extra_arg}\")\n",
    "    print(f\"Otro extra argumento es {type(extra_arg)}\")\n",
    "    return x + y + sum(extra_arg)"
   ]
  },
  {
   "cell_type": "code",
   "execution_count": 3,
   "metadata": {},
   "outputs": [
    {
     "ename": "TypeError",
     "evalue": "suma_dos_o_tres_valores() missing 1 required positional argument: 'y'",
     "output_type": "error",
     "traceback": [
      "\u001b[1;31m---------------------------------------------------------------------------\u001b[0m",
      "\u001b[1;31mTypeError\u001b[0m                                 Traceback (most recent call last)",
      "\u001b[1;32mc:\\Users\\mrusso\\THE_BRIDGE_FEB22_local\\02_PYTHON\\week08\\lab\\uso_funciones_avanzadas_b.ipynb Cell 3'\u001b[0m in \u001b[0;36m<module>\u001b[1;34m\u001b[0m\n\u001b[1;32m----> <a href='vscode-notebook-cell:/c%3A/Users/mrusso/THE_BRIDGE_FEB22_local/02_PYTHON/week08/lab/uso_funciones_avanzadas_b.ipynb#ch0000002?line=0'>1</a>\u001b[0m suma_dos_o_tres_valores(\u001b[39m7\u001b[39;49m)\n",
      "\u001b[1;31mTypeError\u001b[0m: suma_dos_o_tres_valores() missing 1 required positional argument: 'y'"
     ]
    }
   ],
   "source": [
    "suma_dos_o_tres_valores(7)"
   ]
  },
  {
   "cell_type": "code",
   "execution_count": 4,
   "metadata": {},
   "outputs": [
    {
     "name": "stdout",
     "output_type": "stream",
     "text": [
      "Los argumentos son 7, 9\n",
      "Los argumentos añadidos son ()\n",
      "Otro extra argumento es ()\n"
     ]
    },
    {
     "data": {
      "text/plain": [
       "16"
      ]
     },
     "execution_count": 4,
     "metadata": {},
     "output_type": "execute_result"
    }
   ],
   "source": [
    "suma_dos_o_tres_valores(7, 9)"
   ]
  },
  {
   "cell_type": "code",
   "execution_count": 9,
   "metadata": {},
   "outputs": [
    {
     "name": "stdout",
     "output_type": "stream",
     "text": [
      "Los argumentos son 7, 9\n",
      "Los argumentos añadidos son (10, 16, 90)\n",
      "Otro extra argumento es <class 'tuple'>\n"
     ]
    },
    {
     "data": {
      "text/plain": [
       "132"
      ]
     },
     "execution_count": 9,
     "metadata": {},
     "output_type": "execute_result"
    }
   ],
   "source": [
    "suma_dos_o_tres_valores(7, 9, 10, 16, 90)"
   ]
  },
  {
   "cell_type": "code",
   "execution_count": 10,
   "metadata": {},
   "outputs": [],
   "source": [
    "# Definimos una función con dos parámetros obligatorios y\n",
    "# un número indeterminado de parámetros posicionales\n",
    "def suma_dos_o_tres_valores(x, y, *extra_arg):\n",
    "    print(f\"Los argumentos son {x}, {y}\")\n",
    "    print(f\"Los argumentos añadidos son {extra_arg}\")\n",
    "    print(f\"Otro extra argumento es {type(extra_arg)}\")\n",
    "    return x + y + sum(extra_arg[0])"
   ]
  },
  {
   "cell_type": "code",
   "execution_count": 11,
   "metadata": {},
   "outputs": [
    {
     "name": "stdout",
     "output_type": "stream",
     "text": [
      "Los argumentos son 7, 9\n",
      "Los argumentos añadidos son (10, 16, 90)\n",
      "Otro extra argumento es <class 'tuple'>\n"
     ]
    },
    {
     "ename": "TypeError",
     "evalue": "'int' object is not iterable",
     "output_type": "error",
     "traceback": [
      "\u001b[1;31m---------------------------------------------------------------------------\u001b[0m",
      "\u001b[1;31mTypeError\u001b[0m                                 Traceback (most recent call last)",
      "\u001b[1;32mc:\\Users\\mrusso\\THE_BRIDGE_FEB22_local\\02_PYTHON\\week08\\lab\\uso_funciones_avanzadas_b.ipynb Cell 7'\u001b[0m in \u001b[0;36m<module>\u001b[1;34m\u001b[0m\n\u001b[1;32m----> <a href='vscode-notebook-cell:/c%3A/Users/mrusso/THE_BRIDGE_FEB22_local/02_PYTHON/week08/lab/uso_funciones_avanzadas_b.ipynb#ch0000006?line=0'>1</a>\u001b[0m suma_dos_o_tres_valores(\u001b[39m7\u001b[39;49m, \u001b[39m9\u001b[39;49m, \u001b[39m10\u001b[39;49m, \u001b[39m16\u001b[39;49m, \u001b[39m90\u001b[39;49m)\n",
      "\u001b[1;32mc:\\Users\\mrusso\\THE_BRIDGE_FEB22_local\\02_PYTHON\\week08\\lab\\uso_funciones_avanzadas_b.ipynb Cell 6'\u001b[0m in \u001b[0;36msuma_dos_o_tres_valores\u001b[1;34m(x, y, *extra_arg)\u001b[0m\n\u001b[0;32m      <a href='vscode-notebook-cell:/c%3A/Users/mrusso/THE_BRIDGE_FEB22_local/02_PYTHON/week08/lab/uso_funciones_avanzadas_b.ipynb#ch0000005?line=4'>5</a>\u001b[0m \u001b[39mprint\u001b[39m(\u001b[39mf\u001b[39m\u001b[39m\"\u001b[39m\u001b[39mLos argumentos añadidos son \u001b[39m\u001b[39m{\u001b[39;00mextra_arg\u001b[39m}\u001b[39;00m\u001b[39m\"\u001b[39m)\n\u001b[0;32m      <a href='vscode-notebook-cell:/c%3A/Users/mrusso/THE_BRIDGE_FEB22_local/02_PYTHON/week08/lab/uso_funciones_avanzadas_b.ipynb#ch0000005?line=5'>6</a>\u001b[0m \u001b[39mprint\u001b[39m(\u001b[39mf\u001b[39m\u001b[39m\"\u001b[39m\u001b[39mOtro extra argumento es \u001b[39m\u001b[39m{\u001b[39;00m\u001b[39mtype\u001b[39m(extra_arg)\u001b[39m}\u001b[39;00m\u001b[39m\"\u001b[39m)\n\u001b[1;32m----> <a href='vscode-notebook-cell:/c%3A/Users/mrusso/THE_BRIDGE_FEB22_local/02_PYTHON/week08/lab/uso_funciones_avanzadas_b.ipynb#ch0000005?line=6'>7</a>\u001b[0m \u001b[39mreturn\u001b[39;00m x \u001b[39m+\u001b[39m y \u001b[39m+\u001b[39m \u001b[39msum\u001b[39;49m(extra_arg[\u001b[39m0\u001b[39;49m])\n",
      "\u001b[1;31mTypeError\u001b[0m: 'int' object is not iterable"
     ]
    }
   ],
   "source": [
    "suma_dos_o_tres_valores(7, 9, 10, 16, 90)"
   ]
  },
  {
   "cell_type": "code",
   "execution_count": 18,
   "metadata": {},
   "outputs": [],
   "source": [
    "# Definimos una función con dos parámetros obligatorios y\n",
    "# un número indeterminado de parámetros posicionales\n",
    "def suma_dos_o_tres_valores(x, y, *extra_arg):\n",
    "    print(f\"Los argumentos son {x}, {y}\")\n",
    "    print(f\"Los argumentos añadidos son {extra_arg}\")\n",
    "    print(f\"Otro extra argumento es {type(extra_arg)}\")\n",
    "    nueva_lista = list(extra_arg)\n",
    "    return x + y + nueva_lista[0]"
   ]
  },
  {
   "cell_type": "code",
   "execution_count": 19,
   "metadata": {},
   "outputs": [
    {
     "name": "stdout",
     "output_type": "stream",
     "text": [
      "Los argumentos son 7, 9\n",
      "Los argumentos añadidos son (10, 16, 90)\n",
      "Otro extra argumento es <class 'tuple'>\n"
     ]
    },
    {
     "data": {
      "text/plain": [
       "26"
      ]
     },
     "execution_count": 19,
     "metadata": {},
     "output_type": "execute_result"
    }
   ],
   "source": [
    "suma_dos_o_tres_valores(7, 9, 10, 16, 90)"
   ]
  },
  {
   "cell_type": "code",
   "execution_count": 15,
   "metadata": {},
   "outputs": [
    {
     "name": "stdout",
     "output_type": "stream",
     "text": [
      "Los argumentos son 7, 9\n",
      "Los argumentos añadidos son (10, 16, 90)\n",
      "Otro extra argumento es [10, 16, 90]\n"
     ]
    },
    {
     "ename": "TypeError",
     "evalue": "'int' object is not iterable",
     "output_type": "error",
     "traceback": [
      "\u001b[1;31m---------------------------------------------------------------------------\u001b[0m",
      "\u001b[1;31mTypeError\u001b[0m                                 Traceback (most recent call last)",
      "\u001b[1;32mc:\\Users\\mrusso\\THE_BRIDGE_FEB22_local\\02_PYTHON\\week08\\lab\\uso_funciones_avanzadas_b.ipynb Cell 10'\u001b[0m in \u001b[0;36m<module>\u001b[1;34m\u001b[0m\n\u001b[1;32m----> <a href='vscode-notebook-cell:/c%3A/Users/mrusso/THE_BRIDGE_FEB22_local/02_PYTHON/week08/lab/uso_funciones_avanzadas_b.ipynb#ch0000009?line=0'>1</a>\u001b[0m suma_dos_o_tres_valores(\u001b[39m7\u001b[39;49m, \u001b[39m9\u001b[39;49m, \u001b[39m10\u001b[39;49m, \u001b[39m16\u001b[39;49m, \u001b[39m90\u001b[39;49m)\n",
      "\u001b[1;32mc:\\Users\\mrusso\\THE_BRIDGE_FEB22_local\\02_PYTHON\\week08\\lab\\uso_funciones_avanzadas_b.ipynb Cell 8'\u001b[0m in \u001b[0;36msuma_dos_o_tres_valores\u001b[1;34m(x, y, *extra_arg)\u001b[0m\n\u001b[0;32m      <a href='vscode-notebook-cell:/c%3A/Users/mrusso/THE_BRIDGE_FEB22_local/02_PYTHON/week08/lab/uso_funciones_avanzadas_b.ipynb#ch0000007?line=5'>6</a>\u001b[0m \u001b[39mprint\u001b[39m(\u001b[39mf\u001b[39m\u001b[39m\"\u001b[39m\u001b[39mOtro extra argumento es \u001b[39m\u001b[39m{\u001b[39;00m\u001b[39mlist\u001b[39m(extra_arg)\u001b[39m}\u001b[39;00m\u001b[39m\"\u001b[39m)\n\u001b[0;32m      <a href='vscode-notebook-cell:/c%3A/Users/mrusso/THE_BRIDGE_FEB22_local/02_PYTHON/week08/lab/uso_funciones_avanzadas_b.ipynb#ch0000007?line=6'>7</a>\u001b[0m nueva_lista \u001b[39m=\u001b[39m \u001b[39mlist\u001b[39m(extra_arg)\n\u001b[1;32m----> <a href='vscode-notebook-cell:/c%3A/Users/mrusso/THE_BRIDGE_FEB22_local/02_PYTHON/week08/lab/uso_funciones_avanzadas_b.ipynb#ch0000007?line=7'>8</a>\u001b[0m \u001b[39mreturn\u001b[39;00m x \u001b[39m+\u001b[39m y \u001b[39m+\u001b[39m \u001b[39msum\u001b[39;49m(nueva_lista[\u001b[39m0\u001b[39;49m])\n",
      "\u001b[1;31mTypeError\u001b[0m: 'int' object is not iterable"
     ]
    }
   ],
   "source": [
    "suma_dos_o_tres_valores(7, 9, 10, 16, 90)"
   ]
  },
  {
   "cell_type": "markdown",
   "metadata": {},
   "source": [
    "```\n",
    "def nombre_funcion(posicion_1, posicion_2, kwposicion=5):\n",
    "    ----statement---\n",
    "    return posicion_1 + posicion_2 + kwposicion\n",
    "    \n",
    "```\n",
    "\n",
    "```\n",
    "nombre_funcion(5,6) # igual 16 porque el 5 viene por defecto\n",
    "nombre_funcion(5) # ERROR porque pide el segundo parámetro posicional (obligatorio)\n",
    "nombre_funcion(5,6,7) # 18 porque el 7 sustituye el 5 que viene por defecto\n",
    "```"
   ]
  },
  {
   "cell_type": "markdown",
   "metadata": {},
   "source": []
  },
  {
   "cell_type": "code",
   "execution_count": null,
   "metadata": {},
   "outputs": [],
   "source": [
    "nombre_funcion(5, 6)"
   ]
  },
  {
   "cell_type": "code",
   "execution_count": 66,
   "metadata": {},
   "outputs": [],
   "source": [
    "# Definimos una función con dos parámetros obligatorios y\n",
    "# un número indeterminado de parámetros con nombre\n",
    "def suma_dos_o_tres_valores(x, y,  *args, param=5, kwargs=8, **extra_kwargs):\n",
    "    print(f\"Los argumentos son {x}, {y}\")\n",
    "    print(f\"los argumentos posicionales extra son {args}\")\n",
    "    print(f\"Los argumentos añadidos son {extra_kwargs}\")\n",
    "    print(f\"Los argumentos añadidos son {type(extra_kwargs)}\")\n",
    "    for k in extra_kwargs:\n",
    "        print(f\"{k}, {extra_kwargs[k]}\")\n",
    "    print(f\"Extra kwargumentos son {extra_kwargs}\")\n",
    "    return x + y + sum(extra_kwargs.values()) + param + sum(args) + kwargs"
   ]
  },
  {
   "cell_type": "code",
   "execution_count": 51,
   "metadata": {},
   "outputs": [
    {
     "name": "stdout",
     "output_type": "stream",
     "text": [
      "Los argumentos son 1, 2\n",
      "los argumentos posicionales extra son (1, 6, 6)\n",
      "Los argumentos añadidos son {'key1': None, 'key2': 3}\n",
      "Los argumentos añadidos son <class 'dict'>\n",
      "key1, None\n",
      "key2, 3\n",
      "Extra kwargumentos son {'key1': None, 'key2': 3}\n"
     ]
    },
    {
     "ename": "TypeError",
     "evalue": "unsupported operand type(s) for +: 'int' and 'NoneType'",
     "output_type": "error",
     "traceback": [
      "\u001b[1;31m---------------------------------------------------------------------------\u001b[0m",
      "\u001b[1;31mTypeError\u001b[0m                                 Traceback (most recent call last)",
      "\u001b[1;32mc:\\Users\\mrusso\\THE_BRIDGE_FEB22_local\\02_PYTHON\\week08\\lab\\uso_funciones_avanzadas_b.ipynb Cell 15'\u001b[0m in \u001b[0;36m<module>\u001b[1;34m\u001b[0m\n\u001b[1;32m----> <a href='vscode-notebook-cell:/c%3A/Users/mrusso/THE_BRIDGE_FEB22_local/02_PYTHON/week08/lab/uso_funciones_avanzadas_b.ipynb#ch0000012?line=0'>1</a>\u001b[0m suma_dos_o_tres_valores(\u001b[39m1\u001b[39;49m, \u001b[39m2\u001b[39;49m, \u001b[39m1\u001b[39;49m, \u001b[39m6\u001b[39;49m, \u001b[39m6\u001b[39;49m, param\u001b[39m=\u001b[39;49m\u001b[39m6\u001b[39;49m, key1\u001b[39m=\u001b[39;49m\u001b[39mNone\u001b[39;49;00m, key2\u001b[39m=\u001b[39;49m\u001b[39m3\u001b[39;49m)\n",
      "\u001b[1;32mc:\\Users\\mrusso\\THE_BRIDGE_FEB22_local\\02_PYTHON\\week08\\lab\\uso_funciones_avanzadas_b.ipynb Cell 14'\u001b[0m in \u001b[0;36msuma_dos_o_tres_valores\u001b[1;34m(x, y, param, *args, **extra_kwargs)\u001b[0m\n\u001b[0;32m      <a href='vscode-notebook-cell:/c%3A/Users/mrusso/THE_BRIDGE_FEB22_local/02_PYTHON/week08/lab/uso_funciones_avanzadas_b.ipynb#ch0000011?line=8'>9</a>\u001b[0m     \u001b[39mprint\u001b[39m(\u001b[39mf\u001b[39m\u001b[39m\"\u001b[39m\u001b[39m{\u001b[39;00mk\u001b[39m}\u001b[39;00m\u001b[39m, \u001b[39m\u001b[39m{\u001b[39;00mextra_kwargs[k]\u001b[39m}\u001b[39;00m\u001b[39m\"\u001b[39m)\n\u001b[0;32m     <a href='vscode-notebook-cell:/c%3A/Users/mrusso/THE_BRIDGE_FEB22_local/02_PYTHON/week08/lab/uso_funciones_avanzadas_b.ipynb#ch0000011?line=9'>10</a>\u001b[0m \u001b[39mprint\u001b[39m(\u001b[39mf\u001b[39m\u001b[39m\"\u001b[39m\u001b[39mExtra kwargumentos son \u001b[39m\u001b[39m{\u001b[39;00mextra_kwargs\u001b[39m}\u001b[39;00m\u001b[39m\"\u001b[39m)\n\u001b[1;32m---> <a href='vscode-notebook-cell:/c%3A/Users/mrusso/THE_BRIDGE_FEB22_local/02_PYTHON/week08/lab/uso_funciones_avanzadas_b.ipynb#ch0000011?line=10'>11</a>\u001b[0m \u001b[39mreturn\u001b[39;00m x \u001b[39m+\u001b[39m y \u001b[39m+\u001b[39m \u001b[39msum\u001b[39;49m(extra_kwargs\u001b[39m.\u001b[39;49mvalues()) \u001b[39m+\u001b[39m param \u001b[39m+\u001b[39m \u001b[39msum\u001b[39m(args)\n",
      "\u001b[1;31mTypeError\u001b[0m: unsupported operand type(s) for +: 'int' and 'NoneType'"
     ]
    }
   ],
   "source": [
    "suma_dos_o_tres_valores(1, 2, 1, 6, 6, param=6, key1=None, key2=3)"
   ]
  },
  {
   "cell_type": "code",
   "execution_count": 62,
   "metadata": {},
   "outputs": [
    {
     "name": "stdout",
     "output_type": "stream",
     "text": [
      "Los argumentos son 1, 2\n",
      "los argumentos posicionales extra son (5,)\n",
      "Los argumentos añadidos son {'key': 1, 'key_2': [1, 5, 6]}\n",
      "Los argumentos añadidos son <class 'dict'>\n",
      "key, 1\n",
      "key_2, [1, 5, 6]\n",
      "Extra kwargumentos son {'key': 1, 'key_2': [1, 5, 6]}\n"
     ]
    },
    {
     "ename": "TypeError",
     "evalue": "unsupported operand type(s) for +: 'int' and 'list'",
     "output_type": "error",
     "traceback": [
      "\u001b[1;31m---------------------------------------------------------------------------\u001b[0m",
      "\u001b[1;31mTypeError\u001b[0m                                 Traceback (most recent call last)",
      "\u001b[1;32mc:\\Users\\mrusso\\THE_BRIDGE_FEB22_local\\02_PYTHON\\week08\\lab\\uso_funciones_avanzadas_b.ipynb Cell 16'\u001b[0m in \u001b[0;36m<module>\u001b[1;34m\u001b[0m\n\u001b[1;32m----> <a href='vscode-notebook-cell:/c%3A/Users/mrusso/THE_BRIDGE_FEB22_local/02_PYTHON/week08/lab/uso_funciones_avanzadas_b.ipynb#ch0000017?line=0'>1</a>\u001b[0m suma_dos_o_tres_valores(\u001b[39m1\u001b[39;49m,\u001b[39m2\u001b[39;49m,\u001b[39m5\u001b[39;49m,param\u001b[39m=\u001b[39;49m\u001b[39m10\u001b[39;49m, key\u001b[39m=\u001b[39;49m\u001b[39m1\u001b[39;49m, key_2\u001b[39m=\u001b[39;49m[\u001b[39m1\u001b[39;49m,\u001b[39m5\u001b[39;49m,\u001b[39m6\u001b[39;49m])\n",
      "\u001b[1;32mc:\\Users\\mrusso\\THE_BRIDGE_FEB22_local\\02_PYTHON\\week08\\lab\\uso_funciones_avanzadas_b.ipynb Cell 14'\u001b[0m in \u001b[0;36msuma_dos_o_tres_valores\u001b[1;34m(x, y, param, *args, **extra_kwargs)\u001b[0m\n\u001b[0;32m      <a href='vscode-notebook-cell:/c%3A/Users/mrusso/THE_BRIDGE_FEB22_local/02_PYTHON/week08/lab/uso_funciones_avanzadas_b.ipynb#ch0000011?line=8'>9</a>\u001b[0m     \u001b[39mprint\u001b[39m(\u001b[39mf\u001b[39m\u001b[39m\"\u001b[39m\u001b[39m{\u001b[39;00mk\u001b[39m}\u001b[39;00m\u001b[39m, \u001b[39m\u001b[39m{\u001b[39;00mextra_kwargs[k]\u001b[39m}\u001b[39;00m\u001b[39m\"\u001b[39m)\n\u001b[0;32m     <a href='vscode-notebook-cell:/c%3A/Users/mrusso/THE_BRIDGE_FEB22_local/02_PYTHON/week08/lab/uso_funciones_avanzadas_b.ipynb#ch0000011?line=9'>10</a>\u001b[0m \u001b[39mprint\u001b[39m(\u001b[39mf\u001b[39m\u001b[39m\"\u001b[39m\u001b[39mExtra kwargumentos son \u001b[39m\u001b[39m{\u001b[39;00mextra_kwargs\u001b[39m}\u001b[39;00m\u001b[39m\"\u001b[39m)\n\u001b[1;32m---> <a href='vscode-notebook-cell:/c%3A/Users/mrusso/THE_BRIDGE_FEB22_local/02_PYTHON/week08/lab/uso_funciones_avanzadas_b.ipynb#ch0000011?line=10'>11</a>\u001b[0m \u001b[39mreturn\u001b[39;00m x \u001b[39m+\u001b[39m y \u001b[39m+\u001b[39m \u001b[39msum\u001b[39;49m(extra_kwargs\u001b[39m.\u001b[39;49mvalues()) \u001b[39m+\u001b[39m param \u001b[39m+\u001b[39m \u001b[39msum\u001b[39m(args)\n",
      "\u001b[1;31mTypeError\u001b[0m: unsupported operand type(s) for +: 'int' and 'list'"
     ]
    }
   ],
   "source": [
    "suma_dos_o_tres_valores(1,2,5,param=10, key=1, key_2=[1,5,6])"
   ]
  },
  {
   "cell_type": "code",
   "execution_count": 64,
   "metadata": {},
   "outputs": [
    {
     "name": "stdout",
     "output_type": "stream",
     "text": [
      "Los argumentos son 1, 2\n",
      "los argumentos posicionales extra son ()\n",
      "Los argumentos añadidos son {'key': 1, 'key_2': 2}\n",
      "Los argumentos añadidos son <class 'dict'>\n",
      "key, 1\n",
      "key_2, 2\n",
      "Extra kwargumentos son {'key': 1, 'key_2': 2}\n"
     ]
    },
    {
     "data": {
      "text/plain": [
       "16"
      ]
     },
     "execution_count": 64,
     "metadata": {},
     "output_type": "execute_result"
    }
   ],
   "source": [
    "suma_dos_o_tres_valores(1, 2, key=1, key_2=2, param=10)"
   ]
  },
  {
   "cell_type": "code",
   "execution_count": 69,
   "metadata": {},
   "outputs": [
    {
     "name": "stdout",
     "output_type": "stream",
     "text": [
      "Los argumentos son 1, 2\n",
      "los argumentos posicionales extra son ()\n",
      "Los argumentos añadidos son {}\n",
      "Los argumentos añadidos son <class 'dict'>\n",
      "Extra kwargumentos son {}\n"
     ]
    },
    {
     "data": {
      "text/plain": [
       "18"
      ]
     },
     "execution_count": 69,
     "metadata": {},
     "output_type": "execute_result"
    }
   ],
   "source": [
    "suma_dos_o_tres_valores(1, 2, param=10, kwargs=5)"
   ]
  },
  {
   "cell_type": "code",
   "execution_count": null,
   "metadata": {},
   "outputs": [],
   "source": []
  }
 ],
 "metadata": {
  "interpreter": {
   "hash": "3a457f06cda4579c7033761bf4e886c4764e74b759b9220f07c03aa5d4880471"
  },
  "kernelspec": {
   "display_name": "Python 3.9.5 ('data_science_py395')",
   "language": "python",
   "name": "python3"
  },
  "language_info": {
   "codemirror_mode": {
    "name": "ipython",
    "version": 3
   },
   "file_extension": ".py",
   "mimetype": "text/x-python",
   "name": "python",
   "nbconvert_exporter": "python",
   "pygments_lexer": "ipython3",
   "version": "3.9.5"
  },
  "orig_nbformat": 4
 },
 "nbformat": 4,
 "nbformat_minor": 2
}
