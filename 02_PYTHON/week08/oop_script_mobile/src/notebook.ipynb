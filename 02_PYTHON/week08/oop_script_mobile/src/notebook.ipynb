{
 "cells": [
  {
   "cell_type": "code",
   "execution_count": 4,
   "metadata": {},
   "outputs": [],
   "source": [
    "from setup import config\n",
    "from utility import utils"
   ]
  },
  {
   "cell_type": "code",
   "execution_count": 5,
   "metadata": {},
   "outputs": [
    {
     "data": {
      "text/plain": [
       "{'marca': 'Samsung',\n",
       " 'SO': 'Android',\n",
       " 'version': '5.6',\n",
       " 'modelo': 'A22',\n",
       " 'screen_size': 7,\n",
       " 'weight': 200,\n",
       " 'color': 'silver',\n",
       " 'RAM': 8,\n",
       " 'memoria': 512,\n",
       " 'camara': {'frontal': {'resolution': '15MP'},\n",
       "  'back': [{'type': 'zoom', 'resolution': '25MP'},\n",
       "   {'type': 'macro', 'resolution': '30MP'}]},\n",
       " 'bateria': {'type': 'Lithium', 'MaxCharge': 4500, 'charge': 0.56},\n",
       " 'apps': [{'name': 'Whatsapp',\n",
       "   'version': '1.56.0',\n",
       "   'memoria_ocupada': '15Mb',\n",
       "   'desarrollador': 'Meta'},\n",
       "  {'name': 'Gmail',\n",
       "   'version': '123.56.0',\n",
       "   'memoria_ocupada': '105Mb',\n",
       "   'desarrollador': 'Google'}]}"
      ]
     },
     "execution_count": 5,
     "metadata": {},
     "output_type": "execute_result"
    }
   ],
   "source": [
    "estructura_tel = config.samsung\n",
    "estructura_tel"
   ]
  },
  {
   "cell_type": "code",
   "execution_count": null,
   "metadata": {},
   "outputs": [],
   "source": []
  }
 ],
 "metadata": {
  "interpreter": {
   "hash": "3a457f06cda4579c7033761bf4e886c4764e74b759b9220f07c03aa5d4880471"
  },
  "kernelspec": {
   "display_name": "Python 3.9.5 ('data_science_py395')",
   "language": "python",
   "name": "python3"
  },
  "language_info": {
   "codemirror_mode": {
    "name": "ipython",
    "version": 3
   },
   "file_extension": ".py",
   "mimetype": "text/x-python",
   "name": "python",
   "nbconvert_exporter": "python",
   "pygments_lexer": "ipython3",
   "version": "3.9.5"
  },
  "orig_nbformat": 4
 },
 "nbformat": 4,
 "nbformat_minor": 2
}
