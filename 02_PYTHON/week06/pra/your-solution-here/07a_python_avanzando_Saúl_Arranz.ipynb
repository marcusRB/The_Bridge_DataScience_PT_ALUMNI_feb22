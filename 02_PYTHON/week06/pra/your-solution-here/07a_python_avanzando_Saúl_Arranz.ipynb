{
 "cells": [
  {
   "cell_type": "markdown",
   "metadata": {},
   "source": [
    "Programación para *Data Science*\n",
    "============================\n",
    "\n",
    "Intro101 - 07a Conceptos avanzados de Python\n",
    "--------------------------------------\n",
    "\n",
    "En este Notebook encontraréis dos conjuntos de ejercicios de Python."
   ]
  },
  {
   "cell_type": "markdown",
   "metadata": {},
   "source": [
    "### Ejercicio 1\n",
    "\n",
    "Un número primo es aquél que solo es divisible por él mismo y por 1.\n",
    "\n",
    "a) Escribe un código que compruebe si un número `x = 15` es solo divisible por 1 o por el mismo.  Escribe este código usando un iterador (un `for` o un `while`) que barra todos los valores desde `2` a `x-1`. Crea una variable `divisible`  que tenga por defecto valor `False` y asigne el valor `True` si a lo largo de la iteración encuentra un número natural divisible. Puedes usar el operador modulo `a % b` para saber si un numero `b` es divisible por `a`."
   ]
  },
  {
   "cell_type": "code",
   "execution_count": 3,
   "metadata": {},
   "outputs": [
    {
     "name": "stdout",
     "output_type": "stream",
     "text": [
      "el numero 15 no es primo\n"
     ]
    }
   ],
   "source": [
    "# Respuesta\n",
    "x = 15\n",
    "for i in range(2,x):\n",
    "    divisible = False\n",
    "    if x % i == 0:\n",
    "        divisible = True\n",
    "        print(f'el numero {x} no es primo')\n",
    "        break"
   ]
  },
  {
   "cell_type": "markdown",
   "metadata": {},
   "source": [
    "b) Convierte tu código anterior en una función que compruebe si el número del argumento es primo o no, devolviendo True is es primo y False si no es primo. Comprueba tu función con los valores 492366587, 492366585, 48947 y 2,\n"
   ]
  },
  {
   "cell_type": "code",
   "execution_count": 20,
   "metadata": {},
   "outputs": [
    {
     "name": "stdout",
     "output_type": "stream",
     "text": [
      "True False True\n"
     ]
    }
   ],
   "source": [
    "# Respuesta\n",
    "def num_primo(num):\n",
    "    for i in range(2,num):\n",
    "        divisible = False\n",
    "        if num % i == 0:\n",
    "            divisible = True\n",
    "            primo = False\n",
    "            break\n",
    "        else:\n",
    "            primo = True\n",
    "    return primo\n",
    "\n",
    "num1 = num_primo(492366587)\n",
    "num2 = num_primo(492366585)\n",
    "num3 = num_primo(48947)\n",
    "print(num1,num2,num3)\n",
    "        "
   ]
  },
  {
   "cell_type": "markdown",
   "metadata": {},
   "source": [
    "c) En el cálculo de la función anterior, una vez se ha encontrado un número que es divisible dentro del rango ya no tiene sentido comprobar el resto de números del rango. Por ejemplo si 10 ya es divisble entre 2, ya no hace falta probar de 3 en adelante pues ya sabemos que el número no es primo. \n",
    "\n",
    "Modifica la función anterior de la siguiente forma: \n",
    "- Una vez se encuentra el divisor, la iteración se interrumpe para no probar el resto de enteros. \n",
    "- La función devuelve\n",
    "    - **Si es primo**: True\n",
    "    - **Si no es primo**, el primer divisor mayor que 1.\n",
    "    \n",
    "Puedes hacer uso del comando *break* dentro de un bucle para interrumpir este, puedes consultar más información sobre break en la documentación de python [aquí](https://docs.python.org/2/tutorial/controlflow.html).\n",
    "\n",
    "Comprueba tu función con los valores 492366585, 492366587, 48947 y 2,"
   ]
  },
  {
   "cell_type": "code",
   "execution_count": 29,
   "metadata": {},
   "outputs": [
    {
     "name": "stdout",
     "output_type": "stream",
     "text": [
      "True 3 True\n"
     ]
    }
   ],
   "source": [
    "# Respuesta\n",
    "def num_primo(num):\n",
    "    '''\n",
    "    La función devuelve True si el numero introducido como argumento es primo, \n",
    "    devuelve el primer divisor mayor de 1 si no es primo\n",
    "    '''\n",
    "    for i in range(2,num):\n",
    "        divisible = False\n",
    "        if num % i == 0:\n",
    "            divisible = True\n",
    "            primo = i\n",
    "            break\n",
    "        else:\n",
    "            primo = True\n",
    "    return primo\n",
    "\n",
    "num1 = num_primo(492366587)\n",
    "num2 = num_primo(492366585)\n",
    "num3 = num_primo(48947)\n",
    "print(num1,num2,num3)"
   ]
  },
  {
   "cell_type": "markdown",
   "metadata": {},
   "source": [
    "### Ejercicio 2\n",
    "\n",
    "La Covid-19 es una enfermedad producida por la infección del virus SARS-CoV-2. La infección es transmisible de persona a persona y su contagiosidad depende de la cantidad del virus en las vías respiratorias. Si cada persona contagiada transmite la enfermedad a $\\beta$ contactos en promedio por periodo de tiempo $t$, es posible estimar la evolución del contagio con un modelo matemático sencillo.\n",
    "\n",
    "Para $t=1$día, las transmisiones en España se han estimado a partir de su histórico de las semanas de Febrero y Marzo del 2020 una $\\beta = 0.35$ transmissiones por día por infectado.\n",
    "\n",
    "Durante un periodo de tiempo (por ejempo un día $d$) la tasa de nuevos contagios se puede estimar como  una proporción al número de contagiados del periodo anterior $N$: \n",
    "\n",
    "$ \\Delta N = N_{1} - N = \\beta \\cdot $ (1)\n",
    "\n",
    "Por tanto, podemos proyectar el número futuro de afectados como \n",
    "\n",
    "$ N_{1} = N + \\beta \\cdot N = (1+\\beta) \\cdot $ (2) \n",
    "\n",
    "En dos días:\n",
    "\n",
    "$ N_{2} = (1+\\beta) \\cdot N_{1} = (1+\\beta)^2 \\cdot $  (3)\n",
    "\n",
    "Y en general en D días tendremos \n",
    "\n",
    "$ N_{D} = (1+\\beta)^D \\cdot N$  (4)\n",
    " \n",
    "Asumiendo este sencillo modelo: \n",
    "\n",
    "a) Implementa una función de dos parámetros (N: población infectada inicial, D: número de días), que devuelva el cálculo de afectados para D días siguiendo la ecuación (4). Suponiendo una población afectada de 4250 (población afectada en españa a día 13 de Marzo de 2020), usa la función para calcular la población estimada en 1, 2, 7 y 30 días. "
   ]
  },
  {
   "cell_type": "code",
   "execution_count": 32,
   "metadata": {},
   "outputs": [],
   "source": [
    "# Respuesta\n",
    "def afectados(N,D):\n",
    "    num_afec = (1+0.35)**D * N\n",
    "    return num_afec\n",
    "est_afect_1d = afectados(4250,1)\n",
    "est_afect_2d = afectados(4250,2)\n",
    "est_afect_7d = afectados(4250,7)\n",
    "est_afect_30d = afectados(4250,30)"
   ]
  },
  {
   "cell_type": "markdown",
   "metadata": {},
   "source": [
    "b) Sabiendo que los Servicios de Medicina Intensiva (SMI) disponen de 3363 camas para enfermos graves, y suponiendo que un 10% de los afectados por el covid-19 requerirán de SMI y una supervivencia del 2,5% (Exitus), escribe un código que calcule:\n",
    "- El día en curso (Día)\n",
    "- El total de afectados por el virus para cada día d (Afectados)\n",
    "- El total de ingresados en SMI por el virus para cada día d (Críticos)\n",
    "- El total de Exitus por el virus para cada día d (Exitus)\n",
    "- Si los servicios de SMI no pueden aceptar los ingresados para cada día $d$ (Estado: indicando Saturación/No Saturación)\n",
    "\n",
    "Imprime en pantalla la información de cada día durante una simulación de tres semanas, suponiendo que no hay recuperaciones, con una población afectada inicial 4250 y una $\\beta = 0.35$ constante. "
   ]
  },
  {
   "cell_type": "code",
   "execution_count": 19,
   "metadata": {},
   "outputs": [
    {
     "name": "stdout",
     "output_type": "stream",
     "text": [
      "Día 1\n",
      "              El total de afectados es 5737.5\n",
      "              El total de ingresados en SMI es 573.75\n",
      "              El total Exitus es 143.4375\n",
      "              Los servicios SMI están No saturados\n",
      "Día 2\n",
      "              El total de afectados es 7745.625000000001\n",
      "              El total de ingresados en SMI es 774.5625000000001\n",
      "              El total Exitus es 193.64062500000003\n",
      "              Los servicios SMI están No saturados\n",
      "Día 3\n",
      "              El total de afectados es 10456.593750000002\n",
      "              El total de ingresados en SMI es 1045.6593750000002\n",
      "              El total Exitus es 261.41484375000005\n",
      "              Los servicios SMI están No saturados\n",
      "Día 4\n",
      "              El total de afectados es 14116.401562500005\n",
      "              El total de ingresados en SMI es 1411.6401562500005\n",
      "              El total Exitus es 352.9100390625001\n",
      "              Los servicios SMI están No saturados\n",
      "Día 5\n",
      "              El total de afectados es 19057.142109375007\n",
      "              El total de ingresados en SMI es 1905.7142109375009\n",
      "              El total Exitus es 476.4285527343752\n",
      "              Los servicios SMI están No saturados\n",
      "Día 6\n",
      "              El total de afectados es 25727.14184765626\n",
      "              El total de ingresados en SMI es 2572.714184765626\n",
      "              El total Exitus es 643.1785461914066\n",
      "              Los servicios SMI están No saturados\n",
      "Día 7\n",
      "              El total de afectados es 34731.64149433595\n",
      "              El total de ingresados en SMI es 3473.164149433595\n",
      "              El total Exitus es 868.2910373583987\n",
      "              Los servicios SMI están Saturados\n",
      "Día 8\n",
      "              El total de afectados es 46887.71601735354\n",
      "              El total de ingresados en SMI es 4688.771601735354\n",
      "              El total Exitus es 1172.1929004338385\n",
      "              Los servicios SMI están Saturados\n",
      "Día 9\n",
      "              El total de afectados es 63298.416623427285\n",
      "              El total de ingresados en SMI es 6329.841662342729\n",
      "              El total Exitus es 1582.4604155856823\n",
      "              Los servicios SMI están Saturados\n",
      "Día 10\n",
      "              El total de afectados es 85452.86244162684\n",
      "              El total de ingresados en SMI es 8545.286244162684\n",
      "              El total Exitus es 2136.321561040671\n",
      "              Los servicios SMI están Saturados\n",
      "Día 11\n",
      "              El total de afectados es 115361.36429619623\n",
      "              El total de ingresados en SMI es 11536.136429619624\n",
      "              El total Exitus es 2884.034107404906\n",
      "              Los servicios SMI están Saturados\n",
      "Día 12\n",
      "              El total de afectados es 155737.84179986492\n",
      "              El total de ingresados en SMI es 15573.784179986493\n",
      "              El total Exitus es 3893.446044996623\n",
      "              Los servicios SMI están Saturados\n",
      "Día 13\n",
      "              El total de afectados es 210246.08642981766\n",
      "              El total de ingresados en SMI es 21024.608642981766\n",
      "              El total Exitus es 5256.1521607454415\n",
      "              Los servicios SMI están Saturados\n",
      "Día 14\n",
      "              El total de afectados es 283832.2166802539\n",
      "              El total de ingresados en SMI es 28383.22166802539\n",
      "              El total Exitus es 7095.805417006348\n",
      "              Los servicios SMI están Saturados\n",
      "Día 15\n",
      "              El total de afectados es 383173.49251834274\n",
      "              El total de ingresados en SMI es 38317.349251834275\n",
      "              El total Exitus es 9579.337312958569\n",
      "              Los servicios SMI están Saturados\n",
      "Día 16\n",
      "              El total de afectados es 517284.21489976277\n",
      "              El total de ingresados en SMI es 51728.42148997628\n",
      "              El total Exitus es 12932.10537249407\n",
      "              Los servicios SMI están Saturados\n",
      "Día 17\n",
      "              El total de afectados es 698333.6901146799\n",
      "              El total de ingresados en SMI es 69833.36901146799\n",
      "              El total Exitus es 17458.342252866998\n",
      "              Los servicios SMI están Saturados\n",
      "Día 18\n",
      "              El total de afectados es 942750.4816548177\n",
      "              El total de ingresados en SMI es 94275.04816548177\n",
      "              El total Exitus es 23568.762041370443\n",
      "              Los servicios SMI están Saturados\n",
      "Día 19\n",
      "              El total de afectados es 1272713.1502340042\n",
      "              El total de ingresados en SMI es 127271.31502340043\n",
      "              El total Exitus es 31817.828755850107\n",
      "              Los servicios SMI están Saturados\n",
      "Día 20\n",
      "              El total de afectados es 1718162.7528159055\n",
      "              El total de ingresados en SMI es 171816.27528159056\n",
      "              El total Exitus es 42954.06882039764\n",
      "              Los servicios SMI están Saturados\n"
     ]
    }
   ],
   "source": [
    "# Respuesta\n",
    "def covid(D,C,P,B=0.35):\n",
    "    '''\n",
    "    La función devuelve día por día la informacioon de total de afectados, \n",
    "    ingresados en SMI, total de exitus y saturación de SMI. Los datos de\n",
    "    entrada son: numero de días, numero de camas, población inicial afectada\n",
    "    y indice de contagios (por defecto a 0.35)\n",
    "    '''\n",
    "    for i in range(1,D):\n",
    "        dia_en_curso = i\n",
    "        total_afectados = (1+B)**i * P\n",
    "        ingresados_SMI = total_afectados*0.1\n",
    "        exitus = total_afectados*0.025\n",
    "        if ingresados_SMI>=C:\n",
    "            sat = 'Saturados'\n",
    "        else:\n",
    "            sat = 'No saturados'\n",
    "        print(f'Día {i}\\n \\\n",
    "             El total de afectados es {total_afectados}\\n \\\n",
    "             El total de ingresados en SMI es {ingresados_SMI}\\n \\\n",
    "             El total Exitus es {exitus}\\n \\\n",
    "             Los servicios SMI están {sat}'\n",
    "            )\n",
    "        \n",
    "covid(21,3363,4250)\n",
    "                "
   ]
  },
  {
   "cell_type": "markdown",
   "metadata": {},
   "source": [
    "c) Convierte el código anterior en una función que genere un archivo de texto con nombre `output.txt`, siguiendo este formato: \n",
    "```\n",
    "Dia, Afectados, Críticos, Exitus, Estado\n",
    "0, 4250, 425,  106, No Saturación\n",
    "1, 5737, 573,  143, No Saturación\n",
    "2, 7745, 774,  193, No Saturación\n",
    "...\n",
    "```\n",
    "Con los parámetros de entrada $N$, $D$, $\\beta$, camas SMI."
   ]
  },
  {
   "cell_type": "code",
   "execution_count": 222,
   "metadata": {},
   "outputs": [],
   "source": [
    "# Respuesta\n",
    "def covid(D,C,P,B=0.35):\n",
    "    '''\n",
    "    La función devuelve día por día la informacioon de total de afectados, \n",
    "    ingresados en SMI, total de exitus y saturación de SMI. Los datos de\n",
    "    entrada son: numero de días, numero de camas, población inicial afectada\n",
    "    y indice de contagios (por defecto a 0.35)\n",
    "    '''\n",
    "    for i in range(1,D):\n",
    "        dia_en_curso = i\n",
    "        total_afectados = (1+B)**i * P\n",
    "        ingresados_SMI = total_afectados*0.1\n",
    "        exitus = total_afectados*0.025\n",
    "        if ingresados_SMI>=C:\n",
    "            sat = 'Saturados'\n",
    "        else:\n",
    "            sat = 'No saturados'\n",
    "\n",
    "        salida_titulos = (f'Dia, \\t Afectados, \\t Críticos, \\t Exitus,\\t Estado')\n",
    "        salida_datos = (f'Dia {i}, \\t {total_afectados}, \\t {ingresados_SMI}, \\t {exitus}, \\t {sat} \\n') # no soy capaz de hacer la matriz con los datos\n",
    "        # no me da tiempo a pensarlo más si lo quiero entregar a tiempo... mañana lo sigo pensando\n",
    "\n",
    "    import os\n",
    "    file = open('C:/Users/saula/THE_BRIDGE_FEB22/02_Python/week06/pra/output.txt', 'w')\n",
    "    file.write(salida_titulos + os.linesep)\n",
    "    file.write(salida_datos)\n",
    "    file.close()   \n",
    "\n",
    "covid(21,3363,4250)   "
   ]
  },
  {
   "cell_type": "markdown",
   "metadata": {},
   "source": [
    "### Ejercicio 3\n",
    "\n",
    "Dado el siguiente diccionario:"
   ]
  },
  {
   "cell_type": "code",
   "execution_count": null,
   "metadata": {},
   "outputs": [],
   "source": [
    "d = {\"Alex\":344334443, \"Eva\":5533443, \"Cristina\":443355, \"Jonas\":33223324}"
   ]
  },
  {
   "cell_type": "markdown",
   "metadata": {},
   "source": [
    "Escribid una función que pregunte al usuario que introduzca el nombre de una persona y muestre por pantalla el nombre de la persona y su teléfono. \n",
    "\n",
    "Tened en cuenta que:\n",
    "\n",
    "- La función debe controlar que el valor introducido por el usuario es un nombre que existe en el diccionario. En caso contrario, mostrará un mensaje de error (\"El nombre introducido no corresponde a ninguna persona\") y devolverá el valor False.\n",
    "- Debéis tener en cuenta que el nombre de las personas que nos pasan por parámetro puede ser en minúsculas, mayúsculas o una combinación de ambas, y que debemos encontrar el número de teléfono aunque la capitalización de la cadena entrada por el usuario no sea exactamente la misma que hemos almacenado en el diccionario.\n",
    "- Suponed que  no hay acentos en los nombres.\n",
    "\n",
    "Nota 1: Para realizar la actividad, tendréis que capturar un texto que entrará el usuario. Consultad la [documentación oficial de la función input](https://docs.python.org/3/library/functions.html#input) para ver cómo hacerlo.\n",
    "\n",
    "Nota 2: También tendréis que pensar cómo tratar el hecho de que el usuario pueda utilizar mayúsculas y minúsculas en la escritura del nombre en el diccionario. ¡Os animamos a usar un buscador para intentar encontrar alguna alternativa para resolver este subproblema! ¡Recordad citar las referencias que hayáis usado para resolverlo!\n"
   ]
  },
  {
   "cell_type": "code",
   "execution_count": 79,
   "metadata": {},
   "outputs": [
    {
     "name": "stdout",
     "output_type": "stream",
     "text": [
      "El numero de telefono de Eva es 5533443\n"
     ]
    },
    {
     "data": {
      "text/plain": [
       "5533443"
      ]
     },
     "execution_count": 79,
     "metadata": {},
     "output_type": "execute_result"
    }
   ],
   "source": [
    "d = {\"Alex\":344334443, \"Eva\":5533443, \"Cristina\":443355, \"Jonas\":33223324}\n",
    "\n",
    "# Respuesta\n",
    "def telefono():\n",
    "    nombre = input(f'Introduzca un nombre de la lista {d.keys()}')\n",
    "    if nombre.title() not in d: #python-crash-course capitulo 5\n",
    "        salida = False\n",
    "        print(f'El nombre {nombre.title()} no corresponde a ninguna persona')\n",
    "    else:\n",
    "        salida = d[nombre.title()]\n",
    "        print(f'El numero de telefono de {nombre.title()} es {salida}')\n",
    "    return salida  \n",
    "telefono()"
   ]
  },
  {
   "cell_type": "markdown",
   "metadata": {},
   "source": [
    "###  Ejercicio 4\n",
    "\n",
    "Python dispone de un **idiom** muy útil conocido como `list comprehension`. Utilizando este **idiom**, proporcionad una expresión que devuelva las listas siguientes.\n",
    "\n",
    "Nota: Para realizar esta actividad necesitaréis investigar qué son las `list comprehension` y qué sintaxis utilizan. Para ello, se recomienda en primer lugar que utilicéis un buscador para encontrar información genérica sobre esta construcción. Después, os recomendamos que consultéis stackoverflow para ver algunos ejemplos de problemas que se pueden resolver con esta construcción.\n",
    "\n",
    "\n",
    "[stackoverflow](https://stackoverflow.com/) es un sitio de preguntas-y-respuestas muy popular entre programadores. Veréis que para la gran mayoría de las dudas que tengáis, habrá alguien que ya les habrá tenido (y consultado) anteriormente! Así pues, más allá de preguntar vosotros mismos las dudas allí (nosotros ya tenemos el foro del aula para ello!), consultar esta web os permitirá ver qué soluciones proponen otros programadores a estas dudas. A menudo habrá más de una solución a un mismo problema, y podréis valorar cuál es la más adecuada para vuestro problema.\n",
    "\n",
    "Para ver ejemplos de problemas que son adecuados para resolver con **list comprehensions**, os recomendamos leer las siguientes páginas:\n",
    "* https://stackoverflow.com/questions/12555443/squaring-all-elements-in-a-list\n",
    "* https://stackoverflow.com/questions/18551458/how-to-frame-two-for-loops-in-list-comprehension-python\n",
    "* https://stackoverflow.com/questions/24442091/list-comprehension-with-condition\n",
    "* https://stackoverflow.com/questions/41676212/i-want-to-return-only-the-odd-numbers-in-a-list\n",
    "* https://stackoverflow.com/questions/4260280/if-else-in-a-list-comprehension\n"
   ]
  },
  {
   "cell_type": "markdown",
   "metadata": {},
   "source": [
    "a) Una lista con los valores $4 x^2$ donde $x$ es cada uno de los números de la lista `list_1`:"
   ]
  },
  {
   "cell_type": "code",
   "execution_count": 72,
   "metadata": {},
   "outputs": [
    {
     "name": "stdout",
     "output_type": "stream",
     "text": [
      "[4, 16, 36, 64, 100, 144, 196, 256, 324]\n"
     ]
    }
   ],
   "source": [
    "list_1 = [1, 2, 3, 4, 5, 6, 7, 8, 9]\n",
    "\n",
    "# Respuesta\n",
    "lista_a = [4*(num**2) for num in list_1]\n",
    "print(lista_a)\n"
   ]
  },
  {
   "cell_type": "markdown",
   "metadata": {},
   "source": [
    "b) Una lista con los valores $x/(x+1)$ donde $x$ es cada uno de los números de la lista `list_1`:"
   ]
  },
  {
   "cell_type": "code",
   "execution_count": 74,
   "metadata": {},
   "outputs": [
    {
     "name": "stdout",
     "output_type": "stream",
     "text": [
      "[0.5, 0.6666666666666666, 0.75, 0.8, 0.8333333333333334, 0.8571428571428571, 0.875, 0.8888888888888888, 0.9]\n"
     ]
    }
   ],
   "source": [
    "list_1 = [1, 2, 3, 4, 5, 6, 7, 8, 9]\n",
    "# Respuesta\n",
    "lista_b = [num/(num + 1) for num in list_1 if num!= -1]\n",
    "print(lista_b)"
   ]
  },
  {
   "cell_type": "markdown",
   "metadata": {},
   "source": [
    "c) Una lista con los valores $4x^2/(4x^2-1)$ donde $x$ es cada uno de los números de la lista `list_1`:"
   ]
  },
  {
   "cell_type": "code",
   "execution_count": 75,
   "metadata": {},
   "outputs": [
    {
     "name": "stdout",
     "output_type": "stream",
     "text": [
      "[1.3333333333333333, 1.0666666666666667, 1.0285714285714285, 1.0158730158730158, 1.0101010101010102, 1.006993006993007, 1.005128205128205, 1.003921568627451, 1.0030959752321982]\n"
     ]
    }
   ],
   "source": [
    "list_1 = [1, 2, 3, 4, 5, 6, 7, 8, 9]\n",
    "\n",
    "# Respuesta\n",
    "lista_c = [(4*(num)**2)/((4*(num)**2)-1) for num in list_1 if num !=0.5]\n",
    "print(lista_c)\n"
   ]
  },
  {
   "cell_type": "markdown",
   "metadata": {},
   "source": [
    "### Ejercicio 5\n",
    "\n",
    "El siguiente ejercicio consiste en pasar un número en base 16 (hexadecimal, 0-9/A-F) a base 10 (decimal). Para hacerlo, debéis crear una **función** que dado un _string_ que representa un número en hexadecimal, por ejemplo, `AE3F`, devuelva el número \n",
    "natural correspondiente. En este caso, el resultado sería `44607`."
   ]
  },
  {
   "cell_type": "code",
   "execution_count": 14,
   "metadata": {},
   "outputs": [
    {
     "name": "stdout",
     "output_type": "stream",
     "text": [
      "el numero AE3F en hexadecimal es igual a 44607              en decimal\n"
     ]
    }
   ],
   "source": [
    "# Respuesta\n",
    "def hex_dec(hex):\n",
    "    '''\n",
    "    entrada: strig del valor hexadecimal, base 16\n",
    "    salida: valor en base 10\n",
    "    '''\n",
    "    hexa = {'A':10,'B':11,'C':12,'D':13,'E':14,'F':15}\n",
    "    dec = str(list(range(0,10)))\n",
    "    resultado = 0\n",
    "    error = False\n",
    "    for idx,dig in enumerate(hex):\n",
    "        if dig in hexa.keys():\n",
    "            resultado += hexa[dig] * 16**(len(hex)-idx-1)\n",
    "        elif dig in dec:\n",
    "            resultado += int(dig) * 16**(len(hex)-idx-1)\n",
    "        else:\n",
    "            error = True\n",
    "    if error == False:\n",
    "        return f'el numero {hex} en hexadecimal es igual a {resultado} \\\n",
    "             en decimal'\n",
    "    elif error == True:\n",
    "        return 'El numero no está en hexadecimal'\n",
    "\n",
    "print(hex_dec('AE3F'))\n",
    "\n"
   ]
  },
  {
   "cell_type": "markdown",
   "metadata": {},
   "source": [
    "### Ejercicio 6\n",
    "\n",
    "Las excepciones son errores detectados en tiempo de ejecución. Pueden y deben ser manejadas por el programador para minimizar el riesgo de que un determinado programa falle de forma no controlada. Escribid, en lenguaje Python, cómo generar y capturar la siguiente excepción: **ZeroDivisionError**."
   ]
  },
  {
   "cell_type": "code",
   "execution_count": 177,
   "metadata": {},
   "outputs": [
    {
     "name": "stdout",
     "output_type": "stream",
     "text": [
      "6.25\n"
     ]
    }
   ],
   "source": [
    "# Respuesta\n",
    "try:\n",
    "    x = int(input('Introduce el numero que va a dividir a 25'))\n",
    "    print(25/x)\n",
    "    \n",
    "except ZeroDivisionError as e:\n",
    "    print(e)"
   ]
  },
  {
   "cell_type": "markdown",
   "metadata": {},
   "source": [
    "### Ejercicio 7\n",
    "\n",
    "Completad el código necesario para calcular el número de vocales y de consonantes respectivamente de un texto."
   ]
  },
  {
   "cell_type": "code",
   "execution_count": 7,
   "metadata": {},
   "outputs": [
    {
     "name": "stdout",
     "output_type": "stream",
     "text": [
      "El número de vocales es 44.\n",
      "El número de consonantes es 62.\n"
     ]
    }
   ],
   "source": [
    "def contar_vocales_y_consonantes(texto):\n",
    "    # Cuenta las vocales contenidas en el string texto y también las consonantes.\n",
    "    num_vocales = 0\n",
    "    num_consonantes = 0\n",
    "\n",
    "    # Código que hay que completar.\n",
    "    for idx,tx in enumerate(texto):\n",
    "        if tx.lower() in 'aeiou':\n",
    "            num_vocales +=1\n",
    "        elif tx.lower() in 'qwrtypsdfghjklñzxcvbnm':\n",
    "            num_consonantes +=1\n",
    "\n",
    "\n",
    "    return num_vocales, num_consonantes\n",
    "\n",
    "texto = \"Orbiting Earth in the spaceship, I saw how beautiful our planet is. \\\n",
    "            People, let us preserve and increase this beauty, not destroy it!\"\n",
    "\n",
    "num_vocales, num_consonantes = contar_vocales_y_consonantes(texto)\n",
    "print(\"El número de vocales es %d.\" % num_vocales)\n",
    "print(\"El número de consonantes es %d.\" % num_consonantes)"
   ]
  },
  {
   "cell_type": "markdown",
   "metadata": {},
   "source": [
    "### Ejercicio 8\n",
    "\n",
    "Escribid una función que dada una lista de planetas del sistema solar, pregunte al usuario que introduzca una posición y muestre el plante correspondiente a dicha posición. Por ejemplo, si tenemos la siguiente lista: `['Mercurio', 'Venus', 'Tierra', 'Marte']` y el usuario nos ha introducido la posición `3`, hemos de mostrar como resultado por pantalla: `Tierra`.\n",
    "\n",
    "Consideraciones:\n",
    "\n",
    "- La posición que introduzca el usuario tiene que ser un número entero estrictamente positivo.\n",
    "- La función debe controlar el acceso a una posición fuera de la lista mediante una **excepción**. Por ejemplo, en el caso anterior debemos mostrar una mensaje de error si el usuario pide acceder a la posición 10."
   ]
  },
  {
   "cell_type": "code",
   "execution_count": 183,
   "metadata": {},
   "outputs": [
    {
     "data": {
      "text/plain": [
       "'Marte'"
      ]
     },
     "execution_count": 183,
     "metadata": {},
     "output_type": "execute_result"
    }
   ],
   "source": [
    "# Respuesta\n",
    "def sis_solar():\n",
    "    try:\n",
    "        planetas = ['Mercurio', 'Venus', 'Tierra', 'Marte']\n",
    "        num = input('Introduzca un numero entero entre 1 y 4') \n",
    "        while num  not in str(list(range(1,100))):\n",
    "            num = input('Numero incorrecto, introduzca un numero entero entre 1 y 4')\n",
    "        return planetas[int(num)-1]\n",
    "    except IndexError as e:\n",
    "        print(e)\n",
    "\n",
    "sis_solar()"
   ]
  },
  {
   "cell_type": "markdown",
   "metadata": {},
   "source": [
    "### Ejercicio 9\n",
    "\n",
    "Dada una lista de planetas del sistema solar, determinad cuales de estos planetas tienen una masa superior a la de la Tierra. Por ejemplo, si la lista inicial es `['Venus', 'Marte', 'Saturno']`, el resultado que mostraríamos por pantalla sería `['Saturno']` ya que el planeta Saturno tiene una masa `95.2` veces superior a la Tierra.\n",
    "\n",
    "Consideraciones:\n",
    "\n",
    "- Debéis tener en cuenta que el nombre de los planetas que nos pasan por parámetro puede estar en minúsculas, mayúsculas o una combinación de ambas.\n",
    "- Podéis asumir que no habrá acentos en el nombre de los planetas.\n",
    "- Debéis determinar aquellos planetas que tiene una massa estrictamente superior a la de la Tierra.\n",
    "- No habrá planetas repetidos en la lista que nos pasan por parámetro."
   ]
  },
  {
   "cell_type": "code",
   "execution_count": 5,
   "metadata": {},
   "outputs": [],
   "source": [
    "masas = {'Mercurio': 0.06, 'Venus': 0.82, 'Tierra': 1, 'Marte': 0.11, 'Jupiter': 317.8, \n",
    "          'Saturno': 95.2, 'Urano': 14.6, 'Neptuno': 17.2, 'Pluto': 0.0022}"
   ]
  },
  {
   "cell_type": "code",
   "execution_count": 2,
   "metadata": {},
   "outputs": [
    {
     "name": "stdout",
     "output_type": "stream",
     "text": [
      "[]\n",
      "['Jupiter', 'Saturno']\n",
      "['Urano', 'Neptuno']\n",
      "['Saturno']\n"
     ]
    }
   ],
   "source": [
    "def planetas_mas_grandes_que_Tierra(planetas):\n",
    "    \"\"\"\n",
    "    Planetas con una masa superior a la de la Tierra\n",
    "    \"\"\"\n",
    "    masas = {'Mercurio': 0.06, 'Venus': 0.82, 'Tierra': 1, 'Marte': 0.11, 'Jupiter': 317.8, \n",
    "          'Saturno': 95.2, 'Urano': 14.6, 'Neptuno': 17.2, 'Pluto': 0.0022}\n",
    "    planetas_masa_superior = []\n",
    "    for pl in planetas:\n",
    "        if masas[pl.title()] > masas['Tierra']:\n",
    "            planetas_masa_superior.append(pl.title())\n",
    "\n",
    "    # Código a completar\n",
    "\n",
    "    return planetas_masa_superior\n",
    "\n",
    "# Ejemplos de uso de la función anterior\n",
    "print(planetas_mas_grandes_que_Tierra(['Venus', 'Mercurio', 'Marte']))\n",
    "print(planetas_mas_grandes_que_Tierra(['Jupiter', 'Saturno', 'Pluto']))\n",
    "print(planetas_mas_grandes_que_Tierra(['urano', 'tierra', 'neptuno', 'marte', 'Venus']))\n",
    "print(planetas_mas_grandes_que_Tierra(['Tierra', 'MeRcUrIo', 'PLUTO', 'SATURNO']))\n",
    "\n",
    "# Podéis añadir más ejemplos si lo consideráis oportuno"
   ]
  },
  {
   "cell_type": "markdown",
   "metadata": {},
   "source": [
    "### Ejercicio 10\n",
    "\n",
    "Dada una cadena de caracteres, `s`, de longitud `n` y un número entero positivo `k`, siendo `k` un divisor de `n`, podemos dividir la cadena `s` en `n / k` sub-cadenas de la misma longitud.\n",
    "\n",
    "Escribid una función que, dada una cadena `s` y un número entero `k`, devuelva las `n/k` sub-cadenas teniendo en cuenta las siguientes consideraciones:\n",
    "\n",
    "- El orden de los caracteres en las sub-cadenas debe ser el mismo que en la cadena original.\n",
    "- Todos los caracteres de las sub-cadenas deben aparecer una única vez. Es decir, si un caracter se repite dentro de una sub-cadena, sólo hemos de mostrar la primera ocurrencia.\n",
    "\n",
    "Por ejemplo, si tenemmos\n",
    "<code>\n",
    "s = AABCCAADA\n",
    "k = 3\n",
    "</code>\n",
    "\n",
    "el resultado a mostrar por pantalla sería:\n",
    "<code>\n",
    "AB\n",
    "CA\n",
    "AD\n",
    "</code>\n",
    "\n",
    "Tenemos que la longitud de la cadena es 9 y por lo tanto, podemos formar 3 sub-cadenas:\n",
    "\n",
    "`AAB -> AB` (el caracter A se repite dos veces)\n",
    "\n",
    "`CCA -> CA` (el caracter C se repite dos veces)\n",
    "\n",
    "`ADA -> AD` (el caracter A se repite dos veces)"
   ]
  },
  {
   "cell_type": "code",
   "execution_count": 223,
   "metadata": {},
   "outputs": [
    {
     "data": {
      "text/plain": [
       "['AB', 'CA', 'AD']"
      ]
     },
     "execution_count": 223,
     "metadata": {},
     "output_type": "execute_result"
    }
   ],
   "source": [
    "# Respuesta\n",
    "s = 'AABCCAADA'\n",
    "k = 3\n",
    "def subcadena(s,k):\n",
    "    cadenas = ['' for i in range(int(len(s)/k))] #creo una lista donde cada elemento es una subcadena\n",
    "    lista_def = ['' for i in range(int(len(s)/k))] #creo una lista donde almacenaré la lista final sin elementos repetidos\n",
    "    for idx in range(len(cadenas)):\n",
    "        cadenas[idx]= s[idx*k:((idx+1)*k)] #selecciono los elementos de cada subcadena\n",
    "        for lt in cadenas[idx]: #ahora recorro la subcadena para eliminar las repetidas\n",
    "            if lista_def[idx].count(lt)>0: # si el lemento ya contiene el caracter evaluado, continua\n",
    "                continue\n",
    "            else:\n",
    "                lista_def[idx] += lt # en realidad no elimino las repetidas si no que genero una nueva lista con las subcadenas sin que se repita ningún caracter\n",
    "            \n",
    "                \n",
    "    return lista_def\n",
    "\n",
    "subcadena(s,k)"
   ]
  }
 ],
 "metadata": {
  "interpreter": {
   "hash": "3a457f06cda4579c7033761bf4e886c4764e74b759b9220f07c03aa5d4880471"
  },
  "kernelspec": {
   "display_name": "Python 3.9.5 ('data_science_py395')",
   "language": "python",
   "name": "python3"
  },
  "language_info": {
   "codemirror_mode": {
    "name": "ipython",
    "version": 3
   },
   "file_extension": ".py",
   "mimetype": "text/x-python",
   "name": "python",
   "nbconvert_exporter": "python",
   "pygments_lexer": "ipython3",
   "version": "3.9.5"
  },
  "orig_nbformat": 4
 },
 "nbformat": 4,
 "nbformat_minor": 2
}
