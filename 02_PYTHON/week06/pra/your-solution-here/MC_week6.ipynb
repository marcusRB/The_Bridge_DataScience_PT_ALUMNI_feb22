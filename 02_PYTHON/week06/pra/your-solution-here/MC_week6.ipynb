{
 "cells": [
  {
   "cell_type": "markdown",
   "metadata": {},
   "source": [
    "Programación para *Data Science*\n",
    "============================\n",
    "\n",
    "Intro101 - 07a Conceptos avanzados de Python\n",
    "--------------------------------------\n",
    "\n",
    "En este Notebook encontraréis dos conjuntos de ejercicios de Python."
   ]
  },
  {
   "cell_type": "markdown",
   "metadata": {},
   "source": [
    "### Ejercicio 1\n",
    "\n",
    "Un número primo es aquél que solo es divisible por él mismo y por 1.\n",
    "\n",
    "a) Escribe un código que compruebe si un número `x = 15` es solo divisible por 1 o por el mismo.  Escribe este código usando un iterador (un `for` o un `while`) que barra todos los valores desde `2` a `x-1`. Crea una variable `divisible`  que tenga por defecto valor `False` y asigne el valor `True` si a lo largo de la iteración encuentra un número natural divisible. Puedes usar el operador modulo `a % b` para saber si un numero `b` es divisible por `a`."
   ]
  },
  {
   "cell_type": "code",
   "execution_count": 11,
   "metadata": {},
   "outputs": [
    {
     "name": "stdout",
     "output_type": "stream",
     "text": [
      "Es primo: False\n"
     ]
    }
   ],
   "source": [
    "x=15\n",
    "divisible=False\n",
    "for i in range(2,x):\n",
    "    if(x%i==0):\n",
    "        divisible=True\n",
    "        break\n",
    "print(\"Es primo:\",not divisible)"
   ]
  },
  {
   "cell_type": "markdown",
   "metadata": {},
   "source": [
    "b) Convierte tu código anterior en una función que compruebe si el número del argumento es primo o no, devolviendo True is es primo y False si no es primo. Comprueba tu función con los valores 492366587, 492366585, 48947 y 2,\n"
   ]
  },
  {
   "cell_type": "code",
   "execution_count": 18,
   "metadata": {},
   "outputs": [
    {
     "name": "stdout",
     "output_type": "stream",
     "text": [
      "True\n",
      "El nº 492366587 es primo:True\n",
      "El nº 492366585 es primo:False\n",
      "El nº 48947 es primo:True\n",
      "El nº 2 es primo:True\n"
     ]
    },
    {
     "data": {
      "text/plain": [
       "[None, None, None, None]"
      ]
     },
     "execution_count": 18,
     "metadata": {},
     "output_type": "execute_result"
    }
   ],
   "source": [
    "def es_primo(x):\n",
    "    divisible=False\n",
    "    for i in range(2,x):\n",
    "        if(x%i==0):\n",
    "            divisible=True\n",
    "            break\n",
    "    return not divisible\n",
    "\n",
    "pruebas=[492366587, 492366585, 48947 , 2]\n",
    "\n",
    "[print(f\"El nº {prueba} es primo:{es_primo(prueba)}\") for prueba in pruebas]"
   ]
  },
  {
   "cell_type": "markdown",
   "metadata": {},
   "source": [
    "c) En el cálculo de la función anterior, una vez se ha encontrado un número que es divisible dentro del rango ya no tiene sentido comprobar el resto de números del rango. Por ejemplo si 10 ya es divisble entre 2, ya no hace falta probar de 3 en adelante pues ya sabemos que el número no es primo. \n",
    "\n",
    "Modifica la función anterior de la siguiente forma: \n",
    "- Una vez se encuentra el divisor, la iteración se interrumpe para no probar el resto de enteros. \n",
    "- La función devuelve\n",
    "    - **Si es primo**: True\n",
    "    - **Si no es primo**, el primer divisor mayor que 1.\n",
    "    \n",
    "Puedes hacer uso del comando *break* dentro de un bucle para interrumpir este, puedes consultar más información sobre break en la documentación de python [aquí](https://docs.python.org/2/tutorial/controlflow.html).\n",
    "\n",
    "Comprueba tu función con los valores 492366585, 492366587, 48947 y 2,"
   ]
  },
  {
   "cell_type": "code",
   "execution_count": null,
   "metadata": {},
   "outputs": [],
   "source": [
    "# Respuesta : (apartado anterior)"
   ]
  },
  {
   "cell_type": "markdown",
   "metadata": {},
   "source": [
    "### Ejercicio 2\n",
    "\n",
    "La Covid-19 es una enfermedad producida por la infección del virus SARS-CoV-2. La infección es transmisible de persona a persona y su contagiosidad depende de la cantidad del virus en las vías respiratorias. Si cada persona contagiada transmite la enfermedad a $\\beta$ contactos en promedio por periodo de tiempo $t$, es posible estimar la evolución del contagio con un modelo matemático sencillo.\n",
    "\n",
    "Para $t=1$ día, las transmisiones en España se han estimado a partir de su histórico de las semanas de Febrero y Marzo del 2020 una $\\beta = 0.35$ transmissiones por día por infectado.\n",
    "\n",
    "Durante un periodo de tiempo (por ejempo un día $d$) la tasa de nuevos contagios se puede estimar como  una proporción al número de contagiados del periodo anterior $N$: \n",
    "\n",
    "$ \\Delta N = N_{1} - N = \\beta \\cdot $ (1)\n",
    "\n",
    "Por tanto, podemos proyectar el número futuro de afectados como \n",
    "\n",
    "$ N_{1} = N + \\beta \\cdot N = (1+\\beta) \\cdot $ (2) \n",
    "\n",
    "En dos días:\n",
    "\n",
    "$ N_{2} = (1+\\beta) \\cdot N_{1} = (1+\\beta)^2 \\cdot $  (3)\n",
    "\n",
    "Y en general en D días tendremos \n",
    "\n",
    "$ N_{D} = (1+\\beta)^D \\cdot N$  (4)\n",
    " \n",
    "Asumiendo este sencillo modelo: \n",
    "\n",
    "a) Implementa una función de dos parámetros (N: población infectada inicial, D: número de días), que devuelva el cálculo de afectados para D días siguiendo la ecuación (4). Suponiendo una población afectada de 4250 (población afectada en españa a día 13 de Marzo de 2020), usa la función para calcular la población estimada en 1, 2, 7 y 30 días. "
   ]
  },
  {
   "cell_type": "code",
   "execution_count": 20,
   "metadata": {},
   "outputs": [
    {
     "name": "stdout",
     "output_type": "stream",
     "text": [
      "Contagiados en 1 días: 5737.5\n",
      "Contagiados en 2 días: 7745.625000000001\n",
      "Contagiados en 7 días: 34731.64149433595\n",
      "Contagiados en 30 días: 34546335.38087164\n"
     ]
    },
    {
     "data": {
      "text/plain": [
       "[None, None, None, None]"
      ]
     },
     "execution_count": 20,
     "metadata": {},
     "output_type": "execute_result"
    }
   ],
   "source": [
    "def fcovid(N,D):\n",
    "    \"\"\"\n",
    "    Funcion que estima el numero de contagiados que va a haber en un periodo de tiempo.\n",
    "\n",
    "    args.\n",
    "    -----\n",
    "    N: int; poblacion infectada inicial.\n",
    "    D: int; días a estimar.\n",
    "\n",
    "    return.\n",
    "    -------\n",
    "    C: int; número de contagiados.\n",
    "    \"\"\"\n",
    "    beta=0.35\n",
    "\n",
    "    C=((1 + beta)**D) * N\n",
    "\n",
    "    return C\n",
    "\n",
    "afectados0=4250\n",
    "dias_est=[1,2,7,30]    \n",
    "[print(f\"Contagiados en {dias} días: {fcovid(afectados0,dias)}\") for dias in dias_est]            "
   ]
  },
  {
   "cell_type": "markdown",
   "metadata": {},
   "source": [
    "b) Sabiendo que los Servicios de Medicina Intensiva (SMI) disponen de 3363 camas para enfermos graves, y suponiendo que un 10% de los afectados por el covid-19 requerirán de SMI y una supervivencia del 2,5% (Exitus), escribe un código que calcule:\n",
    "- El día en curso (Día)\n",
    "- El total de afectados por el virus para cada día d (Afectados)\n",
    "- El total de ingresados en SMI por el virus para cada día d (Críticos)\n",
    "- El total de Exitus por el virus para cada día d (Exitus)\n",
    "- Si los servicios de SMI no pueden aceptar los ingresados para cada día $d$ (Estado: indicando Saturación/No Saturación)\n",
    "\n",
    "Imprime en pantalla la información de cada día durante una simulación de tres semanas, suponiendo que no hay recuperaciones, con una población afectada inicial 4250 y una $\\beta = 0.35$ constante. "
   ]
  },
  {
   "cell_type": "code",
   "execution_count": 194,
   "metadata": {},
   "outputs": [
    {
     "name": "stdout",
     "output_type": "stream",
     "text": [
      "Dia 1 afectados: 5737.5 criticos: 573.75 exitus: 14.34375 estado: No saturacion \n",
      "Dia 2 afectados: 7745.625000000001 criticos: 774.5625000000001 exitus: 19.364062500000003 estado: No saturacion \n",
      "Dia 3 afectados: 10456.593750000002 criticos: 1045.6593750000002 exitus: 26.141484375000005 estado: No saturacion \n",
      "Dia 4 afectados: 14116.401562500005 criticos: 1411.6401562500005 exitus: 35.29100390625001 estado: No saturacion \n",
      "Dia 5 afectados: 19057.142109375007 criticos: 1905.7142109375009 exitus: 47.642855273437526 estado: No saturacion \n",
      "Dia 6 afectados: 25727.14184765626 criticos: 2572.714184765626 exitus: 64.31785461914066 estado: No saturacion \n",
      "Dia 7 afectados: 34731.64149433595 criticos: 3473.164149433595 exitus: 86.82910373583988 estado: Saturacion \n",
      "Dia 8 afectados: 46887.71601735354 criticos: 4688.771601735354 exitus: 117.21929004338386 estado: Saturacion \n",
      "Dia 9 afectados: 63298.416623427285 criticos: 6329.841662342729 exitus: 158.24604155856824 estado: Saturacion \n",
      "Dia 10 afectados: 85452.86244162684 criticos: 8545.286244162684 exitus: 213.63215610406712 estado: Saturacion \n",
      "Dia 11 afectados: 115361.36429619623 criticos: 11536.136429619624 exitus: 288.40341074049064 estado: Saturacion \n",
      "Dia 12 afectados: 155737.84179986492 criticos: 15573.784179986493 exitus: 389.34460449966235 estado: Saturacion \n",
      "Dia 13 afectados: 210246.08642981766 criticos: 21024.608642981766 exitus: 525.6152160745442 estado: Saturacion \n",
      "Dia 14 afectados: 283832.2166802539 criticos: 28383.22166802539 exitus: 709.5805417006349 estado: Saturacion \n",
      "Dia 15 afectados: 383173.49251834274 criticos: 38317.349251834275 exitus: 957.9337312958569 estado: Saturacion \n",
      "Dia 16 afectados: 517284.21489976277 criticos: 51728.42148997628 exitus: 1293.210537249407 estado: Saturacion \n",
      "Dia 17 afectados: 698333.6901146799 criticos: 69833.36901146799 exitus: 1745.8342252866998 estado: Saturacion \n",
      "Dia 18 afectados: 942750.4816548177 criticos: 94275.04816548177 exitus: 2356.876204137044 estado: Saturacion \n",
      "Dia 19 afectados: 1272713.1502340042 criticos: 127271.31502340043 exitus: 3181.782875585011 estado: Saturacion \n",
      "Dia 20 afectados: 1718162.7528159055 criticos: 171816.27528159056 exitus: 4295.406882039764 estado: Saturacion \n",
      "Dia 21 afectados: 2319519.716301473 criticos: 231951.9716301473 exitus: 5798.799290753683 estado: Saturacion \n"
     ]
    },
    {
     "data": {
      "text/plain": [
       "[None,\n",
       " None,\n",
       " None,\n",
       " None,\n",
       " None,\n",
       " None,\n",
       " None,\n",
       " None,\n",
       " None,\n",
       " None,\n",
       " None,\n",
       " None,\n",
       " None,\n",
       " None,\n",
       " None,\n",
       " None,\n",
       " None,\n",
       " None,\n",
       " None,\n",
       " None,\n",
       " None]"
      ]
     },
     "execution_count": 194,
     "metadata": {},
     "output_type": "execute_result"
    }
   ],
   "source": [
    "camas=3363\n",
    "graves=0.1\n",
    "exitus=0.025\n",
    "\n",
    "resultado1={\n",
    "    \"dia\":[i for i in range(1,3*7+1)],\n",
    "    \"afectados\":[fcovid(afectados0,dias) for dias in range(1,3*7+1)],\n",
    "    \"criticos\":[fcovid(afectados0,dias)*graves for dias in range(1,3*7+1)], \n",
    "    \"exitus\":[fcovid(afectados0,dias)*graves*exitus for dias in range(1,3*7+1)],\n",
    "}\n",
    "resultado1[\"estado\"]=[\"No saturacion\" if(camas-resultado1['criticos'][i-1]>0) else \"Saturacion\" for i in range(1,3*7+1)]\n",
    "\n",
    "\n",
    "[print(f\"Dia {resultado1['dia'][i]} afectados: {resultado1['afectados'][i]} criticos: {resultado1['criticos'][i]} exitus: {resultado1['exitus'][i]} estado: {resultado1['estado'][i]} \" ) for i in range(3*7)]           "
   ]
  },
  {
   "cell_type": "markdown",
   "metadata": {},
   "source": [
    "c) Convierte el código anterior en una función que genere un archivo de texto con nombre `output.txt`, siguiendo este formato: \n",
    "```\n",
    "Dia, Afectados, Críticos, Exitus, Estado\n",
    "0, 4250, 425,  106, No Saturación\n",
    "1, 5737, 573,  143, No Saturación\n",
    "2, 7745, 774,  193, No Saturación\n",
    "...\n",
    "```\n",
    "Con los parámetros de entrada $N$, $D$, $\\beta$, camas SMI."
   ]
  },
  {
   "cell_type": "code",
   "execution_count": 223,
   "metadata": {},
   "outputs": [],
   "source": [
    "def datos_covid(N,D,camas):\n",
    "\n",
    "    graves=0.1\n",
    "    exitus=0.025\n",
    "    arch=open(\"output.txt\",\"w\")\n",
    "\n",
    "    resultado={\n",
    "\n",
    "        \"dia\":[i for i in range(1,D+1)],\n",
    "        \"afectados\":[fcovid(N,dias) for dias in range(1,D+1)],\n",
    "        \"criticos\":[fcovid(N,dias)*graves for dias in range(1,D+1)], \n",
    "        \"exitus\":[fcovid(N,dias)*graves*exitus for dias in range(1,D+1)],\n",
    "    }\n",
    "    resultado[\"estado\"]=[\" No saturacion\" if(camas-resultado['criticos'][i-1]>0) else \" Saturacion\" for i in range(1,3*7+1)]\n",
    "\n",
    "    arch.write(\"Dia, Afectados, Criticos, Exitus, Estado \\n\")\n",
    "    [arch.write(f\"{resultado['dia'][i]} {resultado['afectados'][i]} {resultado['criticos'][i]} {resultado['exitus'][i]}{resultado['estado'][i]}\\n\") for i in range(D)]\n",
    "\n",
    "    return arch\n",
    "                "
   ]
  },
  {
   "cell_type": "code",
   "execution_count": 224,
   "metadata": {},
   "outputs": [],
   "source": [
    "archivo=datos_covid(4250,3*7,3363)"
   ]
  },
  {
   "cell_type": "code",
   "execution_count": 225,
   "metadata": {},
   "outputs": [
    {
     "name": "stdout",
     "output_type": "stream",
     "text": [
      "<_io.TextIOWrapper name='output.txt' mode='r' encoding='UTF-8'>\n"
     ]
    }
   ],
   "source": [
    "with open(\"output.txt\",\"r\") as archivo:\n",
    "    print(archivo)"
   ]
  },
  {
   "cell_type": "markdown",
   "metadata": {},
   "source": [
    "### Ejercicio 3\n",
    "\n",
    "Dado el siguiente diccionario:"
   ]
  },
  {
   "cell_type": "code",
   "execution_count": null,
   "metadata": {},
   "outputs": [],
   "source": [
    "d = {\"Alex\":344334443, \"Eva\":5533443, \"Cristina\":443355, \"Jonas\":33223324}"
   ]
  },
  {
   "cell_type": "markdown",
   "metadata": {},
   "source": [
    "Escribid una función que pregunte al usuario que introduzca el nombre de una persona y muestre por pantalla el nombre de la persona y su teléfono. \n",
    "\n",
    "Tened en cuenta que:\n",
    "\n",
    "- La función debe controlar que el valor introducido por el usuario es un nombre que existe en el diccionario. En caso contrario, mostrará un mensaje de error (\"El nombre introducido no corresponde a ninguna persona\") y devolverá el valor False.\n",
    "- Debéis tener en cuenta que el nombre de las personas que nos pasan por parámetro puede ser en minúsculas, mayúsculas o una combinación de ambas, y que debemos encontrar el número de teléfono aunque la capitalización de la cadena entrada por el usuario no sea exactamente la misma que hemos almacenado en el diccionario.\n",
    "- Suponed que  no hay acentos en los nombres.\n",
    "\n",
    "Nota 1: Para realizar la actividad, tendréis que capturar un texto que entrará el usuario. Consultad la [documentación oficial de la función input](https://docs.python.org/3/library/functions.html#input) para ver cómo hacerlo.\n",
    "\n",
    "Nota 2: También tendréis que pensar cómo tratar el hecho de que el usuario pueda utilizar mayúsculas y minúsculas en la escritura del nombre en el diccionario. ¡Os animamos a usar un buscador para intentar encontrar alguna alternativa para resolver este subproblema! ¡Recordad citar las referencias que hayáis usado para resolverlo!\n"
   ]
  },
  {
   "cell_type": "code",
   "execution_count": 36,
   "metadata": {},
   "outputs": [],
   "source": [
    "d = {\"Alex\":344334443, \"Eva\":5533443, \"Cristina\":443355, \"Jonas\":33223324}\n",
    "\n",
    "def telefono(nombre,d):\n",
    "    \"\"\"\n",
    "    Funcion que indica el número de telefono de una persona perteneciente a un listado.\n",
    "\n",
    "    args.\n",
    "    -----\n",
    "    nombre: str; nombre de la persona.\n",
    "    d: dict; listado de nombres y telefonos.\n",
    "\n",
    "    return.\n",
    "    -------\n",
    "    n_telef: int; numero de telefono (o bool; /False/ si nombre no pertenece al listado)\n",
    "    \"\"\"\n",
    "    n_telef=False\n",
    "    \n",
    "    for k,v in d.items():\n",
    "        if(nombre.capitalize()==k):\n",
    "            n_telef=v\n",
    "            break\n",
    "\n",
    "    if(n_telef==False):\n",
    "        print(\"El nombre introducido no corresponde a ninguna persona\")\n",
    "\n",
    "    return n_telef\n",
    "            "
   ]
  },
  {
   "cell_type": "code",
   "execution_count": 42,
   "metadata": {},
   "outputs": [
    {
     "name": "stdout",
     "output_type": "stream",
     "text": [
      "Introduzca nombre:\n",
      "\n",
      "alex\n"
     ]
    },
    {
     "data": {
      "text/plain": [
       "344334443"
      ]
     },
     "execution_count": 42,
     "metadata": {},
     "output_type": "execute_result"
    }
   ],
   "source": [
    "print(\"Introduzca nombre:\\n\")\n",
    "\n",
    "nombre=input()\n",
    "print(nombre)\n",
    "telefono(nombre,d)"
   ]
  },
  {
   "cell_type": "markdown",
   "metadata": {},
   "source": [
    "###  Ejercicio 4\n",
    "\n",
    "Python dispone de un **idiom** muy útil conocido como `list comprehension`. Utilizando este **idiom**, proporcionad una expresión que devuelva las listas siguientes.\n",
    "\n",
    "Nota: Para realizar esta actividad necesitaréis investigar qué son las `list comprehension` y qué sintaxis utilizan. Para ello, se recomienda en primer lugar que utilicéis un buscador para encontrar información genérica sobre esta construcción. Después, os recomendamos que consultéis stackoverflow para ver algunos ejemplos de problemas que se pueden resolver con esta construcción.\n",
    "\n",
    "\n",
    "[stackoverflow](https://stackoverflow.com/) es un sitio de preguntas-y-respuestas muy popular entre programadores. Veréis que para la gran mayoría de las dudas que tengáis, habrá alguien que ya les habrá tenido (y consultado) anteriormente! Así pues, más allá de preguntar vosotros mismos las dudas allí (nosotros ya tenemos el foro del aula para ello!), consultar esta web os permitirá ver qué soluciones proponen otros programadores a estas dudas. A menudo habrá más de una solución a un mismo problema, y podréis valorar cuál es la más adecuada para vuestro problema.\n",
    "\n",
    "Para ver ejemplos de problemas que son adecuados para resolver con **list comprehensions**, os recomendamos leer las siguientes páginas:\n",
    "* https://stackoverflow.com/questions/12555443/squaring-all-elements-in-a-list\n",
    "* https://stackoverflow.com/questions/18551458/how-to-frame-two-for-loops-in-list-comprehension-python\n",
    "* https://stackoverflow.com/questions/24442091/list-comprehension-with-condition\n",
    "* https://stackoverflow.com/questions/41676212/i-want-to-return-only-the-odd-numbers-in-a-list\n",
    "* https://stackoverflow.com/questions/4260280/if-else-in-a-list-comprehension\n"
   ]
  },
  {
   "cell_type": "markdown",
   "metadata": {},
   "source": [
    "a) Una lista con los valores $4 x^2$ donde $x$ es cada uno de los números de la lista `list_1`:"
   ]
  },
  {
   "cell_type": "code",
   "execution_count": 43,
   "metadata": {},
   "outputs": [
    {
     "data": {
      "text/plain": [
       "[4, 16, 36, 64, 100, 144, 196, 256, 324]"
      ]
     },
     "execution_count": 43,
     "metadata": {},
     "output_type": "execute_result"
    }
   ],
   "source": [
    "list_1 = [1, 2, 3, 4, 5, 6, 7, 8, 9]\n",
    "\n",
    "[4*x**2 for x in list_1]"
   ]
  },
  {
   "cell_type": "markdown",
   "metadata": {},
   "source": [
    "b) Una lista con los valores $x/(x+1)$ donde $x$ es cada uno de los números de la lista `list_1`:"
   ]
  },
  {
   "cell_type": "code",
   "execution_count": 44,
   "metadata": {},
   "outputs": [
    {
     "data": {
      "text/plain": [
       "[0.5,\n",
       " 0.6666666666666666,\n",
       " 0.75,\n",
       " 0.8,\n",
       " 0.8333333333333334,\n",
       " 0.8571428571428571,\n",
       " 0.875,\n",
       " 0.8888888888888888,\n",
       " 0.9]"
      ]
     },
     "execution_count": 44,
     "metadata": {},
     "output_type": "execute_result"
    }
   ],
   "source": [
    "list_1 = [1, 2, 3, 4, 5, 6, 7, 8, 9]\n",
    "\n",
    "[x/(x+1) for x in list_1]"
   ]
  },
  {
   "cell_type": "markdown",
   "metadata": {},
   "source": [
    "c) Una lista con los valores $4x^2/(4x^2-1)$ donde $x$ es cada uno de los números de la lista `list_1`:"
   ]
  },
  {
   "cell_type": "code",
   "execution_count": 45,
   "metadata": {},
   "outputs": [
    {
     "data": {
      "text/plain": [
       "[1.3333333333333333,\n",
       " 1.0666666666666667,\n",
       " 1.0285714285714285,\n",
       " 1.0158730158730158,\n",
       " 1.0101010101010102,\n",
       " 1.006993006993007,\n",
       " 1.005128205128205,\n",
       " 1.003921568627451,\n",
       " 1.0030959752321982]"
      ]
     },
     "execution_count": 45,
     "metadata": {},
     "output_type": "execute_result"
    }
   ],
   "source": [
    "list_1 = [1, 2, 3, 4, 5, 6, 7, 8, 9]\n",
    "\n",
    "[(4*x**2)/((4*x**2)-1) for x in list_1]\n"
   ]
  },
  {
   "cell_type": "markdown",
   "metadata": {},
   "source": [
    "### Ejercicio 5\n",
    "\n",
    "El siguiente ejercicio consiste en pasar un número en base 16 (hexadecimal, 0-9/A-F) a base 10 (decimal). Para hacerlo, debéis crear una **función** que dado un _string_ que representa un número en hexadecimal, por ejemplo, `AE3F`, devuelva el número \n",
    "natural correspondiente. En este caso, el resultado sería `44607`."
   ]
  },
  {
   "cell_type": "code",
   "execution_count": 87,
   "metadata": {},
   "outputs": [],
   "source": [
    "\n",
    "def conversor_HaD(h):\n",
    "    \"\"\"\n",
    "    Funcion que realiza la conversión de hexadecimal a decimal.\n",
    "\n",
    "    args.\n",
    "    -----\n",
    "    h: str; numero hexadecimal (base 16)\n",
    "    \n",
    "    return.\n",
    "    -------\n",
    "    d: int; numero convertido a decimal (base 10)\n",
    "    \"\"\"\n",
    "    d=0\n",
    "    sustituye=['A','B','C','D','E','F']\n",
    "\n",
    "    hexa={sustituye[k]:k+10 for k in range(len(sustituye))}\n",
    "\n",
    "    for i,hi in enumerate(h):\n",
    "        if(sustituye.count(hi)==0):\n",
    "            d+=int(hi)*16**(len(h)-i-1)\n",
    "        else:\n",
    "            d+=hexa.get(hi)*16**(len(h)-i-1)\n",
    "    return d\n",
    "       \n"
   ]
  },
  {
   "cell_type": "code",
   "execution_count": 88,
   "metadata": {},
   "outputs": [
    {
     "data": {
      "text/plain": [
       "44607"
      ]
     },
     "execution_count": 88,
     "metadata": {},
     "output_type": "execute_result"
    }
   ],
   "source": [
    "conversor_HaD(\"AE3F\")"
   ]
  },
  {
   "cell_type": "markdown",
   "metadata": {},
   "source": [
    "### Ejercicio 6\n",
    "\n",
    "Las excepciones son errores detectados en tiempo de ejecución. Pueden y deben ser manejadas por el programador para minimizar el riesgo de que un determinado programa falle de forma no controlada. Escribid, en lenguaje Python, cómo generar y capturar la siguiente excepción: **ZeroDivisionError**."
   ]
  },
  {
   "cell_type": "code",
   "execution_count": 92,
   "metadata": {},
   "outputs": [
    {
     "name": "stdout",
     "output_type": "stream",
     "text": [
      "Error: division by zero\n"
     ]
    }
   ],
   "source": [
    "a=1\n",
    "b=0\n",
    "try:\n",
    "    res=a/b\n",
    "    print(res)\n",
    "except ZeroDivisionError as err:\n",
    "    print('Error:', err)"
   ]
  },
  {
   "cell_type": "markdown",
   "metadata": {},
   "source": [
    "### Ejercicio 7\n",
    "\n",
    "Completad el código necesario para calcular el número de vocales y de consonantes respectivamente de un texto."
   ]
  },
  {
   "cell_type": "code",
   "execution_count": 109,
   "metadata": {},
   "outputs": [
    {
     "name": "stdout",
     "output_type": "stream",
     "text": [
      "Orbiting Earth in the spaceship I saw how beautiful our planet is             People let us preserve and increase this beauty not destroy it\n",
      "34\n",
      "El número de vocales es 44.\n",
      "El número de consonantes es 62.\n"
     ]
    }
   ],
   "source": [
    "import string\n",
    "\n",
    "def contar_vocales_y_consonantes(texto):\n",
    "    # Cuenta las vocales contenidas en el string texto y también las consonantes.\n",
    "    num_vocales = 0\n",
    "    num_consonantes = 0\n",
    "\n",
    "    \n",
    "    texto2=texto.translate(str.maketrans('', '', string.punctuation))\n",
    "    print(texto2)\n",
    "\n",
    "    num_espacios = texto2.count(' ')\n",
    "    vocales=\"AEIOU\"\n",
    "\n",
    "    for letra in texto2:\n",
    "        for i in vocales:\n",
    "            if (letra.upper()==i):\n",
    "                num_vocales+=1\n",
    "    print(num_espacios)\n",
    "    num_consonantes=len(texto2)-num_vocales-num_espacios\n",
    "\n",
    "    return num_vocales, num_consonantes\n",
    "\n",
    "texto = \"Orbiting Earth in the spaceship, I saw how beautiful our planet is. \\\n",
    "            People, let us preserve and increase this beauty, not destroy it!\"\n",
    "\n",
    "num_vocales, num_consonantes = contar_vocales_y_consonantes(texto)\n",
    "print(\"El número de vocales es %d.\" % num_vocales)\n",
    "print(\"El número de consonantes es %d.\" % num_consonantes)"
   ]
  },
  {
   "cell_type": "markdown",
   "metadata": {},
   "source": [
    "### Ejercicio 8\n",
    "\n",
    "Escribid una función que dada una lista de planetas del sistema solar, pregunte al usuario que introduzca una posición y muestre el plante correspondiente a dicha posición. Por ejemplo, si tenemos la siguiente lista: `['Mercurio', 'Venus', 'Tierra', 'Marte']` y el usuario nos ha introducido la posición `3`, hemos de mostrar como resultado por pantalla: `Tierra`.\n",
    "\n",
    "Consideraciones:\n",
    "\n",
    "- La posición que introduzca el usuario tiene que ser un número entero estrictamente positivo.\n",
    "- La función debe controlar el acceso a una posición fuera de la lista mediante una **excepción**. Por ejemplo, en el caso anterior debemos mostrar una mensaje de error si el usuario pide acceder a la posición 10."
   ]
  },
  {
   "cell_type": "code",
   "execution_count": 122,
   "metadata": {},
   "outputs": [
    {
     "name": "stdout",
     "output_type": "stream",
     "text": [
      "Error: list index out of range\n",
      "False\n"
     ]
    }
   ],
   "source": [
    "def planeta(planetas):\n",
    "    try:\n",
    "        indice=int(input())\n",
    "        res=planetas[indice-1]\n",
    "    except IndexError as err:\n",
    "        print('Error:', err)\n",
    "        res=False\n",
    "    return res\n",
    "\n",
    "\n",
    "planetas=['Mercurio', 'Venus', 'Tierra', 'Marte']\n",
    "print(planeta(planetas))\n"
   ]
  },
  {
   "cell_type": "markdown",
   "metadata": {},
   "source": [
    "### Ejercicio 9\n",
    "\n",
    "Dada una lista de planetas del sistema solar, determinad cuales de estos planetas tienen una masa superior a la de la Tierra. Por ejemplo, si la lista inicial es `['Venus', 'Marte', 'Saturno']`, el resultado que mostraríamos por pantalla sería `['Saturno']` ya que el planeta Saturno tiene una masa `95.2` veces superior a la Tierra.\n",
    "\n",
    "Consideraciones:\n",
    "\n",
    "- Debéis tener en cuenta que el nombre de los planetas que nos pasan por parámetro puede estar en minúsculas, mayúsculas o una combinación de ambas.\n",
    "- Podéis asumir que no habrá acentos en el nombre de los planetas.\n",
    "- Debéis determinar aquellos planetas que tiene una massa estrictamente superior a la de la Tierra.\n",
    "- No habrá planetas repetidos en la lista que nos pasan por parámetro."
   ]
  },
  {
   "cell_type": "code",
   "execution_count": 5,
   "metadata": {},
   "outputs": [],
   "source": [
    "masas = {'Mercurio': 0.06, 'Venus': 0.82, 'Tierra': 1, 'Marte': 0.11, 'Jupiter': 317.8, \n",
    "          'Saturno': 95.2, 'Urano': 14.6, 'Neptuno': 17.2, 'Pluto': 0.0022}"
   ]
  },
  {
   "cell_type": "code",
   "execution_count": 126,
   "metadata": {},
   "outputs": [
    {
     "name": "stdout",
     "output_type": "stream",
     "text": [
      "Ninguno de los planetas dados tiene masa superior a la Tierra\n",
      "['Jupiter', 'Saturno']\n",
      "['Urano', 'Neptuno']\n",
      "['Saturno']\n"
     ]
    }
   ],
   "source": [
    "def planetas_mas_grandes_que_Tierra(planetas):\n",
    "    \"\"\"\n",
    "    Planetas con una masa superior a la de la Tierra\n",
    "    \"\"\"\n",
    "\n",
    "    masas = {'Mercurio': 0.06, 'Venus': 0.82, 'Tierra': 1, 'Marte': 0.11, 'Jupiter': 317.8, \n",
    "          'Saturno': 95.2, 'Urano': 14.6, 'Neptuno': 17.2, 'Pluto': 0.0022}\n",
    "\n",
    "    planetas_masa_superior = []\n",
    "\n",
    "    for planeta in planetas:\n",
    "        if (masas.get(planeta.capitalize())>masas.get('Tierra')):\n",
    "            planetas_masa_superior.append(planeta.capitalize())\n",
    "    if (planetas_masa_superior==[]):\n",
    "        planetas_masa_superior=\"Ninguno de los planetas dados tiene masa superior a la Tierra\"\n",
    "\n",
    "    return planetas_masa_superior\n",
    "\n",
    "# Ejemplos de uso de la función anterior\n",
    "print(planetas_mas_grandes_que_Tierra(['Venus', 'Mercurio', 'Marte']))\n",
    "print(planetas_mas_grandes_que_Tierra(['Jupiter', 'Saturno', 'Pluto']))\n",
    "print(planetas_mas_grandes_que_Tierra(['urano', 'tierra', 'neptuno', 'marte', 'Venus']))\n",
    "print(planetas_mas_grandes_que_Tierra(['Tierra', 'MeRcUrIo', 'PLUTO', 'SATURNO']))\n",
    "\n",
    "# Podéis añadir más ejemplos si lo consideráis oportuno"
   ]
  },
  {
   "cell_type": "markdown",
   "metadata": {},
   "source": [
    "### Ejercicio 10\n",
    "\n",
    "Dada una cadena de caracteres, `s`, de longitud `n` y un número entero positivo `k`, siendo `k` un divisor de `n`, podemos dividir la cadena `s` en `n / k` sub-cadenas de la misma longitud.\n",
    "\n",
    "Escribid una función que, dada una cadena `s` y un número entero `k`, devuelva las `n/k` sub-cadenas teniendo en cuenta las siguientes consideraciones:\n",
    "\n",
    "- El orden de los caracteres en las sub-cadenas debe ser el mismo que en la cadena original.\n",
    "- Todos los caracteres de las sub-cadenas deben aparecer una única vez. Es decir, si un caracter se repite dentro de una sub-cadena, sólo hemos de mostrar la primera ocurrencia.\n",
    "\n",
    "Por ejemplo, si tenemmos\n",
    "<code>\n",
    "s = AABCCAADA\n",
    "k = 3\n",
    "</code>\n",
    "\n",
    "el resultado a mostrar por pantalla sería:\n",
    "<code>\n",
    "AB\n",
    "CA\n",
    "AD\n",
    "</code>\n",
    "\n",
    "Tenemos que la longitud de la cadena es 9 y por lo tanto, podemos formar 3 sub-cadenas:\n",
    "\n",
    "`AAB -> AB` (el caracter A se repite dos veces)\n",
    "\n",
    "`CCA -> CA` (el caracter C se repite dos veces)\n",
    "\n",
    "`ADA -> AD` (el caracter A se repite dos veces)"
   ]
  },
  {
   "cell_type": "code",
   "execution_count": 183,
   "metadata": {},
   "outputs": [],
   "source": [
    "def no_replicas(cad):\n",
    "    return \"\".join(dict.fromkeys(cad))\n",
    "\n",
    "\n",
    "def subcadenas(s,n):\n",
    "\n",
    "    lon=len(s)\n",
    "    div=int(lon/n)\n",
    "        \n",
    "    ns=[s[ini:ini+div] for ini in range(0,lon,div)]\n",
    "    \n",
    "    for i,c in enumerate(ns):\n",
    "        ns[i]=no_replicas(c)\n",
    "\n",
    "    return ns"
   ]
  },
  {
   "cell_type": "code",
   "execution_count": 185,
   "metadata": {},
   "outputs": [
    {
     "data": {
      "text/plain": [
       "['AB', 'CA', 'AD']"
      ]
     },
     "execution_count": 185,
     "metadata": {},
     "output_type": "execute_result"
    }
   ],
   "source": [
    "s = 'AABCCAADA'\n",
    "k = 3\n",
    "subcadenas(s,k)"
   ]
  }
 ],
 "metadata": {
  "interpreter": {
   "hash": "3a457f06cda4579c7033761bf4e886c4764e74b759b9220f07c03aa5d4880471"
  },
  "kernelspec": {
   "display_name": "Python 3.9.5 ('data_science_py395')",
   "language": "python",
   "name": "python3"
  },
  "language_info": {
   "codemirror_mode": {
    "name": "ipython",
    "version": 3
   },
   "file_extension": ".py",
   "mimetype": "text/x-python",
   "name": "python",
   "nbconvert_exporter": "python",
   "pygments_lexer": "ipython3",
   "version": "3.9.5"
  },
  "orig_nbformat": 4
 },
 "nbformat": 4,
 "nbformat_minor": 2
}
