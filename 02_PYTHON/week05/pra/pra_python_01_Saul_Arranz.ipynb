{
 "cells": [
  {
   "cell_type": "markdown",
   "metadata": {},
   "source": [
    "### Pregunta 1\n",
    "\n",
    "¿Cuál es el valor final de a, b y c? (atención a los tipos de número decimal y entero)\n",
    "\n",
    "a = 5 * 11\n",
    "\n",
    "b = a / 2.\n",
    "\n",
    "c, a = b * 2, b + 1"
   ]
  },
  {
   "cell_type": "code",
   "execution_count": 11,
   "metadata": {},
   "outputs": [
    {
     "name": "stdout",
     "output_type": "stream",
     "text": [
      "a es de tipo <class 'int'>\n",
      "b es de tipo <class 'float'>\n",
      "c es de tipo <class 'float'>\n",
      "a es de tipo <class 'float'>\n"
     ]
    }
   ],
   "source": [
    "# Respuesta\n",
    "# a será igual a 55 de tipo int porque los 2 valores que estamos multiplicando\n",
    "# son de tipo int\n",
    "a = 5*11\n",
    "print(f'a es de tipo {type(a)}')\n",
    "# b será igual a 55/2 de tipo float porque al dividir, aunque el resultado\n",
    "#  ser un numero entero, python devuelve un float\n",
    "b = a/2.\n",
    "type(b)\n",
    "print(f'b es de tipo {type(b)}')\n",
    "# c será de tipo float porque se crea a partir de un float (b)\n",
    "# a pasará a ser float porque se crea a partir de un float (b) y un int\n",
    "c,a = b*2,b+1\n",
    "print(f'c es de tipo {type(c)}')\n",
    "print(f'a es de tipo {type(a)}')"
   ]
  },
  {
   "cell_type": "markdown",
   "metadata": {},
   "source": [
    "### Pregunta 2\n",
    "\n",
    "Identifica tres tipos de datos de Python y explica brevemente en qué se diferencian. Explica la diferencia entre el tipo lista y el tipo tupla."
   ]
  },
  {
   "cell_type": "code",
   "execution_count": null,
   "metadata": {},
   "outputs": [],
   "source": [
    "# Respuesta\n",
    "# int --> entero, contiene numeros enteros\n",
    "# float --> numeros decimales, contiene numeros decimales\n",
    "# str --> texto, contiene variables tipo texto (pueden ser numeros, pero son considerados como texto)\n",
    "#la principla diferencia entre lista y tupla es que la tupla no se puede modificar\n"
   ]
  },
  {
   "cell_type": "markdown",
   "metadata": {},
   "source": [
    "### Pregunta 3\n",
    "\n",
    "¿Cuál es el resultado de la operación lógica ` 'manzana'> 'casa'`? Explica por qué. \n",
    "\n",
    "**Nota**: Consultad en estándar [Unicode](https://es.wikipedia.org/wiki/Unicode) para la codificación de caracteres."
   ]
  },
  {
   "cell_type": "code",
   "execution_count": 11,
   "metadata": {},
   "outputs": [
    {
     "data": {
      "text/plain": [
       "True"
      ]
     },
     "execution_count": 11,
     "metadata": {},
     "output_type": "execute_result"
    }
   ],
   "source": [
    "# Respuesta\n",
    "# el resultado es true porque compara la posición de la primmera letra de \"manzana\"\n",
    "# con la posición de la primera letra de \"casa\" y en este caso la m está después\n",
    "# que la c en la lista unicode\n",
    "# si por ejemplo ponemos la m de manzana en mayuscula el resultado es False \n",
    "# porque van primero las mayusculas\n",
    "'manzana'> 'casa'"
   ]
  },
  {
   "cell_type": "markdown",
   "metadata": {},
   "source": [
    "### Ejercicio 1\n",
    "\n",
    "Escribir un programa que seleccione la cadena \"analista\" a partir de la cadena: \"Ana es buena analista de datos.\". Mostrar el resultado por pantalla."
   ]
  },
  {
   "cell_type": "code",
   "execution_count": 12,
   "metadata": {},
   "outputs": [
    {
     "name": "stdout",
     "output_type": "stream",
     "text": [
      "analista\n"
     ]
    }
   ],
   "source": [
    "# Respuesta\n",
    "cadena = 'Ana es buena analista de datos'\n",
    "if 'analista' in cadena:\n",
    "    print('analista')\n",
    "# no estoy seguro de que sea esto lo que se pide\n"
   ]
  },
  {
   "cell_type": "markdown",
   "metadata": {},
   "source": [
    "### Ejercicio 2\n",
    "\n",
    "Qué expresión en Python necesitamos para conseguir el _string_\n",
    "\"nohtyPythonython\" utilizando sólo la palabra \"Python\"? "
   ]
  },
  {
   "cell_type": "code",
   "execution_count": 1,
   "metadata": {},
   "outputs": [],
   "source": [
    "# Respuesta\n",
    "word = 'Python'\n",
    "word_v2 = ''\n",
    "for i in range((len(word)-1),0,-1):\n",
    "    word_v2 += word[i]\n",
    "for i in range(len(word)):\n",
    "    word_v2 += word[i]\n",
    "for i in range(1,len(word)):\n",
    "    word_v2 += word[i]"
   ]
  },
  {
   "cell_type": "code",
   "execution_count": 4,
   "metadata": {},
   "outputs": [
    {
     "name": "stdout",
     "output_type": "stream",
     "text": [
      "nohtyPythonython\n"
     ]
    }
   ],
   "source": [
    "word_v3 = word[::-1]+word[1:]+word[1:]\n",
    "print(word_v3)"
   ]
  },
  {
   "cell_type": "markdown",
   "metadata": {},
   "source": [
    "### Ejercicio 3\n",
    "\n",
    "Escribe un programa que asigne dos valores enteros cualquiera (elije un número entero aleatorio) a dos variables con nombre `a` y `b`. Utiliza las variables definidas anteriormente para evaluar la siguiente expresión matemática:\n",
    "\n",
    "( a<sup>2</sup> + b<sup>2</sup> )<sup>2</sup>\n"
   ]
  },
  {
   "cell_type": "code",
   "execution_count": 18,
   "metadata": {},
   "outputs": [
    {
     "data": {
      "text/plain": [
       "26896"
      ]
     },
     "execution_count": 18,
     "metadata": {},
     "output_type": "execute_result"
    }
   ],
   "source": [
    "# Respuesta\n",
    "\n",
    "def numeros_aleatroios(x=1,y=10):\n",
    "    '''\n",
    "    x e y es el intervalo de numeros entre los que quieres el números aleatorio\n",
    "    '''\n",
    "    import random\n",
    "    a = random.randint(x,y)\n",
    "    return a\n",
    "\n",
    "a = numeros_aleatroios()\n",
    "b = numeros_aleatroios()\n",
    "\n",
    "def expresion_mat (x,y):\n",
    "    return (x**2 + y**2)**2\n",
    "\n",
    "expresion_mat(a,b)\n"
   ]
  },
  {
   "cell_type": "markdown",
   "metadata": {},
   "source": [
    "### Ejercicio 4\n",
    "\n",
    "Escribir un programa que calcule el volumen de una pirámide cuadrangular con una base de 4x5 metros de longitud y anchura respectivamente, y con una altura de 7,5 m. Recuerda que la fórmula para calcular el volumen es <img src=\"https://wikimedia.org/api/rest_v1/media/math/render/svg/5bbc1ec5d10639d395ebc85e74cbf697d2220035\" title=\"EquacioVolumPiramide\" />\n",
    "\n",
    "donde _l_ y _w_ son la longitud y la anchura de la base, y _h_ es la altura."
   ]
  },
  {
   "cell_type": "code",
   "execution_count": 21,
   "metadata": {},
   "outputs": [
    {
     "name": "stdout",
     "output_type": "stream",
     "text": [
      "49.99999999999999\n"
     ]
    }
   ],
   "source": [
    "# Respuesta\n",
    "def vol_piramide(a,b,c):\n",
    "    '''\n",
    "    La funnción calcula el volumen de una piramide de dimensiones a,b,c siendo\n",
    "    a * b las medias de la base y c la altura\n",
    "    '''\n",
    "    return ((1/3)*a*b*c)\n",
    "\n",
    "vol_piramide_eje_4 = vol_piramide(4,5,7.5)\n",
    "print(vol_piramide_eje_4)"
   ]
  },
  {
   "cell_type": "markdown",
   "metadata": {},
   "source": [
    "### Ejercicio 5\n",
    "\n",
    "Escribe un programa que defina una lista con el nombre de todos los meses del año. Haz que muestre los meses que corresponden a otoño."
   ]
  },
  {
   "cell_type": "code",
   "execution_count": 29,
   "metadata": {},
   "outputs": [
    {
     "name": "stdout",
     "output_type": "stream",
     "text": [
      "('Septiembre', 'Octubre', 'Noviembre')\n"
     ]
    }
   ],
   "source": [
    "# Respuesta\n",
    "def meses_anho (est):\n",
    "    meses = ['Enero','Febrero','Marzo','Abril','Mayo','Junio','Julio','Agosto','Septiembre','Octubre','Noviembre','Diciembre']\n",
    "    if est == 'Otoño':\n",
    "        return (meses[-4],meses[-3],meses[-2])\n",
    "    elif est == 'Primavera':\n",
    "        return (meses[2],meses[3],meses[4])\n",
    "    elif est == 'invierno':\n",
    "        return (meses[-1],meses[0],meses[1])\n",
    "    else:\n",
    "        return (meses[5],meses[6],meses[7])\n",
    "\n",
    "meses_otonho = meses_anho('Otoño')\n",
    "print(meses_otonho)"
   ]
  },
  {
   "cell_type": "markdown",
   "metadata": {},
   "source": [
    "### Ejercicio 6\n",
    "\n",
    "Escribe un programa que a partir de la lista de números dada muestre por pantalla una cadena de caracteres con todos los números, separados entre sí por un guión, y duplicando el primero y el último elemento de la lista.\n",
    "\n",
    "Así, por ejemplo, para la lista ['1', '2', '3'] , el programa debería mostrar la cadena: '1-1-2-3-3'.\n"
   ]
  },
  {
   "cell_type": "code",
   "execution_count": 7,
   "metadata": {},
   "outputs": [],
   "source": [
    "# Respuesta\n",
    "def cad_caracteres(lista):\n",
    "    '''\n",
    "    Introduce una lista de números\n",
    "    '''\n",
    "    cadena = ''\n",
    "    for i in range(len(lista)):\n",
    "        if i == 0:\n",
    "            cadena = cadena + str(lista[i]) + '-' + str(lista[i]) + '-'\n",
    "        elif i == (len(lista)-1):\n",
    "            cadena = cadena + str(lista[i]) + '-' + str(lista[i])\n",
    "        else:\n",
    "            cadena = cadena + str(lista[i]) + '-'\n",
    "    print(cadena)\n",
    "            "
   ]
  },
  {
   "cell_type": "markdown",
   "metadata": {},
   "source": [
    "### Ejercicio 7\n",
    "\n",
    "Ordena la siguiente lista de cadenas de caracteres:\n",
    "\n",
    "1. Invirtiendo el orden original\n",
    "2. En orden alfabético inverso\n",
    "\n",
    "**Nota**: Puedes consultar la documentación oficial de la función [`sorted ()`](https://docs.python.org/3/library/functions.html#sorted) para ver qué parámetros puedes utilizar para resolver la segunda parte de la actividad.\n"
   ]
  },
  {
   "cell_type": "code",
   "execution_count": 16,
   "metadata": {},
   "outputs": [
    {
     "name": "stdout",
     "output_type": "stream",
     "text": [
      "['Jadzia Dax', 'Quark', 'Odo', 'Kira Nerys', 'Benjamin Sisko']\n",
      "['Quark', 'Odo', 'Kira Nerys', 'Jadzia Dax', 'Benjamin Sisko']\n"
     ]
    }
   ],
   "source": [
    "st_chars = [\"Benjamin Sisko\", \"Kira Nerys\", \"Odo\", \"Quark\", \"Jadzia Dax\"]\n",
    "st_chars_inv = st_chars[::-1]\n",
    "print(st_chars_inv)\n",
    "st_chars_alf_inv = sorted(st_chars,reverse = True)\n",
    "print(st_chars_alf_inv)"
   ]
  },
  {
   "cell_type": "markdown",
   "metadata": {},
   "source": [
    "### Ejercicio 8\n",
    "\n",
    "A partir de la siguiente lista,\n",
    "\n",
    "```A_list = [42, 7.5, \"Answer to the Ultimate Question\", \"Dave\", 7.5]```\n",
    "\n",
    "proporciona expresiones que retornen:\n",
    "\n",
    "1. El número de veces que aparece el elemento `7.5` en la lista.\n",
    "2. La posición de la primera aparición del valor `7.5`.\n",
    "3. La misma lista sin el último elemento.\n",
    "\n",
    "**Nota**: En el notebook de teoría hemos visto que son las listas y algunas operaciones sobre ellas. Para hacer la actividad, necesitaréis investigar algunas operaciones adicionales que podemos realizar sobre listas. Para ello podéis consultar la documentación oficial de Python sobre listas ([intro](https://docs.python.org/3/tutorial/introduction.html#lists) y [más sobre listas](https://docs.python.org/3/tutorial/datastructures.html#more-on-lists))."
   ]
  },
  {
   "cell_type": "code",
   "execution_count": 1,
   "metadata": {},
   "outputs": [
    {
     "name": "stdout",
     "output_type": "stream",
     "text": [
      "2\n",
      "1\n",
      "[42, 7.5, 'Answer to the Ultimate Question', 'Dave']\n"
     ]
    }
   ],
   "source": [
    "# Respuesta\n",
    "A_list = [42, 7.5, \"Answer to the Ultimate Question\", \"Dave\", 7.5]\n",
    "num = A_list.count(7.5)\n",
    "print(num)\n",
    "posicion = A_list.index(7.5)\n",
    "print(posicion)\n",
    "B_list = A_list[:-1]\n",
    "print(B_list)"
   ]
  },
  {
   "cell_type": "markdown",
   "metadata": {},
   "source": [
    "### Ejercicio 9\n",
    "\n",
    "¿Qué expresión en Python necesitamos para conseguir la _string_ `Learning Python` utilizando sólo las variables` str1` y `str2` definidas?"
   ]
  },
  {
   "cell_type": "code",
   "execution_count": 4,
   "metadata": {},
   "outputs": [
    {
     "name": "stdout",
     "output_type": "stream",
     "text": [
      "Learning Python\n"
     ]
    }
   ],
   "source": [
    "# Respuesta\n",
    "str1 = 'Learning'\n",
    "str2 = 'Python'\n",
    "str3= str1+' '+str2\n",
    "print(str3)"
   ]
  },
  {
   "cell_type": "markdown",
   "metadata": {},
   "source": [
    "### Ejercicio 10\n",
    "\n",
    "El codigo que se presenta a continuación no funciona: \n",
    "\n",
    "Corrige el error y explica por qué sucede."
   ]
  },
  {
   "cell_type": "code",
   "execution_count": 31,
   "metadata": {},
   "outputs": [
    {
     "name": "stdout",
     "output_type": "stream",
     "text": [
      "Hello, my name is Alex and I'm 20 years old!\n"
     ]
    }
   ],
   "source": [
    "name = 'Alex'\n",
    "\n",
    "age = 20\n",
    "\n",
    "print(\"Hello, my name is %s and I'm %d years old!\" % (name, age))\n",
    "# El simbolo %d sustituye a numeros no a string por lo que al intentar \n",
    "# sustituirlo por un string da error, para solucionarlo hay que poner %s \n",
    "# en el lugar en el que vayamos a colocar un str"
   ]
  },
  {
   "cell_type": "markdown",
   "metadata": {},
   "source": [
    "### Ejercicio 11\n",
    "\n",
    "En este ejercicio utilizaremos la frase: La paciencia es la madre de la ciencia.\n",
    "\n",
    "a) Extrae las palabras paciencia y ciencia de la cadena de strings definida anteriormente.\n",
    "\n",
    "b) Crea la palabra ciencia a partir de paciencia, y la palabra paciencia a partir de ciencia.\n",
    "\n",
    "c) Separa la frase en las diferentes palabras que la forman (e.g. \"La\", \"paciencia,\" es \", etc). ¿Cuál es el separador que debemos usar?\n",
    "\n",
    "d) Vuelve a unir los elementos de la frase mediante \"-\" (e.g. \"La-paciencia-es ...\").\n"
   ]
  },
  {
   "cell_type": "code",
   "execution_count": 13,
   "metadata": {},
   "outputs": [
    {
     "name": "stdout",
     "output_type": "stream",
     "text": [
      "['La', 'paciencia', 'es', 'la', 'madre', 'de', 'la', 'ciencia']\n",
      "La-paciencia-es-la-madre-de-la-ciencia\n",
      "ciencia\n",
      "paciencia\n"
     ]
    }
   ],
   "source": [
    "# Respuesta\n",
    "frase = 'La paciencia es la madre de la ciencia'\n",
    "if 'paciencia' in frase:\n",
    "    word_1 = 'paciencia'\n",
    "if 'ciencia' in frase:\n",
    "    word_2 = 'ciencia'\n",
    "word_1_2 = word_1[2:]\n",
    "word_2_1 = 'pa' + word_2\n",
    "lista_frase = frase.split() \n",
    "# El separador sería el espacio, pero si no pones nada también lo hace\n",
    "#correctamente, ¿por defecto separa por el espacio?\n",
    "print(lista_frase)\n",
    "lista_frase_2 = ''\n",
    "for i in range(len(lista_frase)):\n",
    "    if i == 0:\n",
    "        lista_frase_2 += lista_frase[i]\n",
    "    else:\n",
    "        lista_frase_2 += '-' + lista_frase[i]\n",
    "print(lista_frase_2)\n",
    "print(word_1_2)\n",
    "print(word_2_1)"
   ]
  }
 ],
 "metadata": {
  "interpreter": {
   "hash": "3a457f06cda4579c7033761bf4e886c4764e74b759b9220f07c03aa5d4880471"
  },
  "kernelspec": {
   "display_name": "Python 3.9.5 ('data_science_py395')",
   "language": "python",
   "name": "python3"
  },
  "language_info": {
   "codemirror_mode": {
    "name": "ipython",
    "version": 3
   },
   "file_extension": ".py",
   "mimetype": "text/x-python",
   "name": "python",
   "nbconvert_exporter": "python",
   "pygments_lexer": "ipython3",
   "version": "3.9.5"
  },
  "orig_nbformat": 4
 },
 "nbformat": 4,
 "nbformat_minor": 2
}
