{
 "cells": [
  {
   "cell_type": "markdown",
   "metadata": {},
   "source": [
    "* 1. Calculad la suma de los primeros 100 números pares."
   ]
  },
  {
   "cell_type": "code",
   "execution_count": null,
   "metadata": {},
   "outputs": [],
   "source": [
    "# Opción 1: utilizando una list comprehension que filtra los\n",
    "# valores pares (i % 2 == 0) y sumando los elementos de la lista con sum:\n",
    "suma = sum([i for i in range(200) if i % 2 == 0])\n",
    "print(suma)"
   ]
  },
  {
   "cell_type": "code",
   "execution_count": null,
   "metadata": {},
   "outputs": [],
   "source": [
    "# Opción 2: creando un bucle for con un if dentro, por lo que solo sumamos\n",
    "# los valores pares (i % 2 == 0)\n",
    "suma = 0\n",
    "for i in range(200):\n",
    "    if i % 2 == 0:\n",
    "        suma = suma + i\n",
    "print(suma)"
   ]
  },
  {
   "cell_type": "markdown",
   "metadata": {},
   "source": [
    "* 2. La [secuencia de Fibonacci](https://es.wikipedia.org/wiki/Sucesi%C3%B3n_de_Fibonacci) es una secuencia en la que cada término es la suma de los dos términos anteriores (la secuencia comienza con los valores 1 y 1). Calculad la suma de los 50 primeros valores de la secuencia."
   ]
  },
  {
   "cell_type": "code",
   "execution_count": 2,
   "metadata": {},
   "outputs": [
    {
     "name": "stdout",
     "output_type": "stream",
     "text": [
      "[1, 1, 2, 3, 5, 8, 13, 21, 34, 55, 89, 144, 233, 377, 610, 987, 1597, 2584, 4181, 6765, 10946, 17711, 28657, 46368, 75025, 121393, 196418, 317811, 514229, 832040, 1346269, 2178309, 3524578, 5702887, 9227465, 14930352, 24157817, 39088169, 63245986, 102334155, 165580141, 267914296, 433494437, 701408733, 1134903170, 1836311903, 2971215073, 4807526976, 7778742049, 12586269025]\n",
      "32951280098\n"
     ]
    }
   ],
   "source": [
    "# Respuesta\n",
    "# Creamos una lista con los 50 primeros valores\n",
    "fib = [1, 1]\n",
    "for i in range(48):\n",
    "    fib.append(fib[-1] + fib[-2])\n",
    "print(fib)\n",
    "\n",
    "# Sumamos los valores de la secuencia\n",
    "suma = sum(fib)\n",
    "print(suma)"
   ]
  },
  {
   "cell_type": "code",
   "execution_count": 3,
   "metadata": {},
   "outputs": [
    {
     "name": "stdout",
     "output_type": "stream",
     "text": [
      "32951280098\n"
     ]
    }
   ],
   "source": [
    "# Opción 2: sin crear una lista con los valores de la secuencia\n",
    "\n",
    "suma = 2\n",
    "# Guardamos los dos últimos valores de la secuencia en las variables l1 y l2\n",
    "l1, l2 = 1, 1\n",
    "for i in range(48):\n",
    "    n = l1 + l2\n",
    "    suma += n\n",
    "    l2 = l1\n",
    "    l1 = n\n",
    "\n",
    "print(suma)"
   ]
  },
  {
   "cell_type": "markdown",
   "metadata": {},
   "source": [
    "* 3. Se dice que un número es primo si solo es divisible por sí mismo y por 1. Generad una lista con los 100 primeros números primos."
   ]
  },
  {
   "cell_type": "code",
   "execution_count": 4,
   "metadata": {},
   "outputs": [
    {
     "name": "stdout",
     "output_type": "stream",
     "text": [
      "[2, 3, 5, 7, 11, 13, 17, 19, 23, 29, 31, 37, 41, 43, 47, 53, 59, 61, 67, 71, 73, 79, 83, 89, 97, 101, 103, 107, 109, 113, 127, 131, 137, 139, 149, 151, 157, 163, 167, 173, 179, 181, 191, 193, 197, 199, 211, 223, 227, 229, 233, 239, 241, 251, 257, 263, 269, 271, 277, 281, 283, 293, 307, 311, 313, 317, 331, 337, 347, 349, 353, 359, 367, 373, 379, 383, 389, 397, 401, 409, 419, 421, 431, 433, 439, 443, 449, 457, 461, 463, 467, 479, 487, 491, 499, 503, 509, 521, 523, 541]\n"
     ]
    }
   ],
   "source": [
    "# Respuesta\n",
    "\n",
    "primes = [2]\n",
    "i = 3\n",
    "while len(primes) != 100:\n",
    "    is_prime = True\n",
    "\n",
    "    # Si i es divisible por cualquiera de los primos que ya hemos identificado,\n",
    "    # entonces i no es primo\n",
    "    for p in primes:\n",
    "        if i % p == 0:\n",
    "            is_prime = False\n",
    "            break\n",
    "    # Si i es primo, lo añadimos a la lista de primos\n",
    "    if is_prime:\n",
    "        primes.append(i)\n",
    "    i += 2\n",
    "\n",
    "print(primes)"
   ]
  },
  {
   "cell_type": "code",
   "execution_count": null,
   "metadata": {},
   "outputs": [],
   "source": [
    "# Sol Carla\n",
    "\n",
    "primos=[]\n",
    "i=1\n",
    "while(len(primos)<100):\n",
    "    i+=1\n",
    "    noprimo=0\n",
    "    for primo in primos:\n",
    "        if i%primo==0:\n",
    "            noprimo=1\n",
    "            break\n",
    "    if (noprimo!=1):\n",
    "        primos.append(i)"
   ]
  },
  {
   "cell_type": "code",
   "execution_count": null,
   "metadata": {},
   "outputs": [],
   "source": [
    "# Sol Carlos\n",
    "\n",
    "def es_primo(n):\n",
    "    for i in range(2, n):\n",
    "        if n % i == 0:\n",
    "            return False\n",
    "    return True\n",
    "lista_primo = [i for i in range(1000) if es_primo(i)]\n",
    "lista_primo = lista_primo[:100]\n",
    "print(lista_primo)\n",
    "len(lista_primo)"
   ]
  },
  {
   "cell_type": "markdown",
   "metadata": {},
   "source": [
    "* 4. Calculad la suma de los cuadrados de los números naturales entre 100 y 200 (ambos valores incluidos)."
   ]
  },
  {
   "cell_type": "code",
   "execution_count": 5,
   "metadata": {},
   "outputs": [
    {
     "data": {
      "text/plain": [
       "2358350"
      ]
     },
     "execution_count": 5,
     "metadata": {},
     "output_type": "execute_result"
    }
   ],
   "source": [
    "# Respuesta\n",
    "# Usamos sum sobre una list comprehension que nos genera los valores\n",
    "# de los cuadrados solicitados\n",
    "sum([x**2 for x in range(100, 201)])"
   ]
  },
  {
   "cell_type": "markdown",
   "metadata": {},
   "source": [
    "* 5. Generad todos los números de 3 dígitos que se pueden generar con los dígitos 3, 5 y 7."
   ]
  },
  {
   "cell_type": "code",
   "execution_count": 5,
   "metadata": {},
   "outputs": [
    {
     "name": "stdout",
     "output_type": "stream",
     "text": [
      "['333', '335', '337', '353', '355', '357', '373', '375', '377', '533', '535', '537', '553', '555', '557', '573', '575', '577', '733', '735', '737', '753', '755', '757', '773', '775', '777']\n"
     ]
    },
    {
     "data": {
      "text/plain": [
       "27"
      ]
     },
     "execution_count": 5,
     "metadata": {},
     "output_type": "execute_result"
    }
   ],
   "source": [
    "# Respuesta\n",
    "lista_numeros = ['3','5','7']\n",
    "combin_numeros = [l1+l2+l3 for l1 in lista_numeros for l2 in lista_numeros for l3 in lista_numeros]\n",
    "print(combin_numeros)\n",
    "len(combin_numeros)"
   ]
  },
  {
   "cell_type": "code",
   "execution_count": 4,
   "metadata": {},
   "outputs": [
    {
     "name": "stdout",
     "output_type": "stream",
     "text": [
      "[333, 335, 337, 353, 355, 357, 373, 375, 377, 533, 535, 537, 553, 555, 557, 573, 575, 577, 733, 735, 737, 753, 755, 757, 773, 775, 777]\n"
     ]
    },
    {
     "data": {
      "text/plain": [
       "27"
      ]
     },
     "execution_count": 4,
     "metadata": {},
     "output_type": "execute_result"
    }
   ],
   "source": [
    "lista_numeros_v2 = [3,5,7]\n",
    "combin_numeros_v2 = [int(str(l1)+str(l2)+str(l3)) for l1 in lista_numeros_v2 for l2 in lista_numeros_v2 for l3 in lista_numeros_v2]\n",
    "print(combin_numeros_v2)\n",
    "len(combin_numeros_v2)"
   ]
  },
  {
   "cell_type": "markdown",
   "metadata": {},
   "source": [
    "* 6. Contad y almacenad el número de veces que aparece cada palabra en el siguiente texto.\n",
    "Forty-two is a pronic number and an abundante number; its prime factorization 2 · 3 · 7 makes it the second sphenic number and also the second of the form (2 · 3 · r)."
   ]
  },
  {
   "cell_type": "code",
   "execution_count": 1,
   "metadata": {},
   "outputs": [
    {
     "name": "stdout",
     "output_type": "stream",
     "text": [
      "['Forty-two', 'is', 'a', 'pronic', 'number', 'and', 'an', 'abundante', 'number;', 'its', 'prime', 'factorization', '2', '·', '3', '·', '7', 'makes', 'it', 'the', 'second', 'sphenic', 'number', 'and', 'also', 'the', 'second', 'of', 'the', 'form', '(2', '·', '3', '·', 'r).']\n",
      "La palabra \"number\" aparece 2 veces\n",
      "La palabra \"the\" aparece 3 veces\n",
      "La palabra \"is\" aparece 1 veces\n",
      "La palabra \"and\" aparece 2 veces\n",
      "La palabra \"prime\" aparece 1 veces\n",
      "La palabra \"3\" aparece 2 veces\n",
      "La palabra \"it\" aparece 1 veces\n",
      "La palabra \"7\" aparece 1 veces\n",
      "La palabra \"sphenic\" aparece 1 veces\n",
      "La palabra \"·\" aparece 4 veces\n",
      "La palabra \"an\" aparece 1 veces\n",
      "La palabra \"factorization\" aparece 1 veces\n",
      "La palabra \"its\" aparece 1 veces\n",
      "La palabra \"form\" aparece 1 veces\n",
      "La palabra \"(2\" aparece 1 veces\n",
      "La palabra \"pronic\" aparece 1 veces\n",
      "La palabra \"a\" aparece 1 veces\n",
      "La palabra \"of\" aparece 1 veces\n",
      "La palabra \"abundante\" aparece 1 veces\n",
      "La palabra \"makes\" aparece 1 veces\n",
      "La palabra \"number;\" aparece 1 veces\n",
      "La palabra \"also\" aparece 1 veces\n",
      "La palabra \"Forty-two\" aparece 1 veces\n",
      "La palabra \"r).\" aparece 1 veces\n",
      "La palabra \"2\" aparece 1 veces\n",
      "La palabra \"second\" aparece 2 veces\n"
     ]
    },
    {
     "data": {
      "text/plain": [
       "[None,\n",
       " None,\n",
       " None,\n",
       " None,\n",
       " None,\n",
       " None,\n",
       " None,\n",
       " None,\n",
       " None,\n",
       " None,\n",
       " None,\n",
       " None,\n",
       " None,\n",
       " None,\n",
       " None,\n",
       " None,\n",
       " None,\n",
       " None,\n",
       " None,\n",
       " None,\n",
       " None,\n",
       " None,\n",
       " None,\n",
       " None,\n",
       " None,\n",
       " None]"
      ]
     },
     "execution_count": 1,
     "metadata": {},
     "output_type": "execute_result"
    }
   ],
   "source": [
    "# Respuesta\n",
    "texto = 'Forty-two is a pronic number and an abundante number; its prime factorization 2 · 3 · 7 makes it the second sphenic number and also the second of the form (2 · 3 · r).'\n",
    "lista_texto = (texto.split())\n",
    "len(lista_texto)\n",
    "print(lista_texto)\n",
    "numb_word = [(lista_texto[idx],lista_texto.count(tx)) for idx,tx in enumerate(lista_texto)]#\n",
    "#creo una lista de tuples donde lso elementos de la tupla son la palabra y el numero de veces que aparece esa palabra en el texto\n",
    "numb_word_list = list(set(numb_word)) #elimino los elementos repetidos de la lista anterior y lo almaceno en otra lista\n",
    "# print(len(numb_word_list))\n",
    "# print(len(numb_word))\n",
    "[print(f'La palabra \"{numb_word_list[i][0]}\" aparece {numb_word_list[i][1]} veces') for i in range(len(numb_word_list))]"
   ]
  },
  {
   "cell_type": "markdown",
   "metadata": {},
   "source": [
    "* 7. Generad todas las posibles subcadenas de 3 letras de la siguiente palabra: 'Electrodinamómetro'."
   ]
  },
  {
   "cell_type": "code",
   "execution_count": 11,
   "metadata": {},
   "outputs": [
    {
     "name": "stdout",
     "output_type": "stream",
     "text": [
      "['Ele', 'lec', 'ect', 'ctr', 'tro', 'rod', 'odi', 'din', 'ina', 'nam', 'amó', 'móm', 'óme', 'met', 'etr', 'tri', 'ric', 'ico']\n"
     ]
    }
   ],
   "source": [
    "# Respuesta\n",
    "def subcadena(a,b=1):\n",
    "    list_subcadenas = [] #lista de todas las subcadenas\n",
    "    for i in range(len(a)):\n",
    "        if i >= len(a)-(b-1):\n",
    "            break\n",
    "        else:\n",
    "            list_subcadenas.append('')\n",
    "            for j in range(b):\n",
    "                list_subcadenas[i] += a[i+j]\n",
    "    return list_subcadenas\n",
    "\n",
    "sub_cad = subcadena('Electrodinamómetrico',3)\n",
    "print(sub_cad)\n",
    "\n",
    "    \n"
   ]
  },
  {
   "cell_type": "markdown",
   "metadata": {},
   "source": [
    "* 8. Cread una función que devuelva todas las posibles subcadenas de n letras de una palabra cualquiera. La función recibirá como parámetros el número de letras n y la palabra word, y devolverá una lista con las subcadenas."
   ]
  },
  {
   "cell_type": "code",
   "execution_count": null,
   "metadata": {},
   "outputs": [],
   "source": [
    "# Respuesta\n",
    "def subcadena(a,b=1):\n",
    "    list_subcadenas = [] #lista de todas las subcadenas\n",
    "    for i in range(len(a)):\n",
    "        if i >= len(a)-(b-1):\n",
    "            break\n",
    "        else:\n",
    "            list_subcadenas.append('')\n",
    "            for j in range(b):\n",
    "                list_subcadenas[i] += a[i+j]\n",
    "    return list_subcadenas\n",
    "\n",
    "sub_cad = subcadena('Electrodinamómetrico',3)\n",
    "print(sub_cad)"
   ]
  }
 ],
 "metadata": {
  "interpreter": {
   "hash": "3a457f06cda4579c7033761bf4e886c4764e74b759b9220f07c03aa5d4880471"
  },
  "kernelspec": {
   "display_name": "Python 3.9.5 ('data_science_py395')",
   "language": "python",
   "name": "python3"
  },
  "language_info": {
   "codemirror_mode": {
    "name": "ipython",
    "version": 3
   },
   "file_extension": ".py",
   "mimetype": "text/x-python",
   "name": "python",
   "nbconvert_exporter": "python",
   "pygments_lexer": "ipython3",
   "version": "3.9.5"
  },
  "orig_nbformat": 4
 },
 "nbformat": 4,
 "nbformat_minor": 2
}
