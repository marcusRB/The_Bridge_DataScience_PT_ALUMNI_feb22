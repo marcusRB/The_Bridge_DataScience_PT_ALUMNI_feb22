{
 "cells": [
  {
   "cell_type": "markdown",
   "metadata": {},
   "source": [
    "# Funciones"
   ]
  },
  {
   "cell_type": "code",
   "execution_count": 10,
   "metadata": {},
   "outputs": [],
   "source": [
    "# definir funcion para sumar dos valores\n",
    "def suma_valores(par1, par2):\n",
    "    '''\n",
    "    doc string\n",
    "    Args:\n",
    "    ----\n",
    "        par1: value arg pos\n",
    "        par2: value arg pos\n",
    "    \n",
    "    Return:\n",
    "    ------\n",
    "        suma de dos valores\n",
    "    '''\n",
    "    try:\n",
    "        return par1 + par2\n",
    "    except Exception as e:\n",
    "        print(e)\n",
    "    finally:\n",
    "        pass"
   ]
  },
  {
   "cell_type": "code",
   "execution_count": 2,
   "metadata": {},
   "outputs": [
    {
     "data": {
      "text/plain": [
       "11"
      ]
     },
     "execution_count": 2,
     "metadata": {},
     "output_type": "execute_result"
    }
   ],
   "source": [
    "sumaAB = suma_valores(5,6)\n",
    "sumaAB"
   ]
  },
  {
   "cell_type": "code",
   "execution_count": 5,
   "metadata": {},
   "outputs": [
    {
     "data": {
      "text/plain": [
       "'AB'"
      ]
     },
     "execution_count": 5,
     "metadata": {},
     "output_type": "execute_result"
    }
   ],
   "source": [
    "suma_valores(\"A\",\"B\")"
   ]
  },
  {
   "cell_type": "code",
   "execution_count": 6,
   "metadata": {},
   "outputs": [
    {
     "data": {
      "text/plain": [
       "1"
      ]
     },
     "execution_count": 6,
     "metadata": {},
     "output_type": "execute_result"
    }
   ],
   "source": [
    "suma_valores(True,False)"
   ]
  },
  {
   "cell_type": "code",
   "execution_count": 3,
   "metadata": {},
   "outputs": [
    {
     "data": {
      "text/plain": [
       "11"
      ]
     },
     "execution_count": 3,
     "metadata": {},
     "output_type": "execute_result"
    }
   ],
   "source": [
    "suma_valores(5,6)"
   ]
  },
  {
   "cell_type": "code",
   "execution_count": 11,
   "metadata": {},
   "outputs": [
    {
     "ename": "TypeError",
     "evalue": "suma_valores() missing 2 required positional arguments: 'par1' and 'par2'",
     "output_type": "error",
     "traceback": [
      "\u001b[1;31m---------------------------------------------------------------------------\u001b[0m",
      "\u001b[1;31mTypeError\u001b[0m                                 Traceback (most recent call last)",
      "\u001b[1;32mc:\\Users\\mrusso\\THE_BRIDGE_FEB22_local\\02_PYTHON\\week07\\uso_funciones.avanzado.ipynb Cell 7'\u001b[0m in \u001b[0;36m<module>\u001b[1;34m\u001b[0m\n\u001b[1;32m----> <a href='vscode-notebook-cell:/c%3A/Users/mrusso/THE_BRIDGE_FEB22_local/02_PYTHON/week07/uso_funciones.avanzado.ipynb#ch0000007?line=0'>1</a>\u001b[0m suma_valores()\n",
      "\u001b[1;31mTypeError\u001b[0m: suma_valores() missing 2 required positional arguments: 'par1' and 'par2'"
     ]
    }
   ],
   "source": [
    "suma_valores()"
   ]
  },
  {
   "cell_type": "code",
   "execution_count": 18,
   "metadata": {},
   "outputs": [],
   "source": [
    "# definir funcion para sumar dos valores\n",
    "def suma_valores(par1, arg=0):\n",
    "    '''\n",
    "    doc string\n",
    "    Args:\n",
    "    ----\n",
    "        par1: value arg pos\n",
    "        arg: default None value arg opcional\n",
    "    \n",
    "    Return:\n",
    "    ------\n",
    "        suma de dos valores\n",
    "    '''\n",
    "    return par1 + arg\n"
   ]
  },
  {
   "cell_type": "code",
   "execution_count": 19,
   "metadata": {},
   "outputs": [
    {
     "ename": "TypeError",
     "evalue": "can only concatenate str (not \"int\") to str",
     "output_type": "error",
     "traceback": [
      "\u001b[1;31m---------------------------------------------------------------------------\u001b[0m",
      "\u001b[1;31mTypeError\u001b[0m                                 Traceback (most recent call last)",
      "\u001b[1;32mc:\\Users\\mrusso\\THE_BRIDGE_FEB22_local\\02_PYTHON\\week07\\uso_funciones.avanzado.ipynb Cell 9'\u001b[0m in \u001b[0;36m<module>\u001b[1;34m\u001b[0m\n\u001b[1;32m----> <a href='vscode-notebook-cell:/c%3A/Users/mrusso/THE_BRIDGE_FEB22_local/02_PYTHON/week07/uso_funciones.avanzado.ipynb#ch0000009?line=0'>1</a>\u001b[0m suma_valores(\u001b[39m\"\u001b[39;49m\u001b[39mA\u001b[39;49m\u001b[39m\"\u001b[39;49m)\n",
      "\u001b[1;32mc:\\Users\\mrusso\\THE_BRIDGE_FEB22_local\\02_PYTHON\\week07\\uso_funciones.avanzado.ipynb Cell 8'\u001b[0m in \u001b[0;36msuma_valores\u001b[1;34m(par1, arg)\u001b[0m\n\u001b[0;32m      <a href='vscode-notebook-cell:/c%3A/Users/mrusso/THE_BRIDGE_FEB22_local/02_PYTHON/week07/uso_funciones.avanzado.ipynb#ch0000008?line=1'>2</a>\u001b[0m \u001b[39mdef\u001b[39;00m \u001b[39msuma_valores\u001b[39m(par1, arg\u001b[39m=\u001b[39m\u001b[39m0\u001b[39m):\n\u001b[0;32m      <a href='vscode-notebook-cell:/c%3A/Users/mrusso/THE_BRIDGE_FEB22_local/02_PYTHON/week07/uso_funciones.avanzado.ipynb#ch0000008?line=2'>3</a>\u001b[0m     \u001b[39m'''\u001b[39;00m\n\u001b[0;32m      <a href='vscode-notebook-cell:/c%3A/Users/mrusso/THE_BRIDGE_FEB22_local/02_PYTHON/week07/uso_funciones.avanzado.ipynb#ch0000008?line=3'>4</a>\u001b[0m \u001b[39m    doc string\u001b[39;00m\n\u001b[0;32m      <a href='vscode-notebook-cell:/c%3A/Users/mrusso/THE_BRIDGE_FEB22_local/02_PYTHON/week07/uso_funciones.avanzado.ipynb#ch0000008?line=4'>5</a>\u001b[0m \u001b[39m    Args:\u001b[39;00m\n\u001b[1;32m   (...)\u001b[0m\n\u001b[0;32m     <a href='vscode-notebook-cell:/c%3A/Users/mrusso/THE_BRIDGE_FEB22_local/02_PYTHON/week07/uso_funciones.avanzado.ipynb#ch0000008?line=11'>12</a>\u001b[0m \u001b[39m        suma de dos valores\u001b[39;00m\n\u001b[0;32m     <a href='vscode-notebook-cell:/c%3A/Users/mrusso/THE_BRIDGE_FEB22_local/02_PYTHON/week07/uso_funciones.avanzado.ipynb#ch0000008?line=12'>13</a>\u001b[0m \u001b[39m    '''\u001b[39;00m\n\u001b[1;32m---> <a href='vscode-notebook-cell:/c%3A/Users/mrusso/THE_BRIDGE_FEB22_local/02_PYTHON/week07/uso_funciones.avanzado.ipynb#ch0000008?line=13'>14</a>\u001b[0m     \u001b[39mreturn\u001b[39;00m par1 \u001b[39m+\u001b[39;49m arg\n",
      "\u001b[1;31mTypeError\u001b[0m: can only concatenate str (not \"int\") to str"
     ]
    }
   ],
   "source": [
    "suma_valores(\"A\")"
   ]
  },
  {
   "cell_type": "code",
   "execution_count": 20,
   "metadata": {},
   "outputs": [],
   "source": [
    "# Definimos una variable global\n",
    "global_var = \"This is a global variable\"\n",
    "\n",
    "def fun_1():\n",
    "    # Definimos una variable local dentro de fun_1\n",
    "    local_var_1 = \"local_var_1 is local to fun_1\"\n",
    "    # Mostramos el valor de la variable global y de la local\n",
    "    print(global_var)\n",
    "    print(local_var_1)"
   ]
  },
  {
   "cell_type": "code",
   "execution_count": 21,
   "metadata": {},
   "outputs": [
    {
     "name": "stdout",
     "output_type": "stream",
     "text": [
      "This is a global variable\n",
      "local_var_1 is local to fun_1\n"
     ]
    }
   ],
   "source": [
    "fun_1()"
   ]
  },
  {
   "cell_type": "code",
   "execution_count": 22,
   "metadata": {},
   "outputs": [
    {
     "data": {
      "text/plain": [
       "'This is a global variable'"
      ]
     },
     "execution_count": 22,
     "metadata": {},
     "output_type": "execute_result"
    }
   ],
   "source": [
    "global_var"
   ]
  },
  {
   "cell_type": "code",
   "execution_count": 23,
   "metadata": {},
   "outputs": [
    {
     "ename": "NameError",
     "evalue": "name 'local_var_1' is not defined",
     "output_type": "error",
     "traceback": [
      "\u001b[1;31m---------------------------------------------------------------------------\u001b[0m",
      "\u001b[1;31mNameError\u001b[0m                                 Traceback (most recent call last)",
      "\u001b[1;32mc:\\Users\\mrusso\\THE_BRIDGE_FEB22_local\\02_PYTHON\\week07\\uso_funciones.avanzado.ipynb Cell 13'\u001b[0m in \u001b[0;36m<module>\u001b[1;34m\u001b[0m\n\u001b[1;32m----> <a href='vscode-notebook-cell:/c%3A/Users/mrusso/THE_BRIDGE_FEB22_local/02_PYTHON/week07/uso_funciones.avanzado.ipynb#ch0000013?line=0'>1</a>\u001b[0m local_var_1\n",
      "\u001b[1;31mNameError\u001b[0m: name 'local_var_1' is not defined"
     ]
    }
   ],
   "source": [
    "local_var_1"
   ]
  },
  {
   "cell_type": "code",
   "execution_count": null,
   "metadata": {},
   "outputs": [],
   "source": [
    "def fun_2():\n",
    "    # Mostramos la variable global\n",
    "    print(global_var)\n",
    "    # Intentamos acceder a la variable local local_var_1,\n",
    "    # lo que generará un error ya que no está definida\n",
    "    # dentro de la función fun_2\n",
    "    print(local_var_1)"
   ]
  },
  {
   "cell_type": "code",
   "execution_count": 29,
   "metadata": {},
   "outputs": [],
   "source": [
    "def fun_3():\n",
    "    # Asignamos la variable global_var\n",
    "    global_var = \"Now this is a local var!\"\n",
    "    # Mostramos el valor de global_var\n",
    "    print(global_var)"
   ]
  },
  {
   "cell_type": "code",
   "execution_count": 30,
   "metadata": {},
   "outputs": [
    {
     "name": "stdout",
     "output_type": "stream",
     "text": [
      "Now this is a local var!\n"
     ]
    }
   ],
   "source": [
    "fun_3()"
   ]
  },
  {
   "cell_type": "code",
   "execution_count": 31,
   "metadata": {},
   "outputs": [
    {
     "data": {
      "text/plain": [
       "'This is a global variable'"
      ]
     },
     "execution_count": 31,
     "metadata": {},
     "output_type": "execute_result"
    }
   ],
   "source": [
    "global_var"
   ]
  },
  {
   "cell_type": "code",
   "execution_count": 32,
   "metadata": {},
   "outputs": [],
   "source": [
    "def fun_4():\n",
    "    # Identificamos la variable global_var como global\n",
    "    global global_var\n",
    "    # Asignamos un nuevo valor a la variable global global_var\n",
    "    global_var = \"Changing the value of the global var\"\n",
    "    # Mostramos el valor de global_var\n",
    "    print(global_var)"
   ]
  },
  {
   "cell_type": "code",
   "execution_count": 33,
   "metadata": {},
   "outputs": [
    {
     "name": "stdout",
     "output_type": "stream",
     "text": [
      "Changing the value of the global var\n"
     ]
    }
   ],
   "source": [
    "fun_4()"
   ]
  },
  {
   "cell_type": "code",
   "execution_count": 34,
   "metadata": {},
   "outputs": [
    {
     "data": {
      "text/plain": [
       "'Changing the value of the global var'"
      ]
     },
     "execution_count": 34,
     "metadata": {},
     "output_type": "execute_result"
    }
   ],
   "source": [
    "global_var"
   ]
  },
  {
   "cell_type": "code",
   "execution_count": 35,
   "metadata": {},
   "outputs": [],
   "source": [
    "def fun_5():\n",
    "    # Identificamos la variable global_var como global\n",
    "    global global_var, local_var\n",
    "    # Asignamos un nuevo valor a la variable global global_var\n",
    "    global_var = \"Changing the value of the global var\"\n",
    "    local_var = \"Other local var\"\n",
    "    print(local_var)\n",
    "    # Mostramos el valor de global_var\n",
    "    print(global_var)"
   ]
  },
  {
   "cell_type": "code",
   "execution_count": 36,
   "metadata": {},
   "outputs": [
    {
     "name": "stdout",
     "output_type": "stream",
     "text": [
      "Other local var\n",
      "Changing the value of the global var\n"
     ]
    }
   ],
   "source": [
    "fun_5()"
   ]
  },
  {
   "cell_type": "code",
   "execution_count": 37,
   "metadata": {},
   "outputs": [
    {
     "data": {
      "text/plain": [
       "'Changing the value of the global var'"
      ]
     },
     "execution_count": 37,
     "metadata": {},
     "output_type": "execute_result"
    }
   ],
   "source": [
    "global_var"
   ]
  },
  {
   "cell_type": "code",
   "execution_count": 38,
   "metadata": {},
   "outputs": [
    {
     "data": {
      "text/plain": [
       "'Other local var'"
      ]
     },
     "execution_count": 38,
     "metadata": {},
     "output_type": "execute_result"
    }
   ],
   "source": [
    "local_var"
   ]
  },
  {
   "cell_type": "markdown",
   "metadata": {},
   "source": [
    " ## Funciones dentro de funciones\n",
    "\n",
    " Python permite definir funciones dentro de otras funciones. En esta situación, el comportamiento de las variables definidas en estas funciones es similar al que hemos descrito anteriormente."
   ]
  },
  {
   "cell_type": "markdown",
   "metadata": {},
   "source": [
    "En el ejemplo siguiente hay una variable global y y una función **outer_fun** definida también en el ámbito global. Dentro de la función outer_fun, se define una variable local x con valor 3, y cuatro funciones internas (**inner_fun_i** con i de 1 a 4). Cada una de las cuatro funciones internas muestra los posibles comportamientos con relación a la variable x definida en la función externa:"
   ]
  },
  {
   "cell_type": "code",
   "execution_count": 40,
   "metadata": {},
   "outputs": [],
   "source": [
    "# Definimos la función outer_fun en el ámbito global\n",
    "def outer_fun():\n",
    "\n",
    "    # Definimos la función inner_fun_1 dentro de outer_fun\n",
    "    def inner_fun_1():\n",
    "        # Definimos la variable my_var_if1 dentro inner_fun_1\n",
    "        my_var_if1 = \"This is defined in inner_fun_1\"\n",
    "        # Mostramos el valor de la variable de outer_fun x y la variable\n",
    "        # global y\n",
    "        print(\"Inner fun 1 x:\\t{}\".format(x))\n",
    "        print(\"Inner fun 1 y:\\t{}\".format(y))\n",
    "\n",
    "    # Definimos la función inner_fun_2 dentro de outer_fun\n",
    "    def inner_fun_2():\n",
    "        # Definimos y mostramos una nueva variable x local a inner_fun_2\n",
    "        # con valor 5\n",
    "        x = 5\n",
    "        print(\"Inner fun 2 x:\\t{}\".format(x))\n",
    "\n",
    "    # Definimos la función inner_fun_3 dentro de outer_fun\n",
    "    def inner_fun_3():\n",
    "        # Indicamos que utilizaremos la variable x no local\n",
    "        # (definida en outer_fun)\n",
    "        nonlocal x\n",
    "        # Modificamos y mostramos el valor de x\n",
    "        x = 7\n",
    "        print(\"Inner fun 3 x:\\t{}\".format(x))\n",
    "\n",
    "    # Definimos la función inner_fun_4 dentro de outer_fun\n",
    "    def inner_fun_4():\n",
    "        try:\n",
    "            # Intentamos acceder a la variable my_var_if1 definida dentro\n",
    "            # de inner_fun_1 (lo que generará una excepción)\n",
    "            print(my_var_if1)\n",
    "        except NameError:\n",
    "            print(\"Error: undefined variable\")\n",
    "\n",
    "    # Mostramos el valor de la variable global y\n",
    "    print(\"Outer fun 1 y:\\t{}\".format(y))\n",
    "\n",
    "    # Definimos una variable local a outer_fun de nombre x y valor 3\n",
    "    x = 3\n",
    "    # Vamos mostrando el valor de x y ejecutando las funciones internas,\n",
    "    # para ver el efecto que tienen sobre x\n",
    "    print(\"Outer fun x:\\t{}\".format(x))\n",
    "    inner_fun_1()\n",
    "    print(\"Outer fun x:\\t{}\".format(x))\n",
    "    inner_fun_2()\n",
    "    print(\"Outer fun x:\\t{}\".format(x))\n",
    "    inner_fun_3()\n",
    "    print(\"Outer fun x:\\t{}\".format(x))\n",
    "    inner_fun_4()\n",
    "\n"
   ]
  },
  {
   "cell_type": "code",
   "execution_count": 41,
   "metadata": {},
   "outputs": [],
   "source": [
    "y = 1"
   ]
  },
  {
   "cell_type": "code",
   "execution_count": 42,
   "metadata": {},
   "outputs": [
    {
     "name": "stdout",
     "output_type": "stream",
     "text": [
      "Outer fun 1 y:\t1\n",
      "Outer fun x:\t3\n",
      "Inner fun 1 x:\t3\n",
      "Inner fun 1 y:\t1\n",
      "Outer fun x:\t3\n",
      "Inner fun 2 x:\t5\n",
      "Outer fun x:\t3\n",
      "Inner fun 3 x:\t7\n",
      "Outer fun x:\t7\n",
      "Error: undefined variable\n"
     ]
    }
   ],
   "source": [
    "outer_fun()"
   ]
  },
  {
   "cell_type": "markdown",
   "metadata": {},
   "source": [
    "¿Por qué podemos querer encapsular el código? Supongamos, por ejemplo, que estamos analizando un conjunto de datos con las localizaciones actuales de un conjunto de personas, así como la localización del domicilio y del lugar de trabajo de estas, y que queremos saber si estas personas se encuentran cerca tanto del puesto de trabajo como del domicilio. Para ello, implementamos una función is_close que nos devuelve un booleano que indica si están cerca o no de ambas localizaciones. Esta función necesitará calcular la distancia entre dos puntos dos veces (una para calcular la distancia entre la localización actual y el domicilio, y una segunda vez para saber la distancia entre la localización actual y el lugar de trabajo). Por lo tanto, para no repetir código, definiremos otra función dist que calcule la distancia entre dos puntos. Ahora bien, para el análisis que queremos hacer, no utilizaremos la distancia euclídea, sino que utilizaremos la distancia de Manhattan. En el resto de nuestro código, sin embargo, nunca utilizaremos esta definición de distancia, y queremos evitar que algún otro programador del equipo, por error, llame a nuestra función distancia dist (pensando, quizás, que calcula la distancia más habitual, la euclidiana). Una posible forma de hacerlo es definir la función dist como una función local a is_close. De este modo, podemos utilizar una función y no tendremos que repetir código al calcular las distancias y, al mismo tiempo, evitaremos que se llame a esta función desde fuera de la función is_close:"
   ]
  },
  {
   "cell_type": "code",
   "execution_count": 43,
   "metadata": {},
   "outputs": [],
   "source": [
    "def is_close(x, y, l1_x, l1_y, l2_x, l2_y):\n",
    "\n",
    "    def dist(x1, y1, x2, y2):\n",
    "        return abs(x1 - x2) + abs(y1 - y2)\n",
    "    \n",
    "    # Consideramos que un punto está cerca de otro si la distancia entre ellos\n",
    "    # es inferior a lim\n",
    "    lim = 10\n",
    "    # Retornamos si (x, y) está cerca tanto de (l1_x, l1_y) como de\n",
    "    # (l2_x, l2_y)\n",
    "    return (dist(x, y, l1_x, l1_y) < lim) and (dist(x, y, l2_x, l2_y) < lim)\n"
   ]
  },
  {
   "cell_type": "code",
   "execution_count": 44,
   "metadata": {},
   "outputs": [
    {
     "name": "stdout",
     "output_type": "stream",
     "text": [
      "(0, 0) is close to (1, 4) and (-7, 1)?: True\n"
     ]
    }
   ],
   "source": [
    "# Calculamos si la dirección actual (0, 0) está cerca de (1, 4) y (-7, 1)\n",
    "r1 = is_close(0, 0, 1, 4, -7, 1)\n",
    "print(\"(0, 0) is close to (1, 4) and (-7, 1)?: {}\".format(r1))"
   ]
  },
  {
   "cell_type": "markdown",
   "metadata": {},
   "source": [
    "if (dist(x, y, l1_x, l1_y) < lim) and (dist (x, y, l2_x, l2_y) < lim):\n",
    "    return True\n",
    "else:\n",
    "    return False"
   ]
  }
 ],
 "metadata": {
  "interpreter": {
   "hash": "3a457f06cda4579c7033761bf4e886c4764e74b759b9220f07c03aa5d4880471"
  },
  "kernelspec": {
   "display_name": "Python 3.9.5 ('data_science_py395')",
   "language": "python",
   "name": "python3"
  },
  "language_info": {
   "codemirror_mode": {
    "name": "ipython",
    "version": 3
   },
   "file_extension": ".py",
   "mimetype": "text/x-python",
   "name": "python",
   "nbconvert_exporter": "python",
   "pygments_lexer": "ipython3",
   "version": "3.9.5"
  },
  "orig_nbformat": 4
 },
 "nbformat": 4,
 "nbformat_minor": 2
}
