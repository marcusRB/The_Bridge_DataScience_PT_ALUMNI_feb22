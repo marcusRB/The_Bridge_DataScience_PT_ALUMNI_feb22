{
 "cells": [
  {
   "cell_type": "markdown",
   "metadata": {},
   "source": [
    "## Programación Data Science"
   ]
  },
  {
   "cell_type": "markdown",
   "metadata": {},
   "source": [
    "## Ejercicio 1\n",
    "\n",
    "Definid una función que pueda recibir un número de parámetros cualquiera, superior a 1, y que devuelva el resultado de sumar el resultado de aplicar la función que recibe como primer parámetro a cada uno de los otros parámetros.\n",
    "\n",
    "Por ejemplo, si la función recibe como primer argumento una función que calcula cuadrados, como segundo argumento un 5, y como tercer argumento un 10, debería devolver $5^2 + 10^2 = 125$\n",
    "\n",
    "Llamad a la función definida con los valores del ejemplo mencionado en el enunciado, y comprobad que se obtiene el resultado correcto. Comprobad también que la función devuelve los resultados esperados para una llamada con dos argumentos y con cinco argumentos.\n"
   ]
  },
  {
   "cell_type": "code",
   "execution_count": 26,
   "metadata": {},
   "outputs": [
    {
     "name": "stdout",
     "output_type": "stream",
     "text": [
      "125\n"
     ]
    }
   ],
   "source": [
    "# OPCION SIMPLE\n",
    "\n",
    "def cuad(n):\n",
    "    return n**2\n",
    "\n",
    "def ejercicio1(fun,*args):\n",
    "    suma=0\n",
    "    for i in args: \n",
    "        suma+=fun(i)\n",
    "    return suma\n",
    "\n",
    "resultado=ejercicio1(cuad,5,10)\n",
    "print(resultado)"
   ]
  },
  {
   "cell_type": "code",
   "execution_count": 27,
   "metadata": {},
   "outputs": [
    {
     "data": {
      "text/plain": [
       "125"
      ]
     },
     "execution_count": 27,
     "metadata": {},
     "output_type": "execute_result"
    }
   ],
   "source": [
    "# OPCION MAP\n",
    "def cuad(n):\n",
    "    return n**2\n",
    "    \n",
    "def ejercicio1(fun,*args):\n",
    "    return sum(map(fun,args))\n",
    "\n",
    "ejercicio1(cuad,5,10)"
   ]
  },
  {
   "cell_type": "code",
   "execution_count": 28,
   "metadata": {},
   "outputs": [
    {
     "data": {
      "text/plain": [
       "125"
      ]
     },
     "execution_count": 28,
     "metadata": {},
     "output_type": "execute_result"
    }
   ],
   "source": [
    "# OPCION REDUCE\n",
    "\n",
    "from functools import reduce\n",
    "\n",
    "def cuad(n):\n",
    "    return n**2\n",
    "\n",
    "def ejercicio_1(fun,*args):\n",
    "    cuadrados = [fun(x) for x in args]\n",
    "    return reduce(lambda x,y: x+y, cuadrados)\n",
    "\n",
    "ejercicio_1(cuad,5,10)"
   ]
  },
  {
   "cell_type": "markdown",
   "metadata": {},
   "source": [
    "## Ejercicio 2\n",
    "\n",
    "Definid una función que reciba dos parámetros, una lista de enteros y un entero, y devuelva una lista con los mismos elementos que la lista original eliminando todas las apariciones del entero especificado.\n",
    "\n",
    " Implementad una función que modifique la lista original. Haced una llamada a la función definida y mostrad que, efectivamente, la lista original se modifica."
   ]
  },
  {
   "cell_type": "code",
   "execution_count": 67,
   "metadata": {},
   "outputs": [
    {
     "name": "stdout",
     "output_type": "stream",
     "text": [
      "ErrorType: introducir segundo argumento de tipo entero\n",
      "-1\n",
      "[1, 3, 3, 1] [1, 3, 3, 1]\n"
     ]
    }
   ],
   "source": [
    "# FORMA TRAMPA: otorgando resultado a lista\n",
    "\n",
    "def ejercicio2(lista,var1):   \n",
    "    if (type(var1)==int):\n",
    "        return list(filter(lambda x: x!=var1,lista))\n",
    "    else: \n",
    "        print(\"ErrorType: introducir segundo argumento de tipo entero\")\n",
    "        return -1\n",
    "\n",
    "# Prueba forzando error de tipo:\n",
    "lista=[1,2,3,3,2,2,1]\n",
    "lista=ejercicio2(lista,2.3)\n",
    "print(lista)\n",
    "\n",
    "# Prueba comparando si se modifica la lista original:\n",
    "lista=[1,2,3,3,2,2,1]\n",
    "lista=ejercicio2(lista,2)\n",
    "print(ejercicio2(lista,2),lista)"
   ]
  },
  {
   "cell_type": "code",
   "execution_count": 40,
   "metadata": {},
   "outputs": [
    {
     "name": "stdout",
     "output_type": "stream",
     "text": [
      "[1, 3, 3, 1] [1, 2, 3, 3, 2, 2, 1]\n"
     ]
    }
   ],
   "source": [
    "# FORMA ALTERNATIVA: intento fallido\n",
    "\n",
    "def ejercicio2(l,var1):   \n",
    "    if (type(var1)==int):\n",
    "        l=list(filter(lambda x: x!=var1,l))\n",
    "        return l\n",
    "    else: \n",
    "        print(\"ErrorType: introducir segundo argumento de tipo entero\")\n",
    "        return -1\n",
    "\n",
    "# Prueba comparando si se modifica la lista original:\n",
    "lista=[1,2,3,3,2,2,1]\n",
    "print(ejercicio2(lista,2),lista)"
   ]
  },
  {
   "cell_type": "code",
   "execution_count": 41,
   "metadata": {},
   "outputs": [
    {
     "name": "stdout",
     "output_type": "stream",
     "text": [
      "[1, 3, 3, 1] [1, 2, 3, 3, 2, 2, 1]\n"
     ]
    }
   ],
   "source": [
    "# FORMA ALTERNATIVA 2: intento fallido\n",
    "\n",
    "def ejercicio2(l,var1):   \n",
    "    if (type(var1)==int):\n",
    "        l=[i for i in l if (i != var1)]\n",
    "        return l\n",
    "    else: \n",
    "        print(\"ErrorType: introducir segundo argumento de tipo entero\")\n",
    "        return -1\n",
    "\n",
    "# Prueba comparando si se modifica la lista original:\n",
    "lista=[1,2,3,3,2,2,1]\n",
    "print(ejercicio2(lista,2),lista)"
   ]
  },
  {
   "cell_type": "code",
   "execution_count": 43,
   "metadata": {},
   "outputs": [
    {
     "name": "stdout",
     "output_type": "stream",
     "text": [
      "[1, 3, 3, 1] [1, 2, 3, 3, 2, 2, 1]\n"
     ]
    }
   ],
   "source": [
    "# FORMA ALTERNATIVA 3: intento fallido\n",
    "\n",
    "def fun(l,var1):\n",
    "    return list(filter(lambda x: x!=var1,l))\n",
    "\n",
    "def ejercicio2(fun,l,var1):   \n",
    "    if (type(var1)==int):\n",
    "        l=fun(l,var1)\n",
    "        return l\n",
    "    else: \n",
    "        print(\"ErrorType: introducir segundo argumento de tipo entero\")\n",
    "        return -1\n",
    "\n",
    "# Prueba comparando si se modifica la lista original:\n",
    "lista=[1,2,3,3,2,2,1]\n",
    "print(ejercicio2(fun,lista,2),lista)"
   ]
  },
  {
   "cell_type": "code",
   "execution_count": 78,
   "metadata": {},
   "outputs": [
    {
     "name": "stdout",
     "output_type": "stream",
     "text": [
      "[1, 3, 3, 1, 4, 3] [1, 3, 3, 1, 4, 3]\n"
     ]
    }
   ],
   "source": [
    "# FORMA ALTERNATIVA 4 --> FUNK\n",
    "\n",
    "def ejercicio2(lista,var1):   \n",
    "    if (type(var1)==int):\n",
    "        [lista.pop(i) for i,l in enumerate(lista) if l==var1]\n",
    "        [lista.pop(i) for i,l in enumerate(lista) if l==var1]\n",
    "        return lista\n",
    "    else: \n",
    "        print(\"ErrorType: introducir segundo argumento de tipo entero\")\n",
    "        return -1\n",
    "\n",
    "# Prueba comparando si se modifica la lista original:\n",
    "lista=[1,2,3,3,2,2,1,2,2,4,3,2,2,2]\n",
    "print(ejercicio2(lista,2),lista)"
   ]
  },
  {
   "cell_type": "markdown",
   "metadata": {},
   "source": [
    "## Ejercicio 3\n",
    "\n",
    "Implementad una función que no modifique la lista original. Haced una llamada a la función definida y mostrad que, efectivamente, no se modifica la lista original."
   ]
  },
  {
   "cell_type": "code",
   "execution_count": 69,
   "metadata": {},
   "outputs": [],
   "source": [
    "def ejercicio3(lista,var1=int):\n",
    "    if (type(var1)==int):\n",
    "        return list(filter(lambda x: x!=var1,lista))\n",
    "    else: \n",
    "        print(\"ErrorType: introducir segundo argumento de tipo entero\")\n",
    "        return -1"
   ]
  },
  {
   "cell_type": "code",
   "execution_count": 70,
   "metadata": {},
   "outputs": [
    {
     "name": "stdout",
     "output_type": "stream",
     "text": [
      "[1, 3, 3, 1] [1, 2, 3, 3, 2, 2, 1]\n"
     ]
    }
   ],
   "source": [
    "# Prueba comparando si NO se modifica la lista original:\n",
    "lista=[1,2,3,3,2,2,1]\n",
    "print(ejercicio3(lista,2),lista)"
   ]
  }
 ],
 "metadata": {
  "interpreter": {
   "hash": "3a457f06cda4579c7033761bf4e886c4764e74b759b9220f07c03aa5d4880471"
  },
  "kernelspec": {
   "display_name": "Python 3.9.5 ('data_science_py395')",
   "language": "python",
   "name": "python3"
  },
  "language_info": {
   "codemirror_mode": {
    "name": "ipython",
    "version": 3
   },
   "file_extension": ".py",
   "mimetype": "text/x-python",
   "name": "python",
   "nbconvert_exporter": "python",
   "pygments_lexer": "ipython3",
   "version": "3.9.5"
  },
  "orig_nbformat": 4
 },
 "nbformat": 4,
 "nbformat_minor": 2
}
