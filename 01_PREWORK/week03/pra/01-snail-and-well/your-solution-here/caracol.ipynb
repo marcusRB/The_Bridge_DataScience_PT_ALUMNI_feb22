{
 "cells": [
  {
   "cell_type": "markdown",
   "metadata": {},
   "source": [
    "# 01 - Caracol y el pozo\n",
    "\n",
    "Un caracol cae en el fondo de un pozo de 125 cm. Cada día el caracol sube 30 cm. pero por la noche, mientras duerme, resbala 20 cm debido a que las paredes son húmedas. ¿Cuantos días tarda en escapar del pozo?\n",
    "\n",
    "TIP: https://www.vix.com/es/btg/curiosidades/59215/acertijos-matematicos-el-caracol-en-el-pozo-facil\n",
    "\n",
    "TIP: http://puzzles.nigelcoldwell.co.uk/sixtytwo.htm"
   ]
  },
  {
   "cell_type": "markdown",
   "metadata": {},
   "source": [
    "## Solución"
   ]
  },
  {
   "cell_type": "code",
   "execution_count": 1,
   "metadata": {},
   "outputs": [],
   "source": [
    "# Asigna los datos del problema a variables con nombres representativos\n",
    "# altura del pozo, avance diario, retroceso nocturno, distancia acumulada\n",
    "# Asigna 0 a la variable que representa la solución\n",
    "# Escribe el código que soluciona el problema\n",
    "# Imprime el resultado con print('Dias =', dias)"
   ]
  },
  {
   "cell_type": "code",
   "execution_count": 1,
   "metadata": {},
   "outputs": [],
   "source": [
    "def t_dias_salir_pozo(avanza,pozo=125,resbala=20):\n",
    "    \"\"\"\n",
    "    Función: dias que tarda el caracol en salir del pozo. \n",
    "\n",
    "    Args:\n",
    "    -----\n",
    "    avanza: int (cm) avance diario del caracol.\n",
    "    pozo: int (cm) profundidad del pozo, por defecto 125 cm.\n",
    "    resbala: int (cm) retroceso del caracol cada noche, por defecto 20 cm.\n",
    "\n",
    "    Salida:\n",
    "    -------\n",
    "    dias: int (dias) dias que tarda el caracol en salir del pozo.\n",
    "    \"\"\"\n",
    "    \n",
    "    #Comprobamos si el caracol puede salir:\n",
    "    if (avanza<=resbala):\n",
    "        dias=-1\n",
    "        print(\"El pobre caracol o tiene que dormir menos o no saldrá del pozo :(\")\n",
    "    else:\n",
    "        dias=0\n",
    "        recorrido = avanza \n",
    "        # Se comprueba si el caracol sale el dia que entró (dia 0)\n",
    "        if (recorrido>pozo):\n",
    "            dias=0\n",
    "\n",
    "        # En caso contrario calculamos los dias que tarda    \n",
    "        else:\n",
    "            recorrido=0\n",
    "            while (recorrido<pozo):\n",
    "                recorrido=recorrido+(avanza-resbala)\n",
    "                dias+=1\n",
    "            \n",
    "    return dias\n"
   ]
  },
  {
   "cell_type": "code",
   "execution_count": 2,
   "metadata": {},
   "outputs": [
    {
     "name": "stdout",
     "output_type": "stream",
     "text": [
      " El caracol tarda 13 dias en salir del pozo si avanza 30cm/dia\n",
      " El caracol tarda 125 dias en salir del pozo si avanza 21cm/dia\n",
      " El caracol tarda 10 dias en salir del pozo si avanza 33cm/dia\n",
      " El caracol tarda 3 dias en salir del pozo si avanza 77cm/dia\n",
      " El caracol tarda 6 dias en salir del pozo si avanza 44cm/dia\n",
      " El caracol tarda 5 dias en salir del pozo si avanza 45cm/dia\n",
      " El caracol tarda 42 dias en salir del pozo si avanza 23cm/dia\n",
      " El caracol tarda 5 dias en salir del pozo si avanza 45cm/dia\n",
      "El pobre caracol o tiene que dormir menos o no saldrá del pozo :(\n",
      " El caracol tarda -1 dias en salir del pozo si avanza 12cm/dia\n",
      " El caracol tarda 9 dias en salir del pozo si avanza 34cm/dia\n",
      " El caracol tarda 4 dias en salir del pozo si avanza 55cm/dia\n",
      "[13, 125, 10, 3, 6, 5, 42, 5, -1, 9, 4]\n"
     ]
    }
   ],
   "source": [
    "avance_cm = [30, 21, 33, 77, 44, 45, 23, 45, 12, 34, 55]\n",
    "dias=[]\n",
    "\n",
    "for i in avance_cm:\n",
    "    resultado=t_dias_salir_pozo(i)\n",
    "    dias.append(resultado)\n",
    "    print(f\" El caracol tarda {resultado} dias en salir del pozo si avanza {i}cm/dia\")\n",
    "print(dias)"
   ]
  },
  {
   "cell_type": "markdown",
   "metadata": {},
   "source": [
    "## Objetivos\n",
    "\n",
    "1. Tratamiento de variables\n",
    "2. Uso de bucle **while**\n",
    "3. Uso de condicionales **if-else**\n",
    "4. Imprimir por consola"
   ]
  },
  {
   "cell_type": "markdown",
   "metadata": {},
   "source": [
    "## Bonus\n",
    "La distancia recorrida por el caracol viene ahora definida por una lista. \n",
    "```\n",
    "avance_cm = [30, 21, 33, 77, 44, 45, 23, 45, 12, 34, 55]\n",
    "```\n",
    "¿Cuánto tarda en subir el pozo?\n",
    "¿Cuál es su máximo de desplazamiento en un día? ¿Y su mínimo?\n",
    "¿Cuál es su media de velocidad durante el día?\n",
    "¿Cuál es la desviación típica de su desplazamiento durante el día?"
   ]
  },
  {
   "cell_type": "code",
   "execution_count": 3,
   "metadata": {},
   "outputs": [
    {
     "name": "stdout",
     "output_type": "stream",
     "text": [
      "El máximo desplazamiento es: 77 y el mínimo: 12\n",
      "La media de avance es: 38.09090909090909\n",
      "La desviacion típica del avance es: 294.44628099173553\n"
     ]
    }
   ],
   "source": [
    "# Asigna los datos del problema a variables con nombres representativos\n",
    "# altura del pozo, avance diario, retroceso nocturno, distancia acumulada\n",
    "# Asigna 0 a la variable que representa la solución\n",
    "# Escribe el código que soluciona el problema\n",
    "# Imprime el resultado con print('Dias =', dias)\n",
    "\n",
    "# --------------------------------------------------------------\n",
    "\n",
    "# ¿Cuál es su máximo de desplazamiento en un día? ¿Y su mínimo?\n",
    "maximo_desplazamiento=max(avance_cm)\n",
    "minimo_desplazamiento=min(avance_cm)\n",
    "print(\"El máximo desplazamiento es:\",maximo_desplazamiento,\"y el mínimo:\",minimo_desplazamiento)\n",
    "# ¿Cuál es su media de avance?\n",
    "media_avance=sum(avance_cm)/len(avance_cm)\n",
    "print(\"La media de avance es:\",media_avance)\n",
    "\n",
    "# ¿Cuál es la desviación típica de su desplazamiento durante el día?\n",
    "\n",
    "# Creamos la función de la desviación:\n",
    "def desviacion_tipica(lista):\n",
    "    \"\"\"\n",
    "    Esta función calcula la desviación típica de una lista numérica. \n",
    "\n",
    "    Args.:\n",
    "    -----\n",
    "    lista: list numérica.\n",
    "\n",
    "    Devuelve:\n",
    "    ---------\n",
    "    desviacion: float; resultado del cálculo de la desviación típica de la lista.\n",
    "\n",
    "    \"\"\"\n",
    "    n=len(lista)\n",
    "    media=sum(lista)/n\n",
    "    restaelev=[]\n",
    "    for i in lista:\n",
    "        restaelev.append((i-media)**2)\n",
    "\n",
    "    desviacion=sum(restaelev)/n\n",
    "\n",
    "    return desviacion\n",
    "\n",
    "\n",
    "# Cálculo:\n",
    "desviacion_avance=desviacion_tipica(avance_cm)\n",
    "print(\"La desviacion típica del avance es:\",desviacion_avance)"
   ]
  },
  {
   "cell_type": "code",
   "execution_count": null,
   "metadata": {},
   "outputs": [],
   "source": []
  }
 ],
 "metadata": {
  "kernelspec": {
   "display_name": "Python 3",
   "language": "python",
   "name": "python3"
  },
  "language_info": {
   "codemirror_mode": {
    "name": "ipython",
    "version": 3
   },
   "file_extension": ".py",
   "mimetype": "text/x-python",
   "name": "python",
   "nbconvert_exporter": "python",
   "pygments_lexer": "ipython3",
   "version": "3.9.5"
  }
 },
 "nbformat": 4,
 "nbformat_minor": 4
}
