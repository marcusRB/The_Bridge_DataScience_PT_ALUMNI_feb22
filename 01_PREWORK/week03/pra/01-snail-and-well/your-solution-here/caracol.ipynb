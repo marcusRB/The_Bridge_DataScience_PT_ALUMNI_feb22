{
 "cells": [
  {
   "cell_type": "markdown",
   "metadata": {},
   "source": [
    "# 01 - Caracol y el pozo\n",
    "\n",
    "Un caracol cae en el fondo de un pozo de 125 cm. Cada día el caracol sube 30 cm. pero por la noche, mientras duerme, resbala 20 cm debido a que las paredes son húmedas. ¿Cuantos días tarda en escapar del pozo?\n",
    "\n",
    "TIP: https://www.vix.com/es/btg/curiosidades/59215/acertijos-matematicos-el-caracol-en-el-pozo-facil\n",
    "\n",
    "TIP: http://puzzles.nigelcoldwell.co.uk/sixtytwo.htm"
   ]
  },
  {
   "cell_type": "markdown",
   "metadata": {},
   "source": [
    "## Solución"
   ]
  },
  {
   "cell_type": "code",
   "execution_count": 9,
   "metadata": {},
   "outputs": [
    {
     "name": "stdout",
     "output_type": "stream",
     "text": [
      "Dias = 11\n"
     ]
    }
   ],
   "source": [
    "# Asigna los datos del problema a variables con nombres representativos\n",
    "# altura del pozo, avance diario, retroceso nocturno, distancia acumulada\n",
    "altura = 125 # altura del pozo\n",
    "avance = 30 # avance diario\n",
    "retroceso = 20 # retroceso nocturno\n",
    "distancia_total = 0 # inicializo la distancia recorrida\n",
    "\n",
    "# Asigna 0 a la variable que representa la solución\n",
    "dias = 0 # inicializo el numero de días\n",
    "\n",
    "# No sé si es lo correcto, pero considero días enteros.\n",
    "# Escribe el código que soluciona el problema\n",
    "while (distancia_total<altura): #se repite hasta que la distancia > altura \n",
    "    distancia_total = distancia_total + avance # sumo el avance a la distancia\n",
    "    dias +=1 #sumo un día al contador de días\n",
    "    if distancia_total >= altura: #evaluo si el caracol ha llegado arriba\n",
    "        print('Dias =', dias) # si ha llegado arriba imprimo el numero de días\n",
    "    else:\n",
    "        distancia_total = distancia_total - retroceso # si no ha llegado arriba le resto el retroceso nocturno\n",
    "\n",
    "\n",
    "# Imprime el resultado con print('Dias =', dias)\n",
    "\n"
   ]
  },
  {
   "cell_type": "markdown",
   "metadata": {},
   "source": [
    "## Objetivos\n",
    "\n",
    "1. Tratamiento de variables\n",
    "2. Uso de bucle **while**\n",
    "3. Uso de condicionales **if-else**\n",
    "4. Imprimir por consola"
   ]
  },
  {
   "cell_type": "markdown",
   "metadata": {},
   "source": [
    "## Bonus\n",
    "La distancia recorrida por el caracol viene ahora definida por una lista. \n",
    "```\n",
    "avance_cm = [30, 21, 33, 77, 44, 45, 23, 45, 12, 34, 55]\n",
    "```\n",
    "¿Cuánto tarda en subir el pozo?\n",
    "¿Cuál es su máximo de desplazamiento en un día? ¿Y su mínimo?\n",
    "¿Cuál es su media de velocidad durante el día?\n",
    "¿Cuál es la desviación típica de su desplazamiento durante el día?"
   ]
  },
  {
   "cell_type": "code",
   "execution_count": 39,
   "metadata": {},
   "outputs": [
    {
     "name": "stdout",
     "output_type": "stream",
     "text": [
      "Dias = 5\n",
      "El avance maximo en un día es 77\n",
      "El avance mínimo en un día es 21\n",
      "La media de avance diaria es: 25.0\n"
     ]
    }
   ],
   "source": [
    "# Asigna los datos del problema a variables con nombres representativos\n",
    "# altura del pozo, avance diario, retroceso nocturno, distancia acumulada\n",
    "avance_cm = [30, 21, 33, 77, 44, 45, 23, 45, 12, 34, 55]\n",
    "altura = 125\n",
    "retroceso = 20\n",
    "distancia_total = 0\n",
    "\n",
    "# Asigna 0 a la variable que representa la solución\n",
    "dias = 0 # inicializo el numero de días\n",
    "\n",
    "# Escribe el código que soluciona el problema \n",
    "# No sé si es lo correcto, pero considero días enteros.\n",
    "for av in avance_cm:\n",
    "    if distancia_total<altura:\n",
    "        distancia_total = distancia_total + av # sumo el avance a la distancia\n",
    "        dias +=1 #sumo un día al contador de días\n",
    "        if distancia_total >= altura: #evaluo si el caracol ha llegado arriba\n",
    "            print('Dias =', dias) # si ha llegado arriba imprimo el numero de días\n",
    "        else:\n",
    "            distancia_total = distancia_total - retroceso # si no ha llegado arriba le resto el retroceso nocturno\n",
    "\n",
    "# Imprime el resultado con print('Dias =', dias)\n",
    "\n",
    "\n",
    "# ¿Cuál es su máximo de desplazamiento en un día? ¿Y su mínimo?\n",
    "# primero calculo el maximo sin contar el retroceso de la nnoche\n",
    "av_max = max(avance_cm[0:dias])\n",
    "av_min = min(avance_cm[0:dias])\n",
    "print('El avance maximo en un día es', av_max)\n",
    "print('El avance mínimo en un día es', av_min)\n",
    "# lo calculo también contando el retroceso de la noche, lo dejo como comentario\n",
    "#print('El avance maximo en un día es', av_max - retroceso)\n",
    "#print('El avance mínimo en un día es', av_min - retroceso)\n",
    "\n",
    "# ¿Cuál es su media de avance?\n",
    "media_avance = distancia_total/dias \n",
    "print('La media de avance diaria es:', media_avance)\n",
    "\n",
    "# ¿Cuál es la desviación típica de su desplazamiento durante el día?\n",
    "\n"
   ]
  },
  {
   "cell_type": "code",
   "execution_count": null,
   "metadata": {},
   "outputs": [],
   "source": []
  }
 ],
 "metadata": {
  "kernelspec": {
   "display_name": "Python 3",
   "language": "python",
   "name": "python3"
  },
  "language_info": {
   "codemirror_mode": {
    "name": "ipython",
    "version": 3
   },
   "file_extension": ".py",
   "mimetype": "text/x-python",
   "name": "python",
   "nbconvert_exporter": "python",
   "pygments_lexer": "ipython3",
   "version": "3.9.5"
  }
 },
 "nbformat": 4,
 "nbformat_minor": 4
}
