{
 "cells": [
  {
   "cell_type": "markdown",
   "metadata": {},
   "source": [
    "# 01 - Caracol y el pozo\n",
    "\n",
    "Un caracol cae en el fondo de un pozo de 125 cm. Cada día el caracol sube 30 cm. pero por la noche, mientras duerme, resbala 20 cm debido a que las paredes son húmedas. ¿Cuantos días tarda en escapar del pozo?\n",
    "\n",
    "TIP: https://www.vix.com/es/btg/curiosidades/59215/acertijos-matematicos-el-caracol-en-el-pozo-facil\n",
    "\n",
    "TIP: http://puzzles.nigelcoldwell.co.uk/sixtytwo.htm"
   ]
  },
  {
   "cell_type": "markdown",
   "metadata": {},
   "source": [
    "## Solución"
   ]
  },
  {
   "cell_type": "code",
   "execution_count": 2,
   "metadata": {},
   "outputs": [
    {
     "name": "stdout",
     "output_type": "stream",
     "text": [
      "Dias = 13\n"
     ]
    }
   ],
   "source": [
    "# Asigna los datos del problema a variables con nombres representativos\n",
    "# altura del pozo, avance diario, retroceso nocturno, distancia acumulada\n",
    "pozo = 125\n",
    "sube = 30\n",
    "baja = 20\n",
    "dist_dia = sube - baja\n",
    "\n",
    "# Asigna 0 a la variable que representa la solución\n",
    "dias = 0\n",
    "dist_total = 0\n",
    "\n",
    "# Escribe el código que soluciona el problema\n",
    "\n",
    "while True:\n",
    "    dist_total += dist_dia\n",
    "    dias += 1\n",
    "    #print(dias)\n",
    "    if dist_total >= pozo:\n",
    "        break;\n",
    "# Imprime el resultado con print('Dias =', dias)\n",
    "print(f\"Dias = {dias}\")"
   ]
  },
  {
   "cell_type": "markdown",
   "metadata": {},
   "source": [
    "## Objetivos\n",
    "\n",
    "1. Tratamiento de variables\n",
    "2. Uso de bucle **while**\n",
    "3. Uso de condicionales **if-else**\n",
    "4. Imprimir por consola"
   ]
  },
  {
   "cell_type": "markdown",
   "metadata": {},
   "source": [
    "## Bonus\n",
    "La distancia recorrida por el caracol viene ahora definida por una lista. \n",
    "```\n",
    "avance_cm = [30, 21, 33, 77, 44, 45, 23, 45, 12, 34, 55]\n",
    "```\n",
    "¿Cuánto tarda en subir el pozo?\n",
    "¿Cuál es su máximo de desplazamiento en un día? ¿Y su mínimo?\n",
    "¿Cuál es su media de velocidad durante el día?\n",
    "¿Cuál es la desviación típica de su desplazamiento durante el día?"
   ]
  },
  {
   "cell_type": "code",
   "execution_count": 9,
   "metadata": {},
   "outputs": [
    {
     "name": "stdout",
     "output_type": "stream",
     "text": [
      "Dias = 4\n",
      "Su máximo desplazamiento en un día es  77 cm\n",
      "Su minimo desplazamiento en un día es  12 cm\n",
      "Su media de avance es 38.09 cm\n",
      "La desviación típica de su desplazamiento durante el día es 17.16\n"
     ]
    }
   ],
   "source": [
    "# Asigna los datos del problema a variables con nombres representativos\n",
    "# altura del pozo, avance diario, retroceso nocturno, distancia acumulada\n",
    "pozo = 125\n",
    "avance_cm = [30, 21, 33, 77, 44, 45, 23, 45, 12, 34, 55]\n",
    "\n",
    "\n",
    "# Asigna 0 a la variable que representa la solución\n",
    "dias = 0\n",
    "dist_total = 0\n",
    "\n",
    "# Escribe el código que soluciona el problema\n",
    "while True:\n",
    "    for i in avance_cm:\n",
    "        if dist_total < pozo:\n",
    "            dist_total += i\n",
    "            #print(dias, i, dist_total)\n",
    "            dias += 1\n",
    "    break;\n",
    "        \n",
    "    \n",
    "# Imprime el resultado con print('Dias =', dias)\n",
    "print(f\"Dias = {dias}\")\n",
    "\n",
    "\n",
    "# ¿Cuál es su máximo de desplazamiento en un día? ¿Y su mínimo?\n",
    "print(\"Su máximo desplazamiento en un día es \", max(avance_cm), \"cm\")\n",
    "print(\"Su minimo desplazamiento en un día es \", min(avance_cm), \"cm\")\n",
    "\n",
    "# ¿Cuál es su media de avance?\n",
    "media = sum(avance_cm)/len(avance_cm)\n",
    "print(\"Su media de avance es {0:.2f}\".format(media) , \"cm\")\n",
    "\n",
    "# ¿Cuál es la desviación típica de su desplazamiento durante el día?\n",
    "import math\n",
    "desv= math.sqrt(sum((l-media)**2 for l in avance_cm) / len(avance_cm))\n",
    "print(\"La desviación típica de su desplazamiento durante el día es {0:.2f}\".format(desv))\n"
   ]
  }
 ],
 "metadata": {
  "kernelspec": {
   "display_name": "Python 3",
   "language": "python",
   "name": "python3"
  },
  "language_info": {
   "codemirror_mode": {
    "name": "ipython",
    "version": 3
   },
   "file_extension": ".py",
   "mimetype": "text/x-python",
   "name": "python",
   "nbconvert_exporter": "python",
   "pygments_lexer": "ipython3",
   "version": "3.9.5"
  }
 },
 "nbformat": 4,
 "nbformat_minor": 4
}
