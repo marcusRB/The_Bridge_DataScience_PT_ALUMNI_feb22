{
 "cells": [
  {
   "cell_type": "markdown",
   "metadata": {},
   "source": [
    "# Robin Hood: \n",
    "Estamos en plena competición para ganar el concurso de tiro con arco en Sherwood. Con nuestro arco y flechas disparamos sobre una diana e intentamos acertar lo más cerca posible del centro. \n",
    "\n",
    "El centro de la diana viene representado por los valores (0, 0) en los ejes de coordenadas. \n",
    "\n",
    "## Objetivos: \n",
    "* estructuras de datos: listas, conjuntos, tuplas\n",
    "* operadores lógicos: if-elif-else\n",
    "* bucle: while/for\n",
    "* cálculo de mínimo (sorting opcional)\n",
    "\n",
    "## Descripción: \n",
    "En el espacio de 2 dimensiones un punto se puede definir por un par de valores que corresponden a la coordenada horizontal (x) y a la vertical (y). El espacio puede quedar dividido en 4 zonas (cuadrantes): Q1, Q2, Q3, Q4. Cuyo punto de unión único es el punto (0, 0). \n",
    "\n",
    "Si un punto se encuentra en Q1 tanto su coordenada x como la y son positivas. Te dejo un enlace a wikipedia para que te familiarices con estos cuadrantes. \n",
    "\n",
    "https://es.wikipedia.org/wiki/Coordenadas_cartesianas\n",
    "\n",
    "https://es.wikipedia.org/wiki/Distancia_euclidiana\n",
    "\n",
    "## Tareas\n",
    "1. Robin Hood es famoso por acertar a una flecha con otra flecha. ¿Lo ha conseguido? \n",
    "2. Calcula cuántos flechazos han caido en cada cuadrante. \n",
    "3. Halla el punto más cercano al centro. Calcula su distancia al centro\n",
    "4. Si la diana tiene un radio de 9, calcula el número de flechas que hay que recoger al bosque. "
   ]
  },
  {
   "cell_type": "code",
   "execution_count": 31,
   "metadata": {},
   "outputs": [
    {
     "name": "stdout",
     "output_type": "stream",
     "text": [
      "Lo ha conseguido\n",
      "10 flechazos en el cuadrante 1\n",
      "6 flechazos en el cuadrante 2\n",
      "2 flechazos en el cuadrante 3\n",
      "2 flechazos en el cuadrante 4\n",
      "2 flechazos en los ejes o centro\n",
      "El punto más cercano al centro es el punto (0, 2) con una dsitancia al centro de 2.0\n",
      "2 flechas no han dado en la diana\n"
     ]
    }
   ],
   "source": [
    "puntos = [(4,5), (-0,2), (4,7), (1,-3), (3,-2), (4,5), \n",
    "          (3,2), (5,7), (-5,7), (2,2), (-4,5), (0,-2), \n",
    "          (-4,7), (-1,3), (-3,2), (-4,-5), (-3,2), \n",
    "          (5,7), (5,7), (2,2), (9, 9), (-8, -9)]\n",
    "\n",
    "# 1. Robin Hood es famoso por acertar a una flecha con otra flecha. ¿Lo ha conseguido? \n",
    "if len(puntos) == len(set(puntos)):\n",
    "    print('No lo ha conseguido')\n",
    "else:\n",
    "    print('Lo ha conseguido')\n",
    "\n",
    "\n",
    "# 2. Calcula cuántos flechazos han caido en cada cuadrante. \n",
    "flechazos_q1 = 0\n",
    "flechazos_q2 = 0\n",
    "flechazos_q3 = 0\n",
    "flechazos_q4 = 0\n",
    "flechazos_ejes = 0\n",
    "for i in range(len(puntos)):\n",
    "    if puntos[i][0] > 0 and puntos[i][1] > 0:\n",
    "        flechazos_q1 +=1\n",
    "    elif puntos[i][0] < 0 and puntos[i][1] > 0:\n",
    "        flechazos_q2 +=1\n",
    "    elif puntos[i][0] < 0 and puntos[i][1] < 0:\n",
    "        flechazos_q3 +=1\n",
    "    elif puntos[i][0] > 0 and puntos[i][1] < 0:\n",
    "        flechazos_q4 +=1\n",
    "    else:\n",
    "        flechazos_ejes +=1\n",
    "print(f'{flechazos_q1} flechazos en el cuadrante 1')\n",
    "print(f'{flechazos_q2} flechazos en el cuadrante 2')\n",
    "print(f'{flechazos_q3} flechazos en el cuadrante 3')\n",
    "print(f'{flechazos_q4} flechazos en el cuadrante 4')\n",
    "print(f'{flechazos_ejes} flechazos en los ejes o centro')\n",
    "\n",
    "\n",
    "# 3. Halla el punto más cercano al centro. Calcula su distancia al centro\n",
    "# Definir una función que calcula la distancia al centro puede servir de ayuda. \n",
    "def distancia_centro(x,y):\n",
    "    import numpy as np\n",
    "    return(np.sqrt(x*x + y*y))\n",
    "dist_centro = []\n",
    "for i in range(len(puntos)):\n",
    "    dist_centro.append(distancia_centro(puntos[i][0],puntos[i][1]))\n",
    "\n",
    "punto_cercano = puntos[dist_centro.index(min(dist_centro))] #obtengo el punto de la lista \"puntos\" calculando el indice de la lista \"dist_centro\" con el menor valor\n",
    "distancia_centro_punto_cercano = distancia_centro(punto_cercano[0],punto_cercano[1])\n",
    "print(f'El punto más cercano al centro es el punto {punto_cercano} con una dsitancia al centro de {distancia_centro_punto_cercano}')\n",
    "\n",
    "    \n",
    "\n",
    "\n",
    "\n",
    "# 4. Si la diana tiene un radio de 9, calcula el número de flechas que hay que recoger al bosque. \n",
    "flechas_bosque = 0\n",
    "for dist in dist_centro:\n",
    "    if dist > 9:\n",
    "        flechas_bosque +=1\n",
    "print(f'{flechas_bosque} flechas no han dado en la diana')\n",
    "\n"
   ]
  },
  {
   "cell_type": "code",
   "execution_count": null,
   "metadata": {},
   "outputs": [],
   "source": []
  }
 ],
 "metadata": {
  "kernelspec": {
   "display_name": "Python 3",
   "language": "python",
   "name": "python3"
  },
  "language_info": {
   "codemirror_mode": {
    "name": "ipython",
    "version": 3
   },
   "file_extension": ".py",
   "mimetype": "text/x-python",
   "name": "python",
   "nbconvert_exporter": "python",
   "pygments_lexer": "ipython3",
   "version": "3.9.5"
  }
 },
 "nbformat": 4,
 "nbformat_minor": 2
}
