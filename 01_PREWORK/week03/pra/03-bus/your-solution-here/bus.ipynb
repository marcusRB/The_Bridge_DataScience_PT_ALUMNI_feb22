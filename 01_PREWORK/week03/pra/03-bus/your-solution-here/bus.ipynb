{
 "cells": [
  {
   "cell_type": "markdown",
   "metadata": {},
   "source": [
    "# Bus\n",
    "\n",
    "Este bus tiene un sistema de control de subida y bajada de pasajeros para monitorizar el número de ocupantes que lleva y así detectar cuando hay un aforo demasiado alto. \n",
    "\n",
    "En cada parada la subida y bajada de pasajeros se representa por una tupla compuesta por dos números enteros. \n",
    "```\n",
    "bus_stop = (in, out)\n",
    "```\n",
    "La sucesión de paradas se representa con una lista estas tuplas.\n",
    "```\n",
    "stops = [(in1, out1), (in2, out2), (in3, out3), (in4, out4)]\n",
    "```\n",
    "\n",
    "## Objetivos: \n",
    "* listas, tuplas\n",
    "* bucles while/for\n",
    "* mínimo, máximo, longitud\n",
    "* media, desviación estandard\n",
    "\n",
    "## Tareas\n",
    "1. Calcula el número de paradas. \n",
    "2. Asigna a una variable una lista cuyos elementos sean el número de pasajeros en cada parada (in-out), \n",
    "3. Halla el máximo de ocupación del autobús. \n",
    "4. Calcula la media de la ocupación. Y la desviación estandard. \n"
   ]
  },
  {
   "cell_type": "code",
   "execution_count": null,
   "metadata": {},
   "outputs": [],
   "source": [
    "stops = [(10, 0), (4, 1), (3, 5), (3, 4), (5, 1), (1, 5), (5, 8), (4, 6), (2, 3)]\n",
    "\n",
    "# 1. Calcula el número de paradas. \n",
    "num_paradas=len(stops)\n",
    "print(f\"El numero de paradas del bus es: {num_paradas}\")\n",
    "\n",
    "# 2. Asigna a una variable una lista cuyos elementos sean el número de pasajeros en \n",
    "# cada parada: Cada elemento depende del elemento previo en la lista + in - out.  \n",
    "pasajeros=[stops[0][0]-stops[0][1]]\n",
    "print(pasajeros)\n",
    "for i in range(1,num_paradas):\n",
    "    pasajeros.append(pasajeros[i-1]+(stops[i][0]-stops[i][1]))\n",
    "    \n",
    "print(pasajeros)\n",
    "\n",
    "# 3. Halla el máximo de ocupación del autobús. \n",
    "num_max_pasajeros=max(pasajeros)\n",
    "print(f\" El máximo de ocupación ha sido: {num_max_pasajeros} \")\n",
    "\n",
    "# 4. Calcula la media de la ocupación. Y la desviación estandard. \n",
    "# 4.1. Forma 1:\n",
    "import numpy as np\n",
    "media=np.mean(pasajeros)\n",
    "desviacion_std=np.std(pasajeros)\n",
    "# 4.2. Forma 2:\n",
    "media2=sum(pasajeros)/num_paradas\n",
    "cuadrado=[]\n",
    "for i in range(0,num_paradas):\n",
    "    cuadrado.append((pasajeros[i]-media2)**2)\n",
    "desviacion_std2=(sum(cuadrado)/num_paradas)**(1/2)\n",
    "# Comparacion: \n",
    "print(f\" MEDIA. Numpy: {media}; a mano {media2}\")\n",
    "print(f\" DESVIACION. Numpy: {desviacion_std}; a mano {desviacion_std2}\")\n",
    "\n"
   ]
  },
  {
   "cell_type": "code",
   "execution_count": null,
   "metadata": {},
   "outputs": [],
   "source": []
  }
 ],
 "metadata": {
  "kernelspec": {
   "display_name": "Python 3",
   "language": "python",
   "name": "python3"
  },
  "language_info": {
   "codemirror_mode": {
    "name": "ipython",
    "version": 3
   },
   "file_extension": ".py",
   "mimetype": "text/x-python",
   "name": "python",
   "nbconvert_exporter": "python",
   "pygments_lexer": "ipython3",
   "version": "3.6.7"
  }
 },
 "nbformat": 4,
 "nbformat_minor": 2
}
