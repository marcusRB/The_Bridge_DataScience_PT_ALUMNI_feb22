{
 "cells": [
  {
   "cell_type": "markdown",
   "metadata": {},
   "source": [
    "# Temperatura del procesador\n",
    "\n",
    "Tenemos un sensor de temperatura en el procesador el servidor de nuestra empresa. Queremos analizar los datos proporcionados para analizar si debemos cambiar de sistema de refrigeración por uno mejor. Es caro y como analista de datos no podemos tomar decisiones sin base. \n",
    "\n",
    "Proporcionamos las temperaturas medidas a lo largo de las 24 horas de un día en una estructura de datos tipo lista compuesta de 24 números enteros: \n",
    "```\n",
    "temperaturas_C = [33,66,65,0,59,60,62,64,70,76,80,69,80,83,68,79,61,53,50,49,53,48,45,39]\n",
    "```"
   ]
  },
  {
   "cell_type": "markdown",
   "metadata": {},
   "source": [
    "## Gráfica de temperaturas\n",
    "Para facilitar el entendimiento se te muestra a continuación la gráfica de temperatura. No tienes que hacer nada en este apartado. La prueba empieza en **Problema**. "
   ]
  },
  {
   "cell_type": "code",
   "execution_count": 1,
   "metadata": {},
   "outputs": [],
   "source": [
    "# eje x, eje y\n",
    "y = [33,66,65,0,59,60,62,64,70,76,80,69,80,83,68,79,61,53,50,49,53,48,45,39]\n",
    "x = list(range(len(y)))"
   ]
  },
  {
   "cell_type": "code",
   "execution_count": 2,
   "metadata": {},
   "outputs": [
    {
     "data": {
      "text/plain": [
       "[0,\n",
       " 1,\n",
       " 2,\n",
       " 3,\n",
       " 4,\n",
       " 5,\n",
       " 6,\n",
       " 7,\n",
       " 8,\n",
       " 9,\n",
       " 10,\n",
       " 11,\n",
       " 12,\n",
       " 13,\n",
       " 14,\n",
       " 15,\n",
       " 16,\n",
       " 17,\n",
       " 18,\n",
       " 19,\n",
       " 20,\n",
       " 21,\n",
       " 22,\n",
       " 23]"
      ]
     },
     "execution_count": 2,
     "metadata": {},
     "output_type": "execute_result"
    }
   ],
   "source": [
    "x"
   ]
  },
  {
   "cell_type": "code",
   "execution_count": 3,
   "metadata": {},
   "outputs": [
    {
     "data": {
      "text/plain": [
       "Text(0.5, 1.0, 'Temperaturas de nuestro servidor a lo largo del día')"
      ]
     },
     "execution_count": 3,
     "metadata": {},
     "output_type": "execute_result"
    },
    {
     "data": {
      "image/png": "[encoded data removed]",
      "text/plain": [
       "<Figure size 432x288 with 1 Axes>"
      ]
     },
     "metadata": {
      "needs_background": "light"
     },
     "output_type": "display_data"
    }
   ],
   "source": [
    "# imports\n",
    "import matplotlib.pyplot as plt\n",
    "%matplotlib inline\n",
    "\n",
    "# eje x, eje y\n",
    "y = [33,66,65,0,59,60,62,64,70,76,80,69,80,83,68,79,61,53,50,49,53,48,45,39]\n",
    "x = list(range(len(y)))\n",
    "\n",
    "# imprimir figura\n",
    "plt.plot(x, y)\n",
    "plt.axhline(y=70, linewidth=1, color='r')\n",
    "plt.xlabel('horas')\n",
    "plt.ylabel('Temperatura ºC')\n",
    "plt.title('Temperaturas de nuestro servidor a lo largo del día')"
   ]
  },
  {
   "cell_type": "markdown",
   "metadata": {},
   "source": [
    "## Problema\n",
    "\n",
    "Si el sensor detecta más de 4 horas con temperaturas mayores o igual que 70ºC o alguna temperatura superior a 80ºC o la media fuera superior a 65ºC a lo largo de todo el día, deberemos dar la orden de cambiar el sistema de refrigeración para evitar dañar el procesador. \n",
    "\n",
    "Te vamos a guiar paso a paso para que puedas tomar la decisión calculando algunos pasos intermedios: \n",
    "\n",
    "1. Temperatura mínima\n",
    "2. Temperatura máxima\n",
    "3. Temperaturas igual o superior a 70ºC\n",
    "4. Media de temperaturas a lo largo del día. \n",
    "5. Si hubiera un fallo en el sensor a las 03:00 y no capturáramos el dato, ¿Cómo estímarias el valor que nos falta? Corrige ese valor en la lista de temperaturas. \n",
    "6. Bonus: Nuestro personal de mantenimiento es de Estados Unidos y no entiende el sistema métrico internacional. Pása las temperaturas a Grados Fahrenheit.\n",
    "\n",
    "Fórmula: F = 1.8 * C + 32\n",
    "\n",
    "web: https://es.wikipedia.org/wiki/Grado_Fahrenheit"
   ]
  },
  {
   "cell_type": "code",
   "execution_count": 11,
   "metadata": {},
   "outputs": [
    {
     "name": "stdout",
     "output_type": "stream",
     "text": [
      "La temepratura mínima es 0\n",
      "La temepratura máxima es 90\n",
      "La media de temperaturas es 60.25\n",
      "[91.4, 150.8, 149.0, 143.60000000000002, 138.2, 140.0, 143.60000000000002, 147.2, 158.0, 168.8, 176.0, 177.8, 176.0, 181.4, 194.0, 174.20000000000002, 141.8, 127.4, 122.0, 120.2, 127.4, 118.4, 113.0, 102.2]\n"
     ]
    }
   ],
   "source": [
    "# asigna a una variable la lista de temperaturas\n",
    "temperaturas_C = [33,66,65,0,59,60,62,64,70,76,80,81,80,83,90,79,61,53,50,49,53,48,45,39]\n",
    "\n",
    "# 1. Calcula el minimo de la lista e imprime el valor con print()\n",
    "min_temp = min(temperaturas_C)\n",
    "print(f'La temepratura mínima es {min_temp}')\n",
    "\n",
    "\n",
    "# 2. Calcula el máximo de la lista e imprime el valor con print()\n",
    "max_temp = max(temperaturas_C)\n",
    "print(f'La temepratura máxima es {max_temp}')\n",
    "\n",
    "# 3. Elementos de la lista que son mayores que 70ºC e imprime el resultado\n",
    "temp_max_70 = 0 #contador de elementos con valor mayor de 70\n",
    "for i in range(len(temperaturas_C)):\n",
    "    if temperaturas_C[i] >= 70: #en el enunciado pone mayor o igual\n",
    "        temp_max_70 +=1\n",
    "# Estoy casi seguro que se puede hacer directamente sin el for,\n",
    "# pero no sé como hacerlo...\n",
    "\n",
    "\n",
    "# 4. cálculo de la media de temperaturas a lo largo del día e imprime resultado\n",
    "media_temp = sum(temperaturas_C)/len(y)\n",
    "print(f'La media de temperaturas es {media_temp}')\n",
    "\n",
    "# 5.1 Soluciona el fallo en el sensor estimando un valor\n",
    "# para solucionar el fallo haría la interpolación entre el valor previo\n",
    "# y el posterior al fallo, como la distancia entre puntos es unitaria, \n",
    "# la interpolación es sencilla\n",
    "temp_3am = temperaturas_C[4] - ((temperaturas_C[4]-temperaturas_C[2])/2)\n",
    "# 5.2 Actualización del valor estimado a las 03:00 en la lista\n",
    "temperaturas_C[3]=temp_3am\n",
    "\n",
    "# Bonus: pasar la lista de ºC a grados Farenheit\n",
    "temperaturas_F = list(range(len(temperaturas_C)))\n",
    "for i in range(len(temperaturas_C)):\n",
    "    temperaturas_F[i] = float((1.8*temperaturas_C[i] + 32))\n",
    "print(temperaturas_F)\n"
   ]
  },
  {
   "cell_type": "markdown",
   "metadata": {},
   "source": [
    "## Toma la decisión\n",
    "Recuerda que si el sensor detecta más de 4 horas con temperaturas mayores o igual que 70ºC o alguna temperatura superior a 80ºC o la media fuera superior a 65ºC a lo largo de todo el día, deberemos dar la orden de cambiar el sistema de refrigeración para evitar el peligro de dañar el equipamiento: \n",
    "* más de 4 horas con temperaturas mayores o igual que 70ºC\n",
    "* alguna temperatura superior a 80ºC\n",
    "* media fuera superior a 65ºC a lo largo de todo el día\n",
    "Si se cumple alguna de estas tres habrá que cambiar el sistema de refrigeración. "
   ]
  },
  {
   "cell_type": "code",
   "execution_count": 14,
   "metadata": {},
   "outputs": [
    {
     "name": "stdout",
     "output_type": "stream",
     "text": [
      "Cambiaría el sistema de refrigeración\n"
     ]
    }
   ],
   "source": [
    "# Imprime True o False en función de si cambiarías el sistema de refrigeración o no\n",
    "if temp_max_70 >= 4 or max_temp > 80 or media_temp > 65:\n",
    "    print('Cambiaría el sistema de refrigeración')\n",
    "else:\n",
    "    print('No cambiaría el sistema de refrigeración')"
   ]
  },
  {
   "cell_type": "markdown",
   "metadata": {},
   "source": [
    "## Objetivos\n",
    "\n",
    "1. Tratamiento de listas\n",
    "2. Uso de bucle o list comprenhention\n",
    "3. Cálculo de la media, minimo y máximo. \n",
    "4. Filtrado de listas. \n",
    "5. Interpolar un valor atípico. \n",
    "6. Operadores lógicos. \n",
    "7. Imprimir por consola"
   ]
  },
  {
   "cell_type": "code",
   "execution_count": null,
   "metadata": {},
   "outputs": [],
   "source": []
  },
  {
   "cell_type": "code",
   "execution_count": null,
   "metadata": {},
   "outputs": [],
   "source": []
  }
 ],
 "metadata": {
  "kernelspec": {
   "display_name": "Python 3",
   "language": "python",
   "name": "python3"
  },
  "language_info": {
   "codemirror_mode": {
    "name": "ipython",
    "version": 3
   },
   "file_extension": ".py",
   "mimetype": "text/x-python",
   "name": "python",
   "nbconvert_exporter": "python",
   "pygments_lexer": "ipython3",
   "version": "3.9.5"
  }
 },
 "nbformat": 4,
 "nbformat_minor": 4
}
