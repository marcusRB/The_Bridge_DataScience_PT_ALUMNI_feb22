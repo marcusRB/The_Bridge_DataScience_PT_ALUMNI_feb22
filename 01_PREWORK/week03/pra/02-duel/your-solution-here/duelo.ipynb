{
 "cells": [
  {
   "cell_type": "markdown",
   "metadata": {},
   "source": [
    "# Duelo de magos\n",
    "Estás presenciando una batalla épica entre dos poderosos magos: Gandalf y Saruman. Cada mago tiene 10 hechizos de potencia variable en su mente y los van a lanzar uno tras otro. El ganador del duelo será el que gane más de esos choques entre hechizos. Los hechizos se representan como una lista de 10 números enteros cuyo valor equivale a la potencia del hechizo. \n",
    "```\n",
    "gandalf = [10, 11, 13, 30, 22, 11, 10, 33, 22, 22]\n",
    "saruman = [23, 66, 12, 43, 12, 10, 44, 23, 12, 17]\n",
    "```\n",
    "Por ejemplo: \n",
    "1. El primer choque lo gana Saruman: 10 contra 23, gana el 23\n",
    "2. El segundo choque gana Saruman: 11 contra 66, gana el 66\n",
    "3. etc.\n",
    "\n",
    "\n",
    "Vas a crear dos variables, una por cada mago, donde se almacenarán la suma de choques de hechizos ganados. En función de qué variable sea mayor al final del duelo, mostrarás por pantalla uno de los tres siguientes resultados: \n",
    "* Gandalf gana\n",
    "* Saruman gana\n",
    "* Empate\n",
    "\n",
    "\n",
    "1. El primer choque lo gana Saruman: 10 contra 23, gana el 23\n",
    "2. El segundo choque gana Saruman: 11 contra 66, gana el 66\n",
    "3. etc."
   ]
  },
  {
   "cell_type": "markdown",
   "metadata": {},
   "source": [
    "## Solución"
   ]
  },
  {
   "cell_type": "code",
   "execution_count": 3,
   "metadata": {},
   "outputs": [
    {
     "name": "stdout",
     "output_type": "stream",
     "text": [
      "El choque 1 lo gana saruman: 23 contra 10, gana el 23\n",
      "El choque 2 lo gana saruman: 66 contra 11, gana el 66\n",
      "El choque 3 lo gana gandalf: 13 contra 12, gana el 13\n",
      "El choque 4 lo gana saruman: 43 contra 30, gana el 43\n",
      "El choque 5 lo gana gandalf: 22 contra 12, gana el 22\n",
      "El choque 6 lo gana gandalf: 11 contra 10, gana el 11\n",
      "El choque 7 lo gana saruman: 44 contra 10, gana el 44\n",
      "El choque 8 lo gana gandalf: 33 contra 23, gana el 33\n",
      "El choque 9 lo gana gandalf: 22 contra 12, gana el 22\n",
      "El choque 10 lo gana gandalf: 22 contra 17, gana el 22\n",
      "Gandalf gana\n"
     ]
    }
   ],
   "source": [
    "# Asignamos las listas de hechizos a variables\n",
    "gandalf = [10, 11, 13, 30, 22, 11, 10, 33, 22, 22]\n",
    "saruman = [23, 66, 12, 43, 12, 10, 44, 23, 12, 17]\n",
    "\n",
    "# Asignamos 0 a cada variable que almacena las victorias\n",
    "gandalf_win = 0\n",
    "saruman_win = 0\n",
    "\n",
    "# Ejecución de los choques de hechizos\n",
    "# No se como crear la secuencia para que en lugar de poner choque 1, escriba primer choque...\n",
    "for i in range(len(gandalf)):\n",
    "    if gandalf[i]>saruman[i]:\n",
    "       gandalf_win +=1\n",
    "       print(f'El choque {i +1} lo gana gandalf: {gandalf[i]} contra {saruman[i]}, gana el {gandalf[i]}' )\n",
    "    elif gandalf[i]<saruman[i]:\n",
    "        saruman_win +=1\n",
    "        print(f'El choque {i+1} lo gana saruman: {saruman[i]} contra {gandalf[i]}, gana el {saruman[i]}' )\n",
    "    else:\n",
    "        gandalf_win = gandalf_win\n",
    "        saruman_win = saruman_win\n",
    "        print(f'El choque {i +1} queda empate: {saruman[i]} contra {gandalf[i]}, son iguales' )\n",
    "    \n",
    "\n",
    "# Comprobamos quién ha ganado, no olvides la posibilidad de empate. \n",
    "\n",
    "# Imprime el resultado en función del ganador. \n",
    "if gandalf_win > saruman_win:\n",
    "    print('Gandalf gana')\n",
    "elif gandalf_win < saruman_win:\n",
    "    print('Saruman gana')\n",
    "else:\n",
    "    print('Empate')\n"
   ]
  },
  {
   "cell_type": "markdown",
   "metadata": {},
   "source": [
    "## Objetivos\n",
    "\n",
    "1. Tratamiento de listas\n",
    "2. Uso de bucle **for**\n",
    "3. Uso de condicionales **if-elif-else**\n",
    "4. Uso de las funciones **range(), len()**\n",
    "5. Imprimir por consola"
   ]
  },
  {
   "cell_type": "code",
   "execution_count": null,
   "metadata": {},
   "outputs": [],
   "source": []
  }
 ],
 "metadata": {
  "kernelspec": {
   "display_name": "Python 3",
   "language": "python",
   "name": "python3"
  },
  "language_info": {
   "codemirror_mode": {
    "name": "ipython",
    "version": 3
   },
   "file_extension": ".py",
   "mimetype": "text/x-python",
   "name": "python",
   "nbconvert_exporter": "python",
   "pygments_lexer": "ipython3",
   "version": "3.9.5"
  }
 },
 "nbformat": 4,
 "nbformat_minor": 2
}
